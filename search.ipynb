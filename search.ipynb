{
 "nbformat": 4,
 "nbformat_minor": 0,
 "metadata": {
  "colab": {
   "private_outputs": true,
   "provenance": []
  },
  "kernelspec": {
   "name": "python3",
   "display_name": "Python 3"
  },
  "language_info": {
   "name": "python"
  }
 },
 "cells": [
  {
   "cell_type": "markdown",
   "metadata": {
    "id": "view-in-github"
   },
   "source": [
    "<a href=\"https://colab.research.google.com/github/govind17/Information-Retrieval-Project/blob/main/LDA_feature.ipynb\" target=\"_parent\"><img src=\"https://colab.research.google.com/assets/colab-badge.svg\" alt=\"Open In Colab\"/></a>"
   ]
  },
  {
   "cell_type": "code",
   "execution_count": 1,
   "outputs": [],
   "source": [
    "import pyterrier as pt\n",
    "import os"
   ],
   "metadata": {
    "collapsed": false
   }
  },
  {
   "cell_type": "code",
   "execution_count": 2,
   "outputs": [
    {
     "name": "stderr",
     "output_type": "stream",
     "text": [
      "PyTerrier 0.9.1 has loaded Terrier 5.7 (built by craigm on 2022-11-10 18:30) and terrier-helper 0.0.7\n",
      "\n"
     ]
    }
   ],
   "source": [
    "\n",
    "if not pt.started():\n",
    "    pt.init()\n",
    "\n",
    "cord19 = pt.datasets.get_dataset('irds:cord19/trec-covid')\n",
    "pt_index_path = 'C:/Users/Pritha/Desktop/SUBJECTS/PROJECT/Relevance feedback with XAI/Backend Code/Information-Retrieval-Project/terrier_cord19'\n",
    "if not os.path.exists(pt_index_path + \"/data.properties\"):\n",
    "    # create the index, using the IterDictIndexer indexer\n",
    "    indexer = pt.index.IterDictIndexer(pt_index_path)\n",
    "    # we give the dataset get_corpus_iter() directly to the indexer\n",
    "    # while specifying the fields to index and the metadata to record\n",
    "    index_ref = indexer.index(cord19.get_corpus_iter(),\n",
    "                              fields=('abstract',),\n",
    "                              meta=('docno',))\n",
    "else:\n",
    "    # if you already have the index, use it.\n",
    "    index_ref = pt.IndexRef.of(pt_index_path + \"/data.properties\")\n",
    "    index = pt.IndexFactory.of(index_ref)\n"
   ],
   "metadata": {
    "id": "ZqTjeAaDs9aI"
   }
  },
  {
   "cell_type": "code",
   "execution_count": 4,
   "outputs": [
    {
     "name": "stderr",
     "output_type": "stream",
     "text": [
      "C:\\Users\\Pritha\\anaconda3\\lib\\site-packages\\transformers\\models\\t5\\tokenization_t5.py:163: FutureWarning: This tokenizer was incorrectly instantiated with a model max length of 512 which will be corrected in Transformers v5.\n",
      "For now, this behavior is kept to avoid breaking backwards compatibility when padding/encoding with `truncation is True`.\n",
      "- Be aware that you SHOULD NOT rely on t5-base automatically truncating your input to 512 when padding/encoding.\n",
      "- If you want to encode/pad to sequences longer than 512 you can either instantiate this tokenizer with `model_max_length` or pass `max_length` when encoding/padding.\n",
      "- To avoid this warning, please instantiate this tokenizer with `model_max_length` set to your preferred value.\n",
      "  warnings.warn(\n",
      "monoT5:   0%|          | 0/3 [00:00<?, ?batches/s]Token indices sequence length is longer than the specified maximum sequence length for this model (721 > 512). Running this sequence through the model will result in indexing errors\n",
      "monoT5: 100%|██████████| 3/3 [00:12<00:00,  4.19s/batches]\n"
     ]
    },
    {
     "name": "stdout",
     "output_type": "stream",
     "text": [
      "Index(['docno', 'title', 'abstract_x', 'summary', 'key_phrases', 'qid',\n",
      "       'docid', 'query', 'abstract_y', 'score', 'rank'],\n",
      "      dtype='object')\n",
      "Index(['docno', 'title', 'abstract', 'summary', 'KeyList'], dtype='object')\n",
      "\n",
      "\n",
      "\n",
      "\n",
      "\n",
      "\n",
      "\n",
      "\n",
      "\n",
      "\n",
      "\n",
      "\n",
      "\n",
      "\n",
      "\n",
      "\n",
      "\n",
      "\n",
      "\n",
      "\n",
      "\n",
      "\n",
      "\n",
      "\n",
      "\n",
      "\n",
      "\n",
      "\n",
      "\n",
      "\n",
      "\n",
      "\n",
      "\n",
      "\n",
      "\n",
      "\n",
      "\n",
      "\n",
      "\n",
      "\n",
      "\n",
      "\n",
      "\n",
      "\n",
      "\n",
      "\n",
      "\n",
      "\n",
      "\n",
      "\n",
      "      docno                                              title  \\\n",
      "0  awitk3se  COVID-19 (Novel Coronavirus 2019) - recent tre...   \n",
      "1  s4dqx9en  Plasma Metabolomic and Lipidomic Alterations A...   \n",
      "2  u56ydlve  The impact of believing you have had COVID-19 ...   \n",
      "3  3kmxzbm7  COVID-19 (Novel Coronavirus 2019) - recent trends   \n",
      "4  l2rmmjqb  Validation of the British Society of Thoracic ...   \n",
      "5  zub7xdi9  Comparison of the computed tomography findings...   \n",
      "6  rxd08ouk  Cognitive, Affective, and Behavioral Construct...   \n",
      "7  448tamvr  Validation of the British Society of Thoracic ...   \n",
      "8  eyelcflh  Cognitive, Affective, and Behavioral Construct...   \n",
      "9  1loqavom  Stability Analysis and Numerical Simulation of...   \n",
      "\n",
      "                                            abstract  \\\n",
      "0  The World Health Organization (WHO) has issued...   \n",
      "1  The pandemic of the coronavirus disease 2019 (...   \n",
      "2  Objectives: To investigate whether people who ...   \n",
      "3  The World Health Organization (WHO) has issued...   \n",
      "4  AIM: To validate the British Society of Thorac...   \n",
      "5  OBJECTIVES: To compare the chest computed tomo...   \n",
      "6  This online survey study aimed to compare the ...   \n",
      "7  Abstract Aim To validate the British Society o...   \n",
      "8  This online survey study aimed to compare the ...   \n",
      "9  The Aim of this research is construct the SEIR...   \n",
      "\n",
      "                                             summary  \\\n",
      "0  COVID-19 is similar to Severe Acute Respirator...   \n",
      "1  COVID-19 is marked by its rapid progression fr...   \n",
      "2  The impact of believing you have had COVID-19 ...   \n",
      "3  COVID-19 is similar to Severe Acute Respirator...   \n",
      "4  Validation of the British Society of Thoracic ...   \n",
      "5  Comparison of the computed tomography findings...   \n",
      "6  In total, 533 sexual minority and 1421 heteros...   \n",
      "7  Validation of the British Society of Thoracic ...   \n",
      "8  In total, 533 sexual minority and 1421 heteros...   \n",
      "9  Stability Analysis and Numerical Simulation of...   \n",
      "\n",
      "                                             KeyList  \n",
      "0  [covid-19, sars-cov, similar, severe acute res...  \n",
      "1  [covid-19, lipid alterations, severe condition...  \n",
      "2  [covid-19, people, social distancing measures,...  \n",
      "3  [covid-19, sars-cov, similar, severe acute res...  \n",
      "4  [covid-19, patients, covid-19 chest radiograph...  \n",
      "5  [covid-19, ggo, bilateral distribution, lower ...  \n",
      "6  [covid-19, sexual minority, heterosexual indiv...  \n",
      "7  [covid-19, patients, covid-19 chest radiograph...  \n",
      "8  [covid-19, sexual minority, heterosexual indiv...  \n",
      "9  [pandemic covid-19, seir model, stability anal...  \n"
     ]
    },
    {
     "data": {
      "text/plain": "      docno                                              title  \\\n0  awitk3se  COVID-19 (Novel Coronavirus 2019) - recent tre...   \n1  s4dqx9en  Plasma Metabolomic and Lipidomic Alterations A...   \n2  u56ydlve  The impact of believing you have had COVID-19 ...   \n3  3kmxzbm7  COVID-19 (Novel Coronavirus 2019) - recent trends   \n4  l2rmmjqb  Validation of the British Society of Thoracic ...   \n5  zub7xdi9  Comparison of the computed tomography findings...   \n6  rxd08ouk  Cognitive, Affective, and Behavioral Construct...   \n7  448tamvr  Validation of the British Society of Thoracic ...   \n8  eyelcflh  Cognitive, Affective, and Behavioral Construct...   \n9  1loqavom  Stability Analysis and Numerical Simulation of...   \n\n                                          abstract_x  \\\n0  The World Health Organization (WHO) has issued...   \n1  The pandemic of the coronavirus disease 2019 (...   \n2  Objectives: To investigate whether people who ...   \n3  The World Health Organization (WHO) has issued...   \n4  AIM: To validate the British Society of Thorac...   \n5  OBJECTIVES: To compare the chest computed tomo...   \n6  This online survey study aimed to compare the ...   \n7  Abstract Aim To validate the British Society o...   \n8  This online survey study aimed to compare the ...   \n9  The Aim of this research is construct the SEIR...   \n\n                                             summary  key_phrases qid   docid  \\\n0  COVID-19 is similar to Severe Acute Respirator...          NaN   1   32226   \n1  COVID-19 is marked by its rapid progression fr...          NaN   1   68320   \n2  The impact of believing you have had COVID-19 ...          NaN   1   75497   \n3  COVID-19 is similar to Severe Acute Respirator...          NaN   1   93863   \n4  Validation of the British Society of Thoracic ...          NaN   1  109749   \n5  Comparison of the computed tomography findings...          NaN   1  112383   \n6  In total, 533 sexual minority and 1421 heteros...          NaN   1  126243   \n7  Validation of the British Society of Thoracic ...          NaN   1  150199   \n8  In total, 533 sexual minority and 1421 heteros...          NaN   1  153035   \n9  Stability Analysis and Numerical Simulation of...          NaN   1  171671   \n\n   query                                         abstract_y     score  rank  \n0  covid  The World Health Organization (WHO) has issued... -0.161107     3  \n1  covid  The pandemic of the coronavirus disease 2019 (... -0.267529     5  \n2  covid  Objectives: To investigate whether people who ... -0.856843     9  \n3  covid  The World Health Organization (WHO) has issued... -0.161107     4  \n4  covid  AIM: To validate the British Society of Thorac... -0.333039     6  \n5  covid  OBJECTIVES: To compare the chest computed tomo... -0.085978     0  \n6  covid  This online survey study aimed to compare the ... -0.112808     1  \n7  covid  Abstract Aim To validate the British Society o... -0.480262     7  \n8  covid  This online survey study aimed to compare the ... -0.112808     2  \n9  covid  The Aim of this research is construct the SEIR... -0.639952     8  ",
      "text/html": "<div>\n<style scoped>\n    .dataframe tbody tr th:only-of-type {\n        vertical-align: middle;\n    }\n\n    .dataframe tbody tr th {\n        vertical-align: top;\n    }\n\n    .dataframe thead th {\n        text-align: right;\n    }\n</style>\n<table border=\"1\" class=\"dataframe\">\n  <thead>\n    <tr style=\"text-align: right;\">\n      <th></th>\n      <th>docno</th>\n      <th>title</th>\n      <th>abstract_x</th>\n      <th>summary</th>\n      <th>key_phrases</th>\n      <th>qid</th>\n      <th>docid</th>\n      <th>query</th>\n      <th>abstract_y</th>\n      <th>score</th>\n      <th>rank</th>\n    </tr>\n  </thead>\n  <tbody>\n    <tr>\n      <th>0</th>\n      <td>awitk3se</td>\n      <td>COVID-19 (Novel Coronavirus 2019) - recent tre...</td>\n      <td>The World Health Organization (WHO) has issued...</td>\n      <td>COVID-19 is similar to Severe Acute Respirator...</td>\n      <td>NaN</td>\n      <td>1</td>\n      <td>32226</td>\n      <td>covid</td>\n      <td>The World Health Organization (WHO) has issued...</td>\n      <td>-0.161107</td>\n      <td>3</td>\n    </tr>\n    <tr>\n      <th>1</th>\n      <td>s4dqx9en</td>\n      <td>Plasma Metabolomic and Lipidomic Alterations A...</td>\n      <td>The pandemic of the coronavirus disease 2019 (...</td>\n      <td>COVID-19 is marked by its rapid progression fr...</td>\n      <td>NaN</td>\n      <td>1</td>\n      <td>68320</td>\n      <td>covid</td>\n      <td>The pandemic of the coronavirus disease 2019 (...</td>\n      <td>-0.267529</td>\n      <td>5</td>\n    </tr>\n    <tr>\n      <th>2</th>\n      <td>u56ydlve</td>\n      <td>The impact of believing you have had COVID-19 ...</td>\n      <td>Objectives: To investigate whether people who ...</td>\n      <td>The impact of believing you have had COVID-19 ...</td>\n      <td>NaN</td>\n      <td>1</td>\n      <td>75497</td>\n      <td>covid</td>\n      <td>Objectives: To investigate whether people who ...</td>\n      <td>-0.856843</td>\n      <td>9</td>\n    </tr>\n    <tr>\n      <th>3</th>\n      <td>3kmxzbm7</td>\n      <td>COVID-19 (Novel Coronavirus 2019) - recent trends</td>\n      <td>The World Health Organization (WHO) has issued...</td>\n      <td>COVID-19 is similar to Severe Acute Respirator...</td>\n      <td>NaN</td>\n      <td>1</td>\n      <td>93863</td>\n      <td>covid</td>\n      <td>The World Health Organization (WHO) has issued...</td>\n      <td>-0.161107</td>\n      <td>4</td>\n    </tr>\n    <tr>\n      <th>4</th>\n      <td>l2rmmjqb</td>\n      <td>Validation of the British Society of Thoracic ...</td>\n      <td>AIM: To validate the British Society of Thorac...</td>\n      <td>Validation of the British Society of Thoracic ...</td>\n      <td>NaN</td>\n      <td>1</td>\n      <td>109749</td>\n      <td>covid</td>\n      <td>AIM: To validate the British Society of Thorac...</td>\n      <td>-0.333039</td>\n      <td>6</td>\n    </tr>\n    <tr>\n      <th>5</th>\n      <td>zub7xdi9</td>\n      <td>Comparison of the computed tomography findings...</td>\n      <td>OBJECTIVES: To compare the chest computed tomo...</td>\n      <td>Comparison of the computed tomography findings...</td>\n      <td>NaN</td>\n      <td>1</td>\n      <td>112383</td>\n      <td>covid</td>\n      <td>OBJECTIVES: To compare the chest computed tomo...</td>\n      <td>-0.085978</td>\n      <td>0</td>\n    </tr>\n    <tr>\n      <th>6</th>\n      <td>rxd08ouk</td>\n      <td>Cognitive, Affective, and Behavioral Construct...</td>\n      <td>This online survey study aimed to compare the ...</td>\n      <td>In total, 533 sexual minority and 1421 heteros...</td>\n      <td>NaN</td>\n      <td>1</td>\n      <td>126243</td>\n      <td>covid</td>\n      <td>This online survey study aimed to compare the ...</td>\n      <td>-0.112808</td>\n      <td>1</td>\n    </tr>\n    <tr>\n      <th>7</th>\n      <td>448tamvr</td>\n      <td>Validation of the British Society of Thoracic ...</td>\n      <td>Abstract Aim To validate the British Society o...</td>\n      <td>Validation of the British Society of Thoracic ...</td>\n      <td>NaN</td>\n      <td>1</td>\n      <td>150199</td>\n      <td>covid</td>\n      <td>Abstract Aim To validate the British Society o...</td>\n      <td>-0.480262</td>\n      <td>7</td>\n    </tr>\n    <tr>\n      <th>8</th>\n      <td>eyelcflh</td>\n      <td>Cognitive, Affective, and Behavioral Construct...</td>\n      <td>This online survey study aimed to compare the ...</td>\n      <td>In total, 533 sexual minority and 1421 heteros...</td>\n      <td>NaN</td>\n      <td>1</td>\n      <td>153035</td>\n      <td>covid</td>\n      <td>This online survey study aimed to compare the ...</td>\n      <td>-0.112808</td>\n      <td>2</td>\n    </tr>\n    <tr>\n      <th>9</th>\n      <td>1loqavom</td>\n      <td>Stability Analysis and Numerical Simulation of...</td>\n      <td>The Aim of this research is construct the SEIR...</td>\n      <td>Stability Analysis and Numerical Simulation of...</td>\n      <td>NaN</td>\n      <td>1</td>\n      <td>171671</td>\n      <td>covid</td>\n      <td>The Aim of this research is construct the SEIR...</td>\n      <td>-0.639952</td>\n      <td>8</td>\n    </tr>\n  </tbody>\n</table>\n</div>"
     },
     "execution_count": 4,
     "metadata": {},
     "output_type": "execute_result"
    }
   ],
   "source": [
    "import pyterrier as pt\n",
    "from pyterrier_t5 import MonoT5ReRanker\n",
    "import pandas as pd\n",
    "from keyPhrasification import key_phrasification\n",
    "\n",
    "monoT5 = MonoT5ReRanker(text_field='abstract')\n",
    "dataset = pt.datasets.get_dataset('irds:cord19/trec-covid')\n",
    "\n",
    "def search_query(query):\n",
    "  index_ref2 = pt.IndexRef.of(pt_index_path + \"/data.properties\")\n",
    "  index2 = pt.IndexFactory.of(index_ref2)\n",
    "  # print(query)\n",
    "  if not pt.started():\n",
    "      pt.init()\n",
    "  br = pt.BatchRetrieve(index2) % 10\n",
    "  pipeline = (br >> pt.text.get_text(dataset, 'abstract') >> monoT5)\n",
    "  search_result = pipeline.search(query)\n",
    "  # print(search_result)\n",
    "  cord19_docs = pd.read_csv('/Users/Pritha/Desktop/SUBJECTS/PROJECT/Relevance feedback with XAI/Backend Code/Information-Retrieval-Project/cord19_sum.csv')\n",
    "  filtered_docs = pd.merge(cord19_docs, search_result, on = \"docno\", how = \"inner\")\n",
    "  searchResultswithkeys = key_phrasification(filtered_docs)\n",
    "  print(searchResultswithkeys)\n",
    "  return filtered_docs\n",
    "\n",
    "search_query('covid')"
   ],
   "metadata": {
    "id": "K1L5hBv_s9aP"
   }
  },
  {
   "cell_type": "code",
   "execution_count": 10,
   "outputs": [
    {
     "name": "stdout",
     "output_type": "stream",
     "text": [
      "Requirement already satisfied: Flask in c:\\users\\pritha\\anaconda3\\lib\\site-packages (1.1.2)\n",
      "Collecting Flask\n",
      "  Using cached Flask-2.2.2-py3-none-any.whl (101 kB)\n",
      "Requirement already satisfied: itsdangerous>=2.0 in c:\\users\\pritha\\anaconda3\\lib\\site-packages (from Flask) (2.0.1)\n",
      "Requirement already satisfied: Jinja2>=3.0 in c:\\users\\pritha\\anaconda3\\lib\\site-packages (from Flask) (3.1.2)\n",
      "Requirement already satisfied: importlib-metadata>=3.6.0 in c:\\users\\pritha\\anaconda3\\lib\\site-packages (from Flask) (4.8.1)\n",
      "Requirement already satisfied: click>=8.0 in c:\\users\\pritha\\anaconda3\\lib\\site-packages (from Flask) (8.0.3)\n",
      "Collecting Werkzeug>=2.2.2\n",
      "  Using cached Werkzeug-2.2.2-py3-none-any.whl (232 kB)\n",
      "Requirement already satisfied: colorama in c:\\users\\pritha\\anaconda3\\lib\\site-packages (from click>=8.0->Flask) (0.4.4)\n",
      "Requirement already satisfied: zipp>=0.5 in c:\\users\\pritha\\anaconda3\\lib\\site-packages (from importlib-metadata>=3.6.0->Flask) (3.6.0)\n",
      "Requirement already satisfied: MarkupSafe>=2.0 in c:\\users\\pritha\\anaconda3\\lib\\site-packages (from Jinja2>=3.0->Flask) (2.1.1)\n",
      "Installing collected packages: Werkzeug, Flask\n",
      "  Attempting uninstall: Werkzeug\n",
      "    Found existing installation: Werkzeug 2.0.2\n",
      "    Uninstalling Werkzeug-2.0.2:\n",
      "      Successfully uninstalled Werkzeug-2.0.2\n",
      "  Attempting uninstall: Flask\n",
      "    Found existing installation: Flask 1.1.2\n",
      "    Uninstalling Flask-1.1.2:\n",
      "      Successfully uninstalled Flask-1.1.2\n",
      "Successfully installed Flask-2.2.2 Werkzeug-2.2.2\n"
     ]
    }
   ],
   "source": [
    "!pip install -U Flask"
   ],
   "metadata": {
    "collapsed": false
   }
  },
  {
   "cell_type": "code",
   "execution_count": 13,
   "outputs": [
    {
     "name": "stdout",
     "output_type": "stream",
     "text": [
      "Collecting git+https://github.com/boudinfl/pke.git\n",
      "  Cloning https://github.com/boudinfl/pke.git to c:\\users\\pritha\\appdata\\local\\temp\\pip-req-build-qn3sensy\n",
      "  Resolved https://github.com/boudinfl/pke.git to commit 8f1d05dcc52041c9920ba0f9d5231fe6086d12c4\n",
      "  Preparing metadata (setup.py): started\n",
      "  Preparing metadata (setup.py): finished with status 'done'\n",
      "Requirement already satisfied: nltk in c:\\users\\pritha\\anaconda3\\lib\\site-packages (from pke==2.0.0) (3.6.5)\n",
      "Requirement already satisfied: networkx in c:\\users\\pritha\\anaconda3\\lib\\site-packages (from pke==2.0.0) (2.6.3)\n",
      "Requirement already satisfied: numpy in c:\\users\\pritha\\anaconda3\\lib\\site-packages (from pke==2.0.0) (1.20.3)\n",
      "Requirement already satisfied: scipy in c:\\users\\pritha\\anaconda3\\lib\\site-packages (from pke==2.0.0) (1.7.1)\n",
      "Requirement already satisfied: scikit-learn in c:\\users\\pritha\\anaconda3\\lib\\site-packages (from pke==2.0.0) (0.24.2)\n",
      "Requirement already satisfied: unidecode in c:\\users\\pritha\\anaconda3\\lib\\site-packages (from pke==2.0.0) (1.2.0)\n",
      "Requirement already satisfied: future in c:\\users\\pritha\\anaconda3\\lib\\site-packages (from pke==2.0.0) (0.18.2)\n",
      "Requirement already satisfied: joblib in c:\\users\\pritha\\anaconda3\\lib\\site-packages (from pke==2.0.0) (1.1.1)\n",
      "Requirement already satisfied: spacy>=3.2.3 in c:\\users\\pritha\\anaconda3\\lib\\site-packages (from pke==2.0.0) (3.3.1)\n",
      "Requirement already satisfied: cymem<2.1.0,>=2.0.2 in c:\\users\\pritha\\anaconda3\\lib\\site-packages (from spacy>=3.2.3->pke==2.0.0) (2.0.6)\n",
      "Requirement already satisfied: pathy>=0.3.5 in c:\\users\\pritha\\anaconda3\\lib\\site-packages (from spacy>=3.2.3->pke==2.0.0) (0.6.1)\n",
      "Collecting pydantic!=1.8,!=1.8.1,<1.9.0,>=1.7.4\n",
      "  Downloading pydantic-1.8.2-cp39-cp39-win_amd64.whl (1.9 MB)\n"
     ]
    },
    {
     "name": "stderr",
     "output_type": "stream",
     "text": [
      "  Running command git clone --filter=blob:none --quiet https://github.com/boudinfl/pke.git 'C:\\Users\\Pritha\\AppData\\Local\\Temp\\pip-req-build-qn3sensy'\n"
     ]
    },
    {
     "name": "stdout",
     "output_type": "stream",
     "text": [
      "     ---------------------------------------- 1.9/1.9 MB 2.0 MB/s eta 0:00:00\n",
      "Requirement already satisfied: murmurhash<1.1.0,>=0.28.0 in c:\\users\\pritha\\anaconda3\\lib\\site-packages (from spacy>=3.2.3->pke==2.0.0) (1.0.7)\n",
      "Requirement already satisfied: spacy-loggers<2.0.0,>=1.0.0 in c:\\users\\pritha\\anaconda3\\lib\\site-packages (from spacy>=3.2.3->pke==2.0.0) (1.0.1)\n",
      "Requirement already satisfied: srsly<3.0.0,>=2.4.3 in c:\\users\\pritha\\anaconda3\\lib\\site-packages (from spacy>=3.2.3->pke==2.0.0) (2.4.3)\n",
      "Requirement already satisfied: preshed<3.1.0,>=3.0.2 in c:\\users\\pritha\\anaconda3\\lib\\site-packages (from spacy>=3.2.3->pke==2.0.0) (3.0.6)\n",
      "Requirement already satisfied: typer<0.5.0,>=0.3.0 in c:\\users\\pritha\\anaconda3\\lib\\site-packages (from spacy>=3.2.3->pke==2.0.0) (0.4.1)\n",
      "Requirement already satisfied: requests<3.0.0,>=2.13.0 in c:\\users\\pritha\\anaconda3\\lib\\site-packages (from spacy>=3.2.3->pke==2.0.0) (2.26.0)\n",
      "Requirement already satisfied: setuptools in c:\\users\\pritha\\anaconda3\\lib\\site-packages (from spacy>=3.2.3->pke==2.0.0) (58.0.4)\n",
      "Requirement already satisfied: blis<0.8.0,>=0.4.0 in c:\\users\\pritha\\anaconda3\\lib\\site-packages (from spacy>=3.2.3->pke==2.0.0) (0.7.7)\n",
      "Requirement already satisfied: catalogue<2.1.0,>=2.0.6 in c:\\users\\pritha\\anaconda3\\lib\\site-packages (from spacy>=3.2.3->pke==2.0.0) (2.0.7)\n",
      "Requirement already satisfied: wasabi<1.1.0,>=0.9.1 in c:\\users\\pritha\\anaconda3\\lib\\site-packages (from spacy>=3.2.3->pke==2.0.0) (0.9.1)\n",
      "Requirement already satisfied: tqdm<5.0.0,>=4.38.0 in c:\\users\\pritha\\anaconda3\\lib\\site-packages (from spacy>=3.2.3->pke==2.0.0) (4.62.3)\n",
      "Requirement already satisfied: packaging>=20.0 in c:\\users\\pritha\\anaconda3\\lib\\site-packages (from spacy>=3.2.3->pke==2.0.0) (21.3)\n",
      "Requirement already satisfied: spacy-legacy<3.1.0,>=3.0.9 in c:\\users\\pritha\\anaconda3\\lib\\site-packages (from spacy>=3.2.3->pke==2.0.0) (3.0.9)\n",
      "Requirement already satisfied: jinja2 in c:\\users\\pritha\\anaconda3\\lib\\site-packages (from spacy>=3.2.3->pke==2.0.0) (3.1.2)\n",
      "Requirement already satisfied: thinc<8.1.0,>=8.0.14 in c:\\users\\pritha\\anaconda3\\lib\\site-packages (from spacy>=3.2.3->pke==2.0.0) (8.0.15)\n",
      "Requirement already satisfied: langcodes<4.0.0,>=3.2.0 in c:\\users\\pritha\\anaconda3\\lib\\site-packages (from spacy>=3.2.3->pke==2.0.0) (3.3.0)\n",
      "Requirement already satisfied: click in c:\\users\\pritha\\anaconda3\\lib\\site-packages (from nltk->pke==2.0.0) (8.0.3)\n",
      "Requirement already satisfied: regex>=2021.8.3 in c:\\users\\pritha\\anaconda3\\lib\\site-packages (from nltk->pke==2.0.0) (2021.8.3)\n",
      "Requirement already satisfied: threadpoolctl>=2.0.0 in c:\\users\\pritha\\anaconda3\\lib\\site-packages (from scikit-learn->pke==2.0.0) (2.2.0)\n",
      "Requirement already satisfied: pyparsing!=3.0.5,>=2.0.2 in c:\\users\\pritha\\anaconda3\\lib\\site-packages (from packaging>=20.0->spacy>=3.2.3->pke==2.0.0) (3.0.4)\n",
      "Requirement already satisfied: smart-open<6.0.0,>=5.0.0 in c:\\users\\pritha\\anaconda3\\lib\\site-packages (from pathy>=0.3.5->spacy>=3.2.3->pke==2.0.0) (5.2.1)\n",
      "Requirement already satisfied: typing-extensions>=3.7.4.3 in c:\\users\\pritha\\anaconda3\\lib\\site-packages (from pydantic!=1.8,!=1.8.1,<1.9.0,>=1.7.4->spacy>=3.2.3->pke==2.0.0) (4.4.0)\n",
      "Requirement already satisfied: certifi>=2017.4.17 in c:\\users\\pritha\\anaconda3\\lib\\site-packages (from requests<3.0.0,>=2.13.0->spacy>=3.2.3->pke==2.0.0) (2022.9.24)\n",
      "Requirement already satisfied: charset-normalizer~=2.0.0 in c:\\users\\pritha\\anaconda3\\lib\\site-packages (from requests<3.0.0,>=2.13.0->spacy>=3.2.3->pke==2.0.0) (2.0.4)\n",
      "Requirement already satisfied: urllib3<1.27,>=1.21.1 in c:\\users\\pritha\\anaconda3\\lib\\site-packages (from requests<3.0.0,>=2.13.0->spacy>=3.2.3->pke==2.0.0) (1.26.7)\n",
      "Requirement already satisfied: idna<4,>=2.5 in c:\\users\\pritha\\anaconda3\\lib\\site-packages (from requests<3.0.0,>=2.13.0->spacy>=3.2.3->pke==2.0.0) (3.2)\n",
      "Requirement already satisfied: colorama in c:\\users\\pritha\\anaconda3\\lib\\site-packages (from tqdm<5.0.0,>=4.38.0->spacy>=3.2.3->pke==2.0.0) (0.4.4)\n",
      "Requirement already satisfied: MarkupSafe>=2.0 in c:\\users\\pritha\\anaconda3\\lib\\site-packages (from jinja2->spacy>=3.2.3->pke==2.0.0) (2.1.1)\n",
      "Building wheels for collected packages: pke\n",
      "  Building wheel for pke (setup.py): started\n",
      "  Building wheel for pke (setup.py): finished with status 'done'\n",
      "  Created wheel for pke: filename=pke-2.0.0-py3-none-any.whl size=6160774 sha256=a9bd6b412b16705aa0ca36f4fe171c58e3c977a734de073e2b57272dad626bea\n",
      "  Stored in directory: C:\\Users\\Pritha\\AppData\\Local\\Temp\\pip-ephem-wheel-cache-c2oi0mpj\\wheels\\d5\\46\\97\\85535b5b449f70b6a3c8d1138ce8587345876891e25bfe7954\n",
      "Successfully built pke\n",
      "Installing collected packages: pydantic, pke\n",
      "  Attempting uninstall: pydantic\n",
      "    Found existing installation: pydantic 1.10.2\n",
      "    Uninstalling pydantic-1.10.2:\n",
      "      Successfully uninstalled pydantic-1.10.2\n",
      "Successfully installed pke-2.0.0 pydantic-1.8.2\n",
      "Requirement already satisfied: matplotlib in c:\\users\\pritha\\anaconda3\\lib\\site-packages (3.4.3)\n",
      "Requirement already satisfied: python-dateutil>=2.7 in c:\\users\\pritha\\anaconda3\\lib\\site-packages (from matplotlib) (2.8.2)\n",
      "Requirement already satisfied: cycler>=0.10 in c:\\users\\pritha\\anaconda3\\lib\\site-packages (from matplotlib) (0.10.0)\n",
      "Requirement already satisfied: numpy>=1.16 in c:\\users\\pritha\\anaconda3\\lib\\site-packages (from matplotlib) (1.20.3)\n",
      "Requirement already satisfied: pillow>=6.2.0 in c:\\users\\pritha\\anaconda3\\lib\\site-packages (from matplotlib) (8.4.0)\n",
      "Requirement already satisfied: pyparsing>=2.2.1 in c:\\users\\pritha\\anaconda3\\lib\\site-packages (from matplotlib) (3.0.4)\n",
      "Requirement already satisfied: kiwisolver>=1.0.1 in c:\\users\\pritha\\anaconda3\\lib\\site-packages (from matplotlib) (1.3.1)\n",
      "Requirement already satisfied: six in c:\\users\\pritha\\anaconda3\\lib\\site-packages (from cycler>=0.10->matplotlib) (1.16.0)\n",
      "Collecting en-core-web-sm==3.3.0\n",
      "  Downloading https://github.com/explosion/spacy-models/releases/download/en_core_web_sm-3.3.0/en_core_web_sm-3.3.0-py3-none-any.whl (12.8 MB)\n",
      "     ---------------------------------------- 12.8/12.8 MB 4.9 MB/s eta 0:00:00\n",
      "Requirement already satisfied: spacy<3.4.0,>=3.3.0.dev0 in c:\\users\\pritha\\anaconda3\\lib\\site-packages (from en-core-web-sm==3.3.0) (3.3.1)\n",
      "Requirement already satisfied: packaging>=20.0 in c:\\users\\pritha\\anaconda3\\lib\\site-packages (from spacy<3.4.0,>=3.3.0.dev0->en-core-web-sm==3.3.0) (21.3)\n",
      "Requirement already satisfied: spacy-loggers<2.0.0,>=1.0.0 in c:\\users\\pritha\\anaconda3\\lib\\site-packages (from spacy<3.4.0,>=3.3.0.dev0->en-core-web-sm==3.3.0) (1.0.1)\n",
      "Requirement already satisfied: wasabi<1.1.0,>=0.9.1 in c:\\users\\pritha\\anaconda3\\lib\\site-packages (from spacy<3.4.0,>=3.3.0.dev0->en-core-web-sm==3.3.0) (0.9.1)\n",
      "Requirement already satisfied: requests<3.0.0,>=2.13.0 in c:\\users\\pritha\\anaconda3\\lib\\site-packages (from spacy<3.4.0,>=3.3.0.dev0->en-core-web-sm==3.3.0) (2.26.0)\n",
      "Requirement already satisfied: numpy>=1.15.0 in c:\\users\\pritha\\anaconda3\\lib\\site-packages (from spacy<3.4.0,>=3.3.0.dev0->en-core-web-sm==3.3.0) (1.20.3)\n",
      "Requirement already satisfied: pydantic!=1.8,!=1.8.1,<1.9.0,>=1.7.4 in c:\\users\\pritha\\anaconda3\\lib\\site-packages (from spacy<3.4.0,>=3.3.0.dev0->en-core-web-sm==3.3.0) (1.8.2)\n",
      "Requirement already satisfied: pathy>=0.3.5 in c:\\users\\pritha\\anaconda3\\lib\\site-packages (from spacy<3.4.0,>=3.3.0.dev0->en-core-web-sm==3.3.0) (0.6.1)\n",
      "Requirement already satisfied: jinja2 in c:\\users\\pritha\\anaconda3\\lib\\site-packages (from spacy<3.4.0,>=3.3.0.dev0->en-core-web-sm==3.3.0) (3.1.2)\n",
      "Requirement already satisfied: murmurhash<1.1.0,>=0.28.0 in c:\\users\\pritha\\anaconda3\\lib\\site-packages (from spacy<3.4.0,>=3.3.0.dev0->en-core-web-sm==3.3.0) (1.0.7)\n",
      "Requirement already satisfied: tqdm<5.0.0,>=4.38.0 in c:\\users\\pritha\\anaconda3\\lib\\site-packages (from spacy<3.4.0,>=3.3.0.dev0->en-core-web-sm==3.3.0) (4.62.3)\n",
      "Requirement already satisfied: typer<0.5.0,>=0.3.0 in c:\\users\\pritha\\anaconda3\\lib\\site-packages (from spacy<3.4.0,>=3.3.0.dev0->en-core-web-sm==3.3.0) (0.4.1)\n",
      "Requirement already satisfied: blis<0.8.0,>=0.4.0 in c:\\users\\pritha\\anaconda3\\lib\\site-packages (from spacy<3.4.0,>=3.3.0.dev0->en-core-web-sm==3.3.0) (0.7.7)\n",
      "Requirement already satisfied: thinc<8.1.0,>=8.0.14 in c:\\users\\pritha\\anaconda3\\lib\\site-packages (from spacy<3.4.0,>=3.3.0.dev0->en-core-web-sm==3.3.0) (8.0.15)\n",
      "Requirement already satisfied: langcodes<4.0.0,>=3.2.0 in c:\\users\\pritha\\anaconda3\\lib\\site-packages (from spacy<3.4.0,>=3.3.0.dev0->en-core-web-sm==3.3.0) (3.3.0)\n",
      "Requirement already satisfied: srsly<3.0.0,>=2.4.3 in c:\\users\\pritha\\anaconda3\\lib\\site-packages (from spacy<3.4.0,>=3.3.0.dev0->en-core-web-sm==3.3.0) (2.4.3)\n",
      "Requirement already satisfied: catalogue<2.1.0,>=2.0.6 in c:\\users\\pritha\\anaconda3\\lib\\site-packages (from spacy<3.4.0,>=3.3.0.dev0->en-core-web-sm==3.3.0) (2.0.7)\n",
      "Requirement already satisfied: cymem<2.1.0,>=2.0.2 in c:\\users\\pritha\\anaconda3\\lib\\site-packages (from spacy<3.4.0,>=3.3.0.dev0->en-core-web-sm==3.3.0) (2.0.6)\n",
      "Requirement already satisfied: setuptools in c:\\users\\pritha\\anaconda3\\lib\\site-packages (from spacy<3.4.0,>=3.3.0.dev0->en-core-web-sm==3.3.0) (58.0.4)\n",
      "Requirement already satisfied: preshed<3.1.0,>=3.0.2 in c:\\users\\pritha\\anaconda3\\lib\\site-packages (from spacy<3.4.0,>=3.3.0.dev0->en-core-web-sm==3.3.0) (3.0.6)\n",
      "Requirement already satisfied: spacy-legacy<3.1.0,>=3.0.9 in c:\\users\\pritha\\anaconda3\\lib\\site-packages (from spacy<3.4.0,>=3.3.0.dev0->en-core-web-sm==3.3.0) (3.0.9)\n",
      "Requirement already satisfied: pyparsing!=3.0.5,>=2.0.2 in c:\\users\\pritha\\anaconda3\\lib\\site-packages (from packaging>=20.0->spacy<3.4.0,>=3.3.0.dev0->en-core-web-sm==3.3.0) (3.0.4)\n",
      "Requirement already satisfied: smart-open<6.0.0,>=5.0.0 in c:\\users\\pritha\\anaconda3\\lib\\site-packages (from pathy>=0.3.5->spacy<3.4.0,>=3.3.0.dev0->en-core-web-sm==3.3.0) (5.2.1)\n",
      "Requirement already satisfied: typing-extensions>=3.7.4.3 in c:\\users\\pritha\\anaconda3\\lib\\site-packages (from pydantic!=1.8,!=1.8.1,<1.9.0,>=1.7.4->spacy<3.4.0,>=3.3.0.dev0->en-core-web-sm==3.3.0) (4.4.0)\n",
      "Requirement already satisfied: certifi>=2017.4.17 in c:\\users\\pritha\\anaconda3\\lib\\site-packages (from requests<3.0.0,>=2.13.0->spacy<3.4.0,>=3.3.0.dev0->en-core-web-sm==3.3.0) (2022.9.24)\n",
      "Requirement already satisfied: idna<4,>=2.5 in c:\\users\\pritha\\anaconda3\\lib\\site-packages (from requests<3.0.0,>=2.13.0->spacy<3.4.0,>=3.3.0.dev0->en-core-web-sm==3.3.0) (3.2)\n",
      "Requirement already satisfied: charset-normalizer~=2.0.0 in c:\\users\\pritha\\anaconda3\\lib\\site-packages (from requests<3.0.0,>=2.13.0->spacy<3.4.0,>=3.3.0.dev0->en-core-web-sm==3.3.0) (2.0.4)\n",
      "Requirement already satisfied: urllib3<1.27,>=1.21.1 in c:\\users\\pritha\\anaconda3\\lib\\site-packages (from requests<3.0.0,>=2.13.0->spacy<3.4.0,>=3.3.0.dev0->en-core-web-sm==3.3.0) (1.26.7)\n",
      "Requirement already satisfied: colorama in c:\\users\\pritha\\anaconda3\\lib\\site-packages (from tqdm<5.0.0,>=4.38.0->spacy<3.4.0,>=3.3.0.dev0->en-core-web-sm==3.3.0) (0.4.4)\n",
      "Requirement already satisfied: click<9.0.0,>=7.1.1 in c:\\users\\pritha\\anaconda3\\lib\\site-packages (from typer<0.5.0,>=0.3.0->spacy<3.4.0,>=3.3.0.dev0->en-core-web-sm==3.3.0) (8.0.3)\n",
      "Requirement already satisfied: MarkupSafe>=2.0 in c:\\users\\pritha\\anaconda3\\lib\\site-packages (from jinja2->spacy<3.4.0,>=3.3.0.dev0->en-core-web-sm==3.3.0) (2.1.1)\n",
      "Installing collected packages: en-core-web-sm\n",
      "Successfully installed en-core-web-sm-3.3.0\n",
      "[+] Download and installation successful\n",
      "You can now load the package via spacy.load('en_core_web_sm')\n"
     ]
    },
    {
     "name": "stderr",
     "output_type": "stream",
     "text": [
      "2022-12-12 22:47:58.662787: W tensorflow/stream_executor/platform/default/dso_loader.cc:64] Could not load dynamic library 'cudart64_110.dll'; dlerror: cudart64_110.dll not found\n",
      "2022-12-12 22:47:58.663095: I tensorflow/stream_executor/cuda/cudart_stub.cc:29] Ignore above cudart dlerror if you do not have a GPU set up on your machine.\n"
     ]
    }
   ],
   "source": [
    "!pip install git+https://github.com/boudinfl/pke.git\n",
    "!pip install matplotlib\n",
    "!python -m spacy download en_core_web_sm"
   ],
   "metadata": {
    "collapsed": false
   }
  },
  {
   "cell_type": "code",
   "execution_count": 6,
   "outputs": [],
   "source": [
    "import flask\n",
    "import pandas as pd\n",
    "from flask import request\n",
    "from flask_cors import CORS\n",
    "from keyPhrasification import key_phrasification\n"
   ],
   "metadata": {
    "collapsed": false
   }
  },
  {
   "cell_type": "code",
   "execution_count": null,
   "outputs": [
    {
     "name": "stdout",
     "output_type": "stream",
     "text": [
      "covid\n"
     ]
    },
    {
     "name": "stderr",
     "output_type": "stream",
     "text": [
      "monoT5: 100%|██████████| 3/3 [00:20<00:00,  6.94s/batches]\n"
     ]
    }
   ],
   "source": [
    "\n",
    "app = flask.Flask(__name__)\n",
    "\n",
    "# app.config[\"DEBUG\"] = True\n",
    "CORS(app)\n",
    "\n",
    "\n",
    "# @app.before_first_request\n",
    "# def _declareStuff():\n",
    "#     global corpus\n",
    "#     corpus_df = pd.read_csv(\n",
    "#         '/Users/GovindShukla/tensorflow-env/trec_docs.csv')\n",
    "#     corpus = corpus_df['text'].values\n",
    "\n",
    "\n",
    "# def bm25okapi_search(tokenized_query, corpus, n_results=1):\n",
    "#     \"\"\"\n",
    "#     Function that takes a tokenized query and prints the first 100 words of the\n",
    "#     n_results most relevant results found in the corpus, based on the BM25\n",
    "#     method.\n",
    "#\n",
    "#     Parameters\n",
    "#     ----------\n",
    "#     @param tokenized_query: list, array-like\n",
    "#         A valid list containing the tokenized query.\n",
    "#     @param bm25: BM25 object,\n",
    "#         A valid object of type BM25 (BM25Okapi or BM25Plus) from the library\n",
    "#         `rank-bm25`, initialized with a valid corpus.\n",
    "#     @param corpus: list, array-like\n",
    "#         A valid list containing the corpus from which the BM25 object has been\n",
    "#         initialized. As returned from function read_corpus().\n",
    "#     @param n_results: int, default = 1\n",
    "#         The number of top results to print.\n",
    "#     \"\"\"\n",
    "#\n",
    "#     # We skip checking validity of arguments for now... We assume the user\n",
    "#     # knows what they're doing.\n",
    "#     # Tokenize the corpus\n",
    "#     tokenized_corpus = [doc.split(\" \") for doc in corpus]\n",
    "#     # Instantiate BM25 object from the tokenized corpus\n",
    "#     print('Still tokenizing...')\n",
    "#     bm25 = BM25Plus(tokenized_corpus)\n",
    "#\n",
    "#     print('Still ranking...')\n",
    "#\n",
    "#     ranked = bm25.get_top_n(tokenized_query, corpus, n=n_results)\n",
    "#     print('Ranking done...')\n",
    "#     return ranked\n",
    "\n",
    "\n",
    "@app.route('/query', methods=['GET'])\n",
    "def search():\n",
    "    query = request.args.get('searchString')\n",
    "    print(query)\n",
    "    searchResults = search_query(query)\n",
    "    # print(searchResults.head())\n",
    "    searchResultswithkeys = key_phrasification(searchResults)\n",
    "# searchResultswithkeys.to_json(orient='records')\n",
    "    return searchResultswithkeys.to_json(orient='records')\n",
    "\n",
    "\n",
    "@app.route('/feedback', methods=['POST'])\n",
    "def fetchFeedback():\n",
    "    # corpus_df = pd.read_csv(\n",
    "    #     '/Users/GovindShukla/Desktop/Information-Retrieval-Project/RankedDocuments/trec_docs_sample.csv')\n",
    "    # corpus = corpus_df['text'].values\n",
    "    # list = request.args.get('feedbackList')\n",
    "    # # print(request.body)\n",
    "    # print(list)\n",
    "    # return\n",
    "    feedbackJson = request.json['updates']\n",
    "    relevanceList = []\n",
    "    if len(feedbackJson):\n",
    "        for doc in feedbackJson:\n",
    "            for relevance in doc['value']:\n",
    "                relevanceList.append(relevance)\n",
    "    print(relevanceList)\n",
    "    return relevanceList\n",
    "\n",
    "# if __name__ == \"__main__\":\n",
    "#     corpus_df = pd.read_csv(\n",
    "#         '/Users/GovindShukla/Desktop/Information-Retrieval-Project/RankedDocuments/trec_docs_sample.csv')\n",
    "#     corpus = corpus_df['text'].values\n",
    "if __name__ == \"__main__\":\n",
    "    # app.debug = True\n",
    "    app.run(host='0.0.0.0',port=5021)\n",
    "#\n",
    "#     from flask import Flask\n",
    "# app = Flask(__name__)\n",
    "#\n",
    "# @app.route(\"/\")\n",
    "# def hello(): return \"Hello World\"\n",
    "#\n",
    "# if __name__ == \"__main__\":\n",
    "#   app.debug = True\n",
    "#   app.run(host='0.0.0.0',port=5005)\n"
   ],
   "metadata": {
    "collapsed": false,
    "pycharm": {
     "is_executing": true
    }
   }
  },
  {
   "cell_type": "code",
   "execution_count": null,
   "outputs": [],
   "source": [],
   "metadata": {
    "collapsed": false
   }
  }
 ]
}
