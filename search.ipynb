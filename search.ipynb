{
 "nbformat": 4,
 "nbformat_minor": 0,
 "metadata": {
  "colab": {
   "private_outputs": true,
   "provenance": []
  },
  "kernelspec": {
   "name": "python3",
   "display_name": "Python 3"
  },
  "language_info": {
   "name": "python"
  }
 },
 "cells": [
  {
   "cell_type": "markdown",
   "metadata": {
    "id": "view-in-github",
    "pycharm": {
     "name": "#%% md\n"
    }
   },
   "source": [
    "<a href=\"https://colab.research.google.com/github/govind17/Information-Retrieval-Project/blob/main/LDA_feature.ipynb\" target=\"_parent\"><img src=\"https://colab.research.google.com/assets/colab-badge.svg\" alt=\"Open In Colab\"/></a>"
   ]
  },
  {
   "cell_type": "code",
   "execution_count": null,
   "outputs": [],
   "source": [
    "!pip install -U Flask\n",
    "!pip install git+https://github.com/boudinfl/pke.git\n",
    "!pip install matplotlib\n",
    "!python -m spacy download en_core_web_sm\n",
    "\n",
    "# One time installation\n",
    "!pip install gensim\n",
    "import nltk\n",
    "nltk.download('stopwords')\n",
    "nltk.download('punkt')"
   ],
   "metadata": {
    "collapsed": false,
    "pycharm": {
     "name": "#%%\n"
    }
   }
  },
  {
   "cell_type": "code",
   "execution_count": 317,
   "outputs": [],
   "source": [
    "from nltk.corpus import stopwords\n",
    "stop_words = stopwords.words('english')\n",
    "import numpy as np\n",
    "import pandas as pd\n",
    "import operator\n",
    "from nltk.tokenize import RegexpTokenizer\n",
    "from nltk.stem.porter import PorterStemmer\n",
    "from nltk.stem import WordNetLemmatizer\n",
    "\n",
    "import gensim\n",
    "import gensim.corpora as corpora\n",
    "from gensim.utils import simple_preprocess\n",
    "from gensim.models import CoherenceModel\n",
    "from gensim.models import Word2Vec\n",
    "from gensim.models.doc2vec import Doc2Vec, TaggedDocument\n",
    "import spacy\n",
    "\n",
    "from nltk.corpus import stopwords\n",
    "from nltk.stem import PorterStemmer\n",
    "from sklearn.metrics.pairwise import cosine_similarity\n",
    "from nltk.tokenize import word_tokenize\n",
    "\n",
    "import flask\n",
    "from flask import request\n",
    "from flask_cors import CORS\n",
    "from keyPhrasification import key_phrasification\n",
    "\n",
    "#import pyterrier as pt\n",
    "import os"
   ],
   "metadata": {
    "collapsed": false,
    "pycharm": {
     "name": "#%%\n"
    }
   }
  },
  {
   "cell_type": "code",
   "execution_count": 2,
   "outputs": [
    {
     "name": "stderr",
     "output_type": "stream",
     "text": [
      "PyTerrier 0.9.1 has loaded Terrier 5.7 (built by craigm on 2022-11-10 18:30) and terrier-helper 0.0.7\n",
      "\n"
     ]
    }
   ],
   "source": [
    "# Indexing the cord-19 dataset\n",
    "if not pt.started():\n",
    "    pt.init()\n",
    "\n",
    "cord19 = pt.datasets.get_dataset('irds:cord19/trec-covid')\n",
    "pt_index_path = 'C:/Users/Pritha/Desktop/SUBJECTS/PROJECT/Relevance feedback with XAI/Backend Code/Information-Retrieval-Project/terrier_cord19'\n",
    "if not os.path.exists(pt_index_path + \"/data.properties\"):\n",
    "    # create the index, using the IterDictIndexer indexer\n",
    "    indexer = pt.index.IterDictIndexer(pt_index_path)\n",
    "    # we give the dataset get_corpus_iter() directly to the indexer\n",
    "    # while specifying the fields to index and the metadata to record\n",
    "    index_ref = indexer.index(cord19.get_corpus_iter(),\n",
    "                              fields=('abstract',),\n",
    "                              meta=('docno',))\n",
    "else:\n",
    "    # if you already have the index, use it.\n",
    "    index_ref = pt.IndexRef.of(pt_index_path + \"/data.properties\")\n",
    "    index = pt.IndexFactory.of(index_ref)\n"
   ],
   "metadata": {
    "id": "ZqTjeAaDs9aI",
    "pycharm": {
     "name": "#%%\n"
    }
   }
  },
  {
   "cell_type": "code",
   "execution_count": 306,
   "outputs": [],
   "source": [
    "# Rocchio algorithm\n",
    "def rocchio_algorithm(query_doc_vector, docs_relevant_vectors,\n",
    "                      docs_irrelevant_vectors, key_relevant_vectors,\n",
    "                      key_irrelevant_vectors,\n",
    "                      alpha, beta, gamma, delta):\n",
    "\n",
    "    # sum_of_rel_doc_vectors = docs_relevant_vectors.sum(axis=0)\n",
    "    # print('sum_of_rel_doc_vectors', sum_of_rel_doc_vectors)\n",
    "    sum_of_rel_doc_vectors=[]\n",
    "    sum_of_irrel_doc_vectors=[]\n",
    "    sum_of_rel_key_vectors=[]\n",
    "    sum_of_irrel_key_vectors=[]\n",
    "    for each_rel_doc_vector in docs_relevant_vectors:\n",
    "        if len(sum_of_rel_doc_vectors) == 0:\n",
    "            print('Length of sum_of_rel_doc_vectors is zero')\n",
    "            sum_of_rel_doc_vectors = each_rel_doc_vector\n",
    "        else:\n",
    "            # print(each_rel_doc_vector)\n",
    "            sum_of_rel_doc_vectors = list(map(operator.add, sum_of_rel_doc_vectors, each_rel_doc_vector))\n",
    "            # print('SUM :', sum_of_rel_doc_vectors)\n",
    "    for each_irrel_doc_vector in docs_irrelevant_vectors:\n",
    "        if len(sum_of_irrel_doc_vectors) == 0:\n",
    "            print('Length of sum_of_irrel_doc_vectors is zero')\n",
    "            sum_of_irrel_doc_vectors = each_irrel_doc_vector\n",
    "        else:\n",
    "            sum_of_irrel_doc_vectors = list(map(operator.add, sum_of_irrel_doc_vectors, each_irrel_doc_vector))\n",
    "    # sum_of_irrel_doc_vectors = docs_irrelevant_vectors.sum(axis=0)\n",
    "    # print('sum_of_irrel_doc_vectors', sum_of_irrel_doc_vectors)\n",
    "    for each_rel_key_vector in key_relevant_vectors:\n",
    "        if len(sum_of_rel_key_vectors) == 0:\n",
    "            print('Length of sum_of_rel_key_vectors is zero')\n",
    "            sum_of_rel_key_vectors = each_rel_key_vector\n",
    "        else:\n",
    "            sum_of_rel_key_vectors = list(map(operator.add, sum_of_rel_key_vectors, each_rel_key_vector))\n",
    "    # sum_of_rel_key_vectors = key_relevant_vectors.sum(axis=0)\n",
    "    # print('sum_of_rel_key_vectors', sum_of_rel_key_vectors)\n",
    "    for each_irrel_key_vector in key_irrelevant_vectors:\n",
    "        if len(sum_of_irrel_key_vectors) == 0:\n",
    "            print('Length of sum_of_irrel_key_vectors is zero')\n",
    "            sum_of_irrel_key_vectors = each_irrel_key_vector\n",
    "        else:\n",
    "            sum_of_irrel_key_vectors = list(map(operator.add, sum_of_irrel_key_vectors, each_irrel_key_vector))\n",
    "    # sum_of_irrel_key_vectors = key_irrelevant_vectors.sum(axis=0)\n",
    "    # print('sum_of_irrel_key_vectors', (delta/len(docs_relevant_vectors)) * np.array(sum_of_irrel_key_vectors))\n",
    "\n",
    "    new_doc_vector_query = np.sum([np.array(query_doc_vector)\n",
    "    , (alpha/len(docs_relevant_vectors)) * np.array(sum_of_rel_doc_vectors)\n",
    "    , (beta/len(docs_irrelevant_vectors)) * np.array(sum_of_irrel_doc_vectors)\n",
    "    , (gamma/len(docs_relevant_vectors)) * np.array(sum_of_rel_key_vectors)\n",
    "    , (delta/len(docs_relevant_vectors)) * np.array(sum_of_irrel_key_vectors)], axis=0)\n",
    "    df = pd.DataFrame({\"a\": [new_doc_vector_query]})\n",
    "    return df.values\n",
    "\n",
    "# Compute cosine scores\n",
    "def compute_cosine_sim(new_query_vector, all_data, name):\n",
    "    consine_similarities = []\n",
    "    for index, data in all_data.iterrows():\n",
    "        cosine_sim = cosine_similarity([np.array(new_query_vector[0])], [np.array(all_data[name][index])])\n",
    "        consine_similarities.append(cosine_sim[0][0])\n",
    "    return consine_similarities\n",
    "\n",
    "# Rank data\n",
    "def rank_data(new_query_vector, dataset, name):\n",
    "  cosine_sim_values = compute_cosine_sim(new_query_vector, dataset, name)\n",
    "  dataset['Cosine_Similarity_' + name] = cosine_sim_values\n",
    "  sorted_dataset = dataset.sort_values(by=['Cosine_Similarity_' + name], ascending=False)\n",
    "\n",
    "  return sorted_dataset\n",
    "\n"
   ],
   "metadata": {
    "collapsed": false,
    "pycharm": {
     "name": "#%%\n"
    }
   }
  },
  {
   "cell_type": "code",
   "execution_count": 307,
   "outputs": [],
   "source": [
    "#text preprocessing\n",
    "def pre_processing_data(data):\n",
    "    ps = PorterStemmer()\n",
    "    tagged_dataset = [TaggedDocument(words=[ps.stem(w) for w in nltk.word_tokenize(_d) if word_tokenize(_d.lower()) not in stopwords.words('english')], tags=[str(i)]) for i, _d in enumerate(data)]\n",
    "    #tagged_dataset = [TaggedDocument(words=word_tokenize(_d.lower()), tags=[str(i)]) for i, _d in enumerate(data)]\n",
    "    return tagged_dataset\n",
    "\n",
    "def model_doc2vec(model, tagged_data, num_epochs):\n",
    "    model.build_vocab(tagged_data)\n",
    "    model.train(tagged_data,total_examples=len(tagged_data), epochs=num_epochs)\n",
    "    return model\n",
    "\n",
    "def vector_for_learning(model, input_docs):\n",
    "    sents = input_docs\n",
    "    targets, feature_vectors = zip(*[(doc.tags[0], model.infer_vector(doc.words)) for doc in sents])\n",
    "    return targets, feature_vectors\n",
    "\n",
    "def define_d2v_model(dataset):\n",
    "    preprocessed_tagged_dataset = pre_processing_data(dataset)\n",
    "    model_d2v = Doc2Vec(dm=1, vector_size=100, window = 10, negative=5, hs=0, min_count=2, sample = 0, alpha=0.025, min_alpha=0.001, dm_mean = 0, dbow_words=1)\n",
    "    model = model_doc2vec(model_d2v, preprocessed_tagged_dataset, 100)\n",
    "    return model\n",
    "\n",
    "def get_vectors(input_data, model):\n",
    "    preprocessed_tagged_input_data= pre_processing_data(input_data)\n",
    "    id, vectors = np.array(vector_for_learning(model, preprocessed_tagged_input_data), dtype=object)\n",
    "    return vectors"
   ],
   "metadata": {
    "collapsed": false,
    "pycharm": {
     "name": "#%%\n"
    }
   }
  },
  {
   "cell_type": "code",
   "execution_count": 4,
   "outputs": [
    {
     "name": "stderr",
     "output_type": "stream",
     "text": [
      "C:\\Users\\Pritha\\anaconda3\\lib\\site-packages\\transformers\\models\\t5\\tokenization_t5.py:163: FutureWarning: This tokenizer was incorrectly instantiated with a model max length of 512 which will be corrected in Transformers v5.\n",
      "For now, this behavior is kept to avoid breaking backwards compatibility when padding/encoding with `truncation is True`.\n",
      "- Be aware that you SHOULD NOT rely on t5-base automatically truncating your input to 512 when padding/encoding.\n",
      "- If you want to encode/pad to sequences longer than 512 you can either instantiate this tokenizer with `model_max_length` or pass `max_length` when encoding/padding.\n",
      "- To avoid this warning, please instantiate this tokenizer with `model_max_length` set to your preferred value.\n",
      "  warnings.warn(\n",
      "monoT5:   0%|          | 0/3 [00:00<?, ?batches/s]Token indices sequence length is longer than the specified maximum sequence length for this model (721 > 512). Running this sequence through the model will result in indexing errors\n",
      "monoT5: 100%|██████████| 3/3 [00:12<00:00,  4.19s/batches]\n"
     ]
    },
    {
     "name": "stdout",
     "output_type": "stream",
     "text": [
      "Index(['docno', 'title', 'abstract_x', 'summary', 'key_phrases', 'qid',\n",
      "       'docid', 'query', 'abstract_y', 'score', 'rank'],\n",
      "      dtype='object')\n",
      "Index(['docno', 'title', 'abstract', 'summary', 'KeyList'], dtype='object')\n",
      "\n",
      "\n",
      "\n",
      "\n",
      "\n",
      "\n",
      "\n",
      "\n",
      "\n",
      "\n",
      "\n",
      "\n",
      "\n",
      "\n",
      "\n",
      "\n",
      "\n",
      "\n",
      "\n",
      "\n",
      "\n",
      "\n",
      "\n",
      "\n",
      "\n",
      "\n",
      "\n",
      "\n",
      "\n",
      "\n",
      "\n",
      "\n",
      "\n",
      "\n",
      "\n",
      "\n",
      "\n",
      "\n",
      "\n",
      "\n",
      "\n",
      "\n",
      "\n",
      "\n",
      "\n",
      "\n",
      "\n",
      "\n",
      "\n",
      "\n",
      "      docno                                              title  \\\n",
      "0  awitk3se  COVID-19 (Novel Coronavirus 2019) - recent tre...   \n",
      "1  s4dqx9en  Plasma Metabolomic and Lipidomic Alterations A...   \n",
      "2  u56ydlve  The impact of believing you have had COVID-19 ...   \n",
      "3  3kmxzbm7  COVID-19 (Novel Coronavirus 2019) - recent trends   \n",
      "4  l2rmmjqb  Validation of the British Society of Thoracic ...   \n",
      "5  zub7xdi9  Comparison of the computed tomography findings...   \n",
      "6  rxd08ouk  Cognitive, Affective, and Behavioral Construct...   \n",
      "7  448tamvr  Validation of the British Society of Thoracic ...   \n",
      "8  eyelcflh  Cognitive, Affective, and Behavioral Construct...   \n",
      "9  1loqavom  Stability Analysis and Numerical Simulation of...   \n",
      "\n",
      "                                            abstract  \\\n",
      "0  The World Health Organization (WHO) has issued...   \n",
      "1  The pandemic of the coronavirus disease 2019 (...   \n",
      "2  Objectives: To investigate whether people who ...   \n",
      "3  The World Health Organization (WHO) has issued...   \n",
      "4  AIM: To validate the British Society of Thorac...   \n",
      "5  OBJECTIVES: To compare the chest computed tomo...   \n",
      "6  This online survey study aimed to compare the ...   \n",
      "7  Abstract Aim To validate the British Society o...   \n",
      "8  This online survey study aimed to compare the ...   \n",
      "9  The Aim of this research is construct the SEIR...   \n",
      "\n",
      "                                             summary  \\\n",
      "0  COVID-19 is similar to Severe Acute Respirator...   \n",
      "1  COVID-19 is marked by its rapid progression fr...   \n",
      "2  The impact of believing you have had COVID-19 ...   \n",
      "3  COVID-19 is similar to Severe Acute Respirator...   \n",
      "4  Validation of the British Society of Thoracic ...   \n",
      "5  Comparison of the computed tomography findings...   \n",
      "6  In total, 533 sexual minority and 1421 heteros...   \n",
      "7  Validation of the British Society of Thoracic ...   \n",
      "8  In total, 533 sexual minority and 1421 heteros...   \n",
      "9  Stability Analysis and Numerical Simulation of...   \n",
      "\n",
      "                                             KeyList  \n",
      "0  [covid-19, sars-cov, similar, severe acute res...  \n",
      "1  [covid-19, lipid alterations, severe condition...  \n",
      "2  [covid-19, people, social distancing measures,...  \n",
      "3  [covid-19, sars-cov, similar, severe acute res...  \n",
      "4  [covid-19, patients, covid-19 chest radiograph...  \n",
      "5  [covid-19, ggo, bilateral distribution, lower ...  \n",
      "6  [covid-19, sexual minority, heterosexual indiv...  \n",
      "7  [covid-19, patients, covid-19 chest radiograph...  \n",
      "8  [covid-19, sexual minority, heterosexual indiv...  \n",
      "9  [pandemic covid-19, seir model, stability anal...  \n"
     ]
    },
    {
     "data": {
      "text/plain": "      docno                                              title  \\\n0  awitk3se  COVID-19 (Novel Coronavirus 2019) - recent tre...   \n1  s4dqx9en  Plasma Metabolomic and Lipidomic Alterations A...   \n2  u56ydlve  The impact of believing you have had COVID-19 ...   \n3  3kmxzbm7  COVID-19 (Novel Coronavirus 2019) - recent trends   \n4  l2rmmjqb  Validation of the British Society of Thoracic ...   \n5  zub7xdi9  Comparison of the computed tomography findings...   \n6  rxd08ouk  Cognitive, Affective, and Behavioral Construct...   \n7  448tamvr  Validation of the British Society of Thoracic ...   \n8  eyelcflh  Cognitive, Affective, and Behavioral Construct...   \n9  1loqavom  Stability Analysis and Numerical Simulation of...   \n\n                                          abstract_x  \\\n0  The World Health Organization (WHO) has issued...   \n1  The pandemic of the coronavirus disease 2019 (...   \n2  Objectives: To investigate whether people who ...   \n3  The World Health Organization (WHO) has issued...   \n4  AIM: To validate the British Society of Thorac...   \n5  OBJECTIVES: To compare the chest computed tomo...   \n6  This online survey study aimed to compare the ...   \n7  Abstract Aim To validate the British Society o...   \n8  This online survey study aimed to compare the ...   \n9  The Aim of this research is construct the SEIR...   \n\n                                             summary  key_phrases qid   docid  \\\n0  COVID-19 is similar to Severe Acute Respirator...          NaN   1   32226   \n1  COVID-19 is marked by its rapid progression fr...          NaN   1   68320   \n2  The impact of believing you have had COVID-19 ...          NaN   1   75497   \n3  COVID-19 is similar to Severe Acute Respirator...          NaN   1   93863   \n4  Validation of the British Society of Thoracic ...          NaN   1  109749   \n5  Comparison of the computed tomography findings...          NaN   1  112383   \n6  In total, 533 sexual minority and 1421 heteros...          NaN   1  126243   \n7  Validation of the British Society of Thoracic ...          NaN   1  150199   \n8  In total, 533 sexual minority and 1421 heteros...          NaN   1  153035   \n9  Stability Analysis and Numerical Simulation of...          NaN   1  171671   \n\n   query                                         abstract_y     score  rank  \n0  covid  The World Health Organization (WHO) has issued... -0.161107     3  \n1  covid  The pandemic of the coronavirus disease 2019 (... -0.267529     5  \n2  covid  Objectives: To investigate whether people who ... -0.856843     9  \n3  covid  The World Health Organization (WHO) has issued... -0.161107     4  \n4  covid  AIM: To validate the British Society of Thorac... -0.333039     6  \n5  covid  OBJECTIVES: To compare the chest computed tomo... -0.085978     0  \n6  covid  This online survey study aimed to compare the ... -0.112808     1  \n7  covid  Abstract Aim To validate the British Society o... -0.480262     7  \n8  covid  This online survey study aimed to compare the ... -0.112808     2  \n9  covid  The Aim of this research is construct the SEIR... -0.639952     8  ",
      "text/html": "<div>\n<style scoped>\n    .dataframe tbody tr th:only-of-type {\n        vertical-align: middle;\n    }\n\n    .dataframe tbody tr th {\n        vertical-align: top;\n    }\n\n    .dataframe thead th {\n        text-align: right;\n    }\n</style>\n<table border=\"1\" class=\"dataframe\">\n  <thead>\n    <tr style=\"text-align: right;\">\n      <th></th>\n      <th>docno</th>\n      <th>title</th>\n      <th>abstract_x</th>\n      <th>summary</th>\n      <th>key_phrases</th>\n      <th>qid</th>\n      <th>docid</th>\n      <th>query</th>\n      <th>abstract_y</th>\n      <th>score</th>\n      <th>rank</th>\n    </tr>\n  </thead>\n  <tbody>\n    <tr>\n      <th>0</th>\n      <td>awitk3se</td>\n      <td>COVID-19 (Novel Coronavirus 2019) - recent tre...</td>\n      <td>The World Health Organization (WHO) has issued...</td>\n      <td>COVID-19 is similar to Severe Acute Respirator...</td>\n      <td>NaN</td>\n      <td>1</td>\n      <td>32226</td>\n      <td>covid</td>\n      <td>The World Health Organization (WHO) has issued...</td>\n      <td>-0.161107</td>\n      <td>3</td>\n    </tr>\n    <tr>\n      <th>1</th>\n      <td>s4dqx9en</td>\n      <td>Plasma Metabolomic and Lipidomic Alterations A...</td>\n      <td>The pandemic of the coronavirus disease 2019 (...</td>\n      <td>COVID-19 is marked by its rapid progression fr...</td>\n      <td>NaN</td>\n      <td>1</td>\n      <td>68320</td>\n      <td>covid</td>\n      <td>The pandemic of the coronavirus disease 2019 (...</td>\n      <td>-0.267529</td>\n      <td>5</td>\n    </tr>\n    <tr>\n      <th>2</th>\n      <td>u56ydlve</td>\n      <td>The impact of believing you have had COVID-19 ...</td>\n      <td>Objectives: To investigate whether people who ...</td>\n      <td>The impact of believing you have had COVID-19 ...</td>\n      <td>NaN</td>\n      <td>1</td>\n      <td>75497</td>\n      <td>covid</td>\n      <td>Objectives: To investigate whether people who ...</td>\n      <td>-0.856843</td>\n      <td>9</td>\n    </tr>\n    <tr>\n      <th>3</th>\n      <td>3kmxzbm7</td>\n      <td>COVID-19 (Novel Coronavirus 2019) - recent trends</td>\n      <td>The World Health Organization (WHO) has issued...</td>\n      <td>COVID-19 is similar to Severe Acute Respirator...</td>\n      <td>NaN</td>\n      <td>1</td>\n      <td>93863</td>\n      <td>covid</td>\n      <td>The World Health Organization (WHO) has issued...</td>\n      <td>-0.161107</td>\n      <td>4</td>\n    </tr>\n    <tr>\n      <th>4</th>\n      <td>l2rmmjqb</td>\n      <td>Validation of the British Society of Thoracic ...</td>\n      <td>AIM: To validate the British Society of Thorac...</td>\n      <td>Validation of the British Society of Thoracic ...</td>\n      <td>NaN</td>\n      <td>1</td>\n      <td>109749</td>\n      <td>covid</td>\n      <td>AIM: To validate the British Society of Thorac...</td>\n      <td>-0.333039</td>\n      <td>6</td>\n    </tr>\n    <tr>\n      <th>5</th>\n      <td>zub7xdi9</td>\n      <td>Comparison of the computed tomography findings...</td>\n      <td>OBJECTIVES: To compare the chest computed tomo...</td>\n      <td>Comparison of the computed tomography findings...</td>\n      <td>NaN</td>\n      <td>1</td>\n      <td>112383</td>\n      <td>covid</td>\n      <td>OBJECTIVES: To compare the chest computed tomo...</td>\n      <td>-0.085978</td>\n      <td>0</td>\n    </tr>\n    <tr>\n      <th>6</th>\n      <td>rxd08ouk</td>\n      <td>Cognitive, Affective, and Behavioral Construct...</td>\n      <td>This online survey study aimed to compare the ...</td>\n      <td>In total, 533 sexual minority and 1421 heteros...</td>\n      <td>NaN</td>\n      <td>1</td>\n      <td>126243</td>\n      <td>covid</td>\n      <td>This online survey study aimed to compare the ...</td>\n      <td>-0.112808</td>\n      <td>1</td>\n    </tr>\n    <tr>\n      <th>7</th>\n      <td>448tamvr</td>\n      <td>Validation of the British Society of Thoracic ...</td>\n      <td>Abstract Aim To validate the British Society o...</td>\n      <td>Validation of the British Society of Thoracic ...</td>\n      <td>NaN</td>\n      <td>1</td>\n      <td>150199</td>\n      <td>covid</td>\n      <td>Abstract Aim To validate the British Society o...</td>\n      <td>-0.480262</td>\n      <td>7</td>\n    </tr>\n    <tr>\n      <th>8</th>\n      <td>eyelcflh</td>\n      <td>Cognitive, Affective, and Behavioral Construct...</td>\n      <td>This online survey study aimed to compare the ...</td>\n      <td>In total, 533 sexual minority and 1421 heteros...</td>\n      <td>NaN</td>\n      <td>1</td>\n      <td>153035</td>\n      <td>covid</td>\n      <td>This online survey study aimed to compare the ...</td>\n      <td>-0.112808</td>\n      <td>2</td>\n    </tr>\n    <tr>\n      <th>9</th>\n      <td>1loqavom</td>\n      <td>Stability Analysis and Numerical Simulation of...</td>\n      <td>The Aim of this research is construct the SEIR...</td>\n      <td>Stability Analysis and Numerical Simulation of...</td>\n      <td>NaN</td>\n      <td>1</td>\n      <td>171671</td>\n      <td>covid</td>\n      <td>The Aim of this research is construct the SEIR...</td>\n      <td>-0.639952</td>\n      <td>8</td>\n    </tr>\n  </tbody>\n</table>\n</div>"
     },
     "execution_count": 4,
     "metadata": {},
     "output_type": "execute_result"
    }
   ],
   "source": [
    "import pyterrier as pt\n",
    "from pyterrier_t5 import MonoT5ReRanker\n",
    "import pandas as pd\n",
    "from keyPhrasification import key_phrasification\n",
    "\n",
    "monoT5 = MonoT5ReRanker(text_field='abstract')\n",
    "dataset = pt.datasets.get_dataset('irds:cord19/trec-covid')\n",
    "cord19_df = pd.read_csv('/Users/Pritha/Desktop/SUBJECTS/PROJECT/Relevance feedback with XAI/Backend Code/Information-Retrieval-Project/cord19_sum.csv')\n",
    "model = define_d2v_model(cord19_df['abstract'])\n",
    "query_df = pd.DataFrame\n",
    "\n",
    "def search_query(query):\n",
    "  index_ref2 = pt.IndexRef.of(pt_index_path + \"/data.properties\")\n",
    "  index2 = pt.IndexFactory.of(index_ref2)\n",
    "  # print(query)\n",
    "  if not pt.started():\n",
    "      pt.init()\n",
    "  br = pt.BatchRetrieve(index2) % 10\n",
    "  pipeline = (br >> pt.text.get_text(dataset, 'abstract') >> monoT5)\n",
    "  search_result = pipeline.search(query)\n",
    "  print(search_result)\n",
    "  filtered_docs = pd.merge(cord19_df, search_result, on = \"docno\", how = \"inner\")\n",
    "  searchResultswithkeys = key_phrasification(filtered_docs)\n",
    "  print(searchResultswithkeys)\n",
    "  return filtered_docs\n",
    "\n",
    "search_query('covid')"
   ],
   "metadata": {
    "id": "K1L5hBv_s9aP",
    "pycharm": {
     "name": "#%%\n"
    }
   }
  },
  {
   "cell_type": "code",
   "execution_count": 318,
   "outputs": [],
   "source": [
    "def get_reranking(feedback_df : pd.DataFrame):\n",
    "    global  query_df\n",
    "    feedback_df[\"summary_vec\"] = get_vectors(feedback_df['summary'], model)\n",
    "    feedback_df[\"keyList_vec\"] = get_vectors(feedback_df['KeyList'], model)\n",
    "    relevant_df = feedback_df.loc[feedback_df['relevant'] == True]\n",
    "    irrelevant_df = feedback_df.loc[feedback_df['relevant'] == False]\n",
    "    query_df[\"query_vec\"]  = get_vectors(query_df['query'].values, model)\n",
    "    query_df['new_query_vec'] = rocchio_algorithm(query_df[\"query_vec\"][0], relevant_df[\"summary_vec\"].values, irrelevant_df[\"summary_vec\"].values, relevant_df[\"keyList_vec\"].values, irrelevant_df[\"keyList_vec\"].values, 1.0, 0.5,1.0, 0.5)\n",
    "    sorted_dataset = rank_data(query_df['new_query_vec'].values, feedback_df, \"keyList_vec\")\n",
    "    return sorted_dataset"
   ],
   "metadata": {
    "collapsed": false,
    "pycharm": {
     "name": "#%%\n"
    }
   }
  },
  {
   "cell_type": "code",
   "execution_count": null,
   "outputs": [
    {
     "name": "stdout",
     "output_type": "stream",
     "text": [
      " * Serving Flask app '__main__'\n",
      " * Debug mode: off\n"
     ]
    },
    {
     "name": "stderr",
     "output_type": "stream",
     "text": [
      "\u001B[31m\u001B[1mWARNING: This is a development server. Do not use it in a production deployment. Use a production WSGI server instead.\u001B[0m\n",
      " * Running on all addresses (0.0.0.0)\n",
      " * Running on http://127.0.0.1:5030\n",
      " * Running on http://192.168.0.100:5030\n",
      "\u001B[33mPress CTRL+C to quit\u001B[0m\n",
      "127.0.0.1 - - [12/Mar/2023 13:17:57] \"GET /query?searchString=ndblkdj HTTP/1.1\" 200 -\n"
     ]
    },
    {
     "name": "stdout",
     "output_type": "stream",
     "text": [
      "      docno                                              title  \\\n",
      "0  awitk3se  COVID-19 (Novel Coronavirus 2019) - recent tre...   \n",
      "1  s4dqx9en  Plasma Metabolomic and Lipidomic Alterations A...   \n",
      "2  u56ydlve  The impact of believing you have had COVID-19 ...   \n",
      "3  3kmxzbm7  COVID-19 (Novel Coronavirus 2019) - recent trends   \n",
      "4  l2rmmjqb  Validation of the British Society of Thoracic ...   \n",
      "5  zub7xdi9  Comparison of the computed tomography findings...   \n",
      "6  rxd08ouk  Cognitive, Affective, and Behavioral Construct...   \n",
      "7  448tamvr  Validation of the British Society of Thoracic ...   \n",
      "8  eyelcflh  Cognitive, Affective, and Behavioral Construct...   \n",
      "9  1loqavom  Stability Analysis and Numerical Simulation of...   \n",
      "\n",
      "                                            abstract  \\\n",
      "0  The World Health Organization (WHO) has issued...   \n",
      "1  The pandemic of the coronavirus disease 2019 (...   \n",
      "2  Objectives: To investigate whether people who ...   \n",
      "3  The World Health Organization (WHO) has issued...   \n",
      "4  AIM: To validate the British Society of Thorac...   \n",
      "5  OBJECTIVES: To compare the chest computed tomo...   \n",
      "6  This online survey study aimed to compare the ...   \n",
      "7  Abstract Aim To validate the British Society o...   \n",
      "8  This online survey study aimed to compare the ...   \n",
      "9  The Aim of this research is construct the SEIR...   \n",
      "\n",
      "                                             summary  \\\n",
      "0  COVID-19 is similar to Severe Acute Respirator...   \n",
      "1  COVID-19 is marked by its rapid progression fr...   \n",
      "2  The impact of believing you have had COVID-19 ...   \n",
      "3  COVID-19 is similar to Severe Acute Respirator...   \n",
      "4  Validation of the British Society of Thoracic ...   \n",
      "5  Comparison of the computed tomography findings...   \n",
      "6  In total, 533 sexual minority and 1421 heteros...   \n",
      "7  Validation of the British Society of Thoracic ...   \n",
      "8  In total, 533 sexual minority and 1421 heteros...   \n",
      "9  Stability Analysis and Numerical Simulation of...   \n",
      "\n",
      "                                             KeyList  \n",
      "0  ['covid-19', 'sars-cov', 'similar', 'severe ac...  \n",
      "1  ['covid-19', 'lipid alterations', 'severe cond...  \n",
      "2  ['covid-19', 'people', 'social distancing meas...  \n",
      "3  ['covid-19', 'sars-cov', 'similar', 'severe ac...  \n",
      "4  ['covid-19', 'patients', 'covid-19 chest radio...  \n",
      "5  ['covid-19', 'ggo', 'bilateral distribution', ...  \n",
      "6  ['covid-19', 'sexual minority', 'heterosexual ...  \n",
      "7  ['covid-19', 'patients', 'covid-19 chest radio...  \n",
      "8  ['covid-19', 'sexual minority', 'heterosexual ...  \n",
      "9  ['pandemic covid-19', 'seir model', 'stability...  \n"
     ]
    },
    {
     "name": "stderr",
     "output_type": "stream",
     "text": [
      "127.0.0.1 - - [12/Mar/2023 13:18:09] \"OPTIONS /feedback HTTP/1.1\" 200 -\n",
      "127.0.0.1 - - [12/Mar/2023 13:18:10] \"POST /feedback HTTP/1.1\" 200 -\n"
     ]
    },
    {
     "name": "stdout",
     "output_type": "stream",
     "text": [
      "Length of sum_of_rel_doc_vectors is zero\n",
      "Length of sum_of_irrel_doc_vectors is zero\n",
      "Length of sum_of_rel_key_vectors is zero\n",
      "Length of sum_of_irrel_key_vectors is zero\n"
     ]
    },
    {
     "name": "stderr",
     "output_type": "stream",
     "text": [
      "127.0.0.1 - - [12/Mar/2023 13:19:00] \"GET /query?searchString=knkj HTTP/1.1\" 200 -\n"
     ]
    },
    {
     "name": "stdout",
     "output_type": "stream",
     "text": [
      "      docno                                              title  \\\n",
      "0  awitk3se  COVID-19 (Novel Coronavirus 2019) - recent tre...   \n",
      "1  s4dqx9en  Plasma Metabolomic and Lipidomic Alterations A...   \n",
      "2  u56ydlve  The impact of believing you have had COVID-19 ...   \n",
      "3  3kmxzbm7  COVID-19 (Novel Coronavirus 2019) - recent trends   \n",
      "4  l2rmmjqb  Validation of the British Society of Thoracic ...   \n",
      "5  zub7xdi9  Comparison of the computed tomography findings...   \n",
      "6  rxd08ouk  Cognitive, Affective, and Behavioral Construct...   \n",
      "7  448tamvr  Validation of the British Society of Thoracic ...   \n",
      "8  eyelcflh  Cognitive, Affective, and Behavioral Construct...   \n",
      "9  1loqavom  Stability Analysis and Numerical Simulation of...   \n",
      "\n",
      "                                            abstract  \\\n",
      "0  The World Health Organization (WHO) has issued...   \n",
      "1  The pandemic of the coronavirus disease 2019 (...   \n",
      "2  Objectives: To investigate whether people who ...   \n",
      "3  The World Health Organization (WHO) has issued...   \n",
      "4  AIM: To validate the British Society of Thorac...   \n",
      "5  OBJECTIVES: To compare the chest computed tomo...   \n",
      "6  This online survey study aimed to compare the ...   \n",
      "7  Abstract Aim To validate the British Society o...   \n",
      "8  This online survey study aimed to compare the ...   \n",
      "9  The Aim of this research is construct the SEIR...   \n",
      "\n",
      "                                             summary  \\\n",
      "0  COVID-19 is similar to Severe Acute Respirator...   \n",
      "1  COVID-19 is marked by its rapid progression fr...   \n",
      "2  The impact of believing you have had COVID-19 ...   \n",
      "3  COVID-19 is similar to Severe Acute Respirator...   \n",
      "4  Validation of the British Society of Thoracic ...   \n",
      "5  Comparison of the computed tomography findings...   \n",
      "6  In total, 533 sexual minority and 1421 heteros...   \n",
      "7  Validation of the British Society of Thoracic ...   \n",
      "8  In total, 533 sexual minority and 1421 heteros...   \n",
      "9  Stability Analysis and Numerical Simulation of...   \n",
      "\n",
      "                                             KeyList  \n",
      "0  ['covid-19', 'sars-cov', 'similar', 'severe ac...  \n",
      "1  ['covid-19', 'lipid alterations', 'severe cond...  \n",
      "2  ['covid-19', 'people', 'social distancing meas...  \n",
      "3  ['covid-19', 'sars-cov', 'similar', 'severe ac...  \n",
      "4  ['covid-19', 'patients', 'covid-19 chest radio...  \n",
      "5  ['covid-19', 'ggo', 'bilateral distribution', ...  \n",
      "6  ['covid-19', 'sexual minority', 'heterosexual ...  \n",
      "7  ['covid-19', 'patients', 'covid-19 chest radio...  \n",
      "8  ['covid-19', 'sexual minority', 'heterosexual ...  \n",
      "9  ['pandemic covid-19', 'seir model', 'stability...  \n"
     ]
    },
    {
     "name": "stderr",
     "output_type": "stream",
     "text": [
      "127.0.0.1 - - [12/Mar/2023 13:19:02] \"GET /query?searchString=knkj HTTP/1.1\" 200 -\n"
     ]
    },
    {
     "name": "stdout",
     "output_type": "stream",
     "text": [
      "      docno                                              title  \\\n",
      "0  awitk3se  COVID-19 (Novel Coronavirus 2019) - recent tre...   \n",
      "1  s4dqx9en  Plasma Metabolomic and Lipidomic Alterations A...   \n",
      "2  u56ydlve  The impact of believing you have had COVID-19 ...   \n",
      "3  3kmxzbm7  COVID-19 (Novel Coronavirus 2019) - recent trends   \n",
      "4  l2rmmjqb  Validation of the British Society of Thoracic ...   \n",
      "5  zub7xdi9  Comparison of the computed tomography findings...   \n",
      "6  rxd08ouk  Cognitive, Affective, and Behavioral Construct...   \n",
      "7  448tamvr  Validation of the British Society of Thoracic ...   \n",
      "8  eyelcflh  Cognitive, Affective, and Behavioral Construct...   \n",
      "9  1loqavom  Stability Analysis and Numerical Simulation of...   \n",
      "\n",
      "                                            abstract  \\\n",
      "0  The World Health Organization (WHO) has issued...   \n",
      "1  The pandemic of the coronavirus disease 2019 (...   \n",
      "2  Objectives: To investigate whether people who ...   \n",
      "3  The World Health Organization (WHO) has issued...   \n",
      "4  AIM: To validate the British Society of Thorac...   \n",
      "5  OBJECTIVES: To compare the chest computed tomo...   \n",
      "6  This online survey study aimed to compare the ...   \n",
      "7  Abstract Aim To validate the British Society o...   \n",
      "8  This online survey study aimed to compare the ...   \n",
      "9  The Aim of this research is construct the SEIR...   \n",
      "\n",
      "                                             summary  \\\n",
      "0  COVID-19 is similar to Severe Acute Respirator...   \n",
      "1  COVID-19 is marked by its rapid progression fr...   \n",
      "2  The impact of believing you have had COVID-19 ...   \n",
      "3  COVID-19 is similar to Severe Acute Respirator...   \n",
      "4  Validation of the British Society of Thoracic ...   \n",
      "5  Comparison of the computed tomography findings...   \n",
      "6  In total, 533 sexual minority and 1421 heteros...   \n",
      "7  Validation of the British Society of Thoracic ...   \n",
      "8  In total, 533 sexual minority and 1421 heteros...   \n",
      "9  Stability Analysis and Numerical Simulation of...   \n",
      "\n",
      "                                             KeyList  \n",
      "0  ['covid-19', 'sars-cov', 'similar', 'severe ac...  \n",
      "1  ['covid-19', 'lipid alterations', 'severe cond...  \n",
      "2  ['covid-19', 'people', 'social distancing meas...  \n",
      "3  ['covid-19', 'sars-cov', 'similar', 'severe ac...  \n",
      "4  ['covid-19', 'patients', 'covid-19 chest radio...  \n",
      "5  ['covid-19', 'ggo', 'bilateral distribution', ...  \n",
      "6  ['covid-19', 'sexual minority', 'heterosexual ...  \n",
      "7  ['covid-19', 'patients', 'covid-19 chest radio...  \n",
      "8  ['covid-19', 'sexual minority', 'heterosexual ...  \n",
      "9  ['pandemic covid-19', 'seir model', 'stability...  \n"
     ]
    },
    {
     "name": "stderr",
     "output_type": "stream",
     "text": [
      "127.0.0.1 - - [12/Mar/2023 13:19:02] \"GET /query?searchString=knkj HTTP/1.1\" 200 -\n",
      "127.0.0.1 - - [12/Mar/2023 13:19:03] \"GET /query?searchString=knkj HTTP/1.1\" 200 -\n"
     ]
    },
    {
     "name": "stdout",
     "output_type": "stream",
     "text": [
      "      docno                                              title  \\\n",
      "0  awitk3se  COVID-19 (Novel Coronavirus 2019) - recent tre...   \n",
      "1  s4dqx9en  Plasma Metabolomic and Lipidomic Alterations A...   \n",
      "2  u56ydlve  The impact of believing you have had COVID-19 ...   \n",
      "3  3kmxzbm7  COVID-19 (Novel Coronavirus 2019) - recent trends   \n",
      "4  l2rmmjqb  Validation of the British Society of Thoracic ...   \n",
      "5  zub7xdi9  Comparison of the computed tomography findings...   \n",
      "6  rxd08ouk  Cognitive, Affective, and Behavioral Construct...   \n",
      "7  448tamvr  Validation of the British Society of Thoracic ...   \n",
      "8  eyelcflh  Cognitive, Affective, and Behavioral Construct...   \n",
      "9  1loqavom  Stability Analysis and Numerical Simulation of...   \n",
      "\n",
      "                                            abstract  \\\n",
      "0  The World Health Organization (WHO) has issued...   \n",
      "1  The pandemic of the coronavirus disease 2019 (...   \n",
      "2  Objectives: To investigate whether people who ...   \n",
      "3  The World Health Organization (WHO) has issued...   \n",
      "4  AIM: To validate the British Society of Thorac...   \n",
      "5  OBJECTIVES: To compare the chest computed tomo...   \n",
      "6  This online survey study aimed to compare the ...   \n",
      "7  Abstract Aim To validate the British Society o...   \n",
      "8  This online survey study aimed to compare the ...   \n",
      "9  The Aim of this research is construct the SEIR...   \n",
      "\n",
      "                                             summary  \\\n",
      "0  COVID-19 is similar to Severe Acute Respirator...   \n",
      "1  COVID-19 is marked by its rapid progression fr...   \n",
      "2  The impact of believing you have had COVID-19 ...   \n",
      "3  COVID-19 is similar to Severe Acute Respirator...   \n",
      "4  Validation of the British Society of Thoracic ...   \n",
      "5  Comparison of the computed tomography findings...   \n",
      "6  In total, 533 sexual minority and 1421 heteros...   \n",
      "7  Validation of the British Society of Thoracic ...   \n",
      "8  In total, 533 sexual minority and 1421 heteros...   \n",
      "9  Stability Analysis and Numerical Simulation of...   \n",
      "\n",
      "                                             KeyList  \n",
      "0  ['covid-19', 'sars-cov', 'similar', 'severe ac...  \n",
      "1  ['covid-19', 'lipid alterations', 'severe cond...  \n",
      "2  ['covid-19', 'people', 'social distancing meas...  \n",
      "3  ['covid-19', 'sars-cov', 'similar', 'severe ac...  \n",
      "4  ['covid-19', 'patients', 'covid-19 chest radio...  \n",
      "5  ['covid-19', 'ggo', 'bilateral distribution', ...  \n",
      "6  ['covid-19', 'sexual minority', 'heterosexual ...  \n",
      "7  ['covid-19', 'patients', 'covid-19 chest radio...  \n",
      "8  ['covid-19', 'sexual minority', 'heterosexual ...  \n",
      "9  ['pandemic covid-19', 'seir model', 'stability...  \n",
      "      docno                                              title  \\\n",
      "0  awitk3se  COVID-19 (Novel Coronavirus 2019) - recent tre...   \n",
      "1  s4dqx9en  Plasma Metabolomic and Lipidomic Alterations A...   \n",
      "2  u56ydlve  The impact of believing you have had COVID-19 ...   \n",
      "3  3kmxzbm7  COVID-19 (Novel Coronavirus 2019) - recent trends   \n",
      "4  l2rmmjqb  Validation of the British Society of Thoracic ...   \n",
      "5  zub7xdi9  Comparison of the computed tomography findings...   \n",
      "6  rxd08ouk  Cognitive, Affective, and Behavioral Construct...   \n",
      "7  448tamvr  Validation of the British Society of Thoracic ...   \n",
      "8  eyelcflh  Cognitive, Affective, and Behavioral Construct...   \n",
      "9  1loqavom  Stability Analysis and Numerical Simulation of...   \n",
      "\n",
      "                                            abstract  \\\n",
      "0  The World Health Organization (WHO) has issued...   \n",
      "1  The pandemic of the coronavirus disease 2019 (...   \n",
      "2  Objectives: To investigate whether people who ...   \n",
      "3  The World Health Organization (WHO) has issued...   \n",
      "4  AIM: To validate the British Society of Thorac...   \n",
      "5  OBJECTIVES: To compare the chest computed tomo...   \n",
      "6  This online survey study aimed to compare the ...   \n",
      "7  Abstract Aim To validate the British Society o...   \n",
      "8  This online survey study aimed to compare the ...   \n",
      "9  The Aim of this research is construct the SEIR...   \n",
      "\n",
      "                                             summary  \\\n",
      "0  COVID-19 is similar to Severe Acute Respirator...   \n",
      "1  COVID-19 is marked by its rapid progression fr...   \n",
      "2  The impact of believing you have had COVID-19 ...   \n",
      "3  COVID-19 is similar to Severe Acute Respirator...   \n",
      "4  Validation of the British Society of Thoracic ...   \n",
      "5  Comparison of the computed tomography findings...   \n",
      "6  In total, 533 sexual minority and 1421 heteros...   \n",
      "7  Validation of the British Society of Thoracic ...   \n",
      "8  In total, 533 sexual minority and 1421 heteros...   \n",
      "9  Stability Analysis and Numerical Simulation of...   \n",
      "\n",
      "                                             KeyList  \n",
      "0  ['covid-19', 'sars-cov', 'similar', 'severe ac...  \n",
      "1  ['covid-19', 'lipid alterations', 'severe cond...  \n",
      "2  ['covid-19', 'people', 'social distancing meas...  \n",
      "3  ['covid-19', 'sars-cov', 'similar', 'severe ac...  \n",
      "4  ['covid-19', 'patients', 'covid-19 chest radio...  \n",
      "5  ['covid-19', 'ggo', 'bilateral distribution', ...  \n",
      "6  ['covid-19', 'sexual minority', 'heterosexual ...  \n",
      "7  ['covid-19', 'patients', 'covid-19 chest radio...  \n",
      "8  ['covid-19', 'sexual minority', 'heterosexual ...  \n",
      "9  ['pandemic covid-19', 'seir model', 'stability...  \n"
     ]
    },
    {
     "name": "stderr",
     "output_type": "stream",
     "text": [
      "127.0.0.1 - - [12/Mar/2023 13:19:03] \"GET /query?searchString=knkj HTTP/1.1\" 200 -\n",
      "127.0.0.1 - - [12/Mar/2023 13:19:03] \"GET /query?searchString=knkj HTTP/1.1\" 200 -\n"
     ]
    },
    {
     "name": "stdout",
     "output_type": "stream",
     "text": [
      "      docno                                              title  \\\n",
      "0  awitk3se  COVID-19 (Novel Coronavirus 2019) - recent tre...   \n",
      "1  s4dqx9en  Plasma Metabolomic and Lipidomic Alterations A...   \n",
      "2  u56ydlve  The impact of believing you have had COVID-19 ...   \n",
      "3  3kmxzbm7  COVID-19 (Novel Coronavirus 2019) - recent trends   \n",
      "4  l2rmmjqb  Validation of the British Society of Thoracic ...   \n",
      "5  zub7xdi9  Comparison of the computed tomography findings...   \n",
      "6  rxd08ouk  Cognitive, Affective, and Behavioral Construct...   \n",
      "7  448tamvr  Validation of the British Society of Thoracic ...   \n",
      "8  eyelcflh  Cognitive, Affective, and Behavioral Construct...   \n",
      "9  1loqavom  Stability Analysis and Numerical Simulation of...   \n",
      "\n",
      "                                            abstract  \\\n",
      "0  The World Health Organization (WHO) has issued...   \n",
      "1  The pandemic of the coronavirus disease 2019 (...   \n",
      "2  Objectives: To investigate whether people who ...   \n",
      "3  The World Health Organization (WHO) has issued...   \n",
      "4  AIM: To validate the British Society of Thorac...   \n",
      "5  OBJECTIVES: To compare the chest computed tomo...   \n",
      "6  This online survey study aimed to compare the ...   \n",
      "7  Abstract Aim To validate the British Society o...   \n",
      "8  This online survey study aimed to compare the ...   \n",
      "9  The Aim of this research is construct the SEIR...   \n",
      "\n",
      "                                             summary  \\\n",
      "0  COVID-19 is similar to Severe Acute Respirator...   \n",
      "1  COVID-19 is marked by its rapid progression fr...   \n",
      "2  The impact of believing you have had COVID-19 ...   \n",
      "3  COVID-19 is similar to Severe Acute Respirator...   \n",
      "4  Validation of the British Society of Thoracic ...   \n",
      "5  Comparison of the computed tomography findings...   \n",
      "6  In total, 533 sexual minority and 1421 heteros...   \n",
      "7  Validation of the British Society of Thoracic ...   \n",
      "8  In total, 533 sexual minority and 1421 heteros...   \n",
      "9  Stability Analysis and Numerical Simulation of...   \n",
      "\n",
      "                                             KeyList  \n",
      "0  ['covid-19', 'sars-cov', 'similar', 'severe ac...  \n",
      "1  ['covid-19', 'lipid alterations', 'severe cond...  \n",
      "2  ['covid-19', 'people', 'social distancing meas...  \n",
      "3  ['covid-19', 'sars-cov', 'similar', 'severe ac...  \n",
      "4  ['covid-19', 'patients', 'covid-19 chest radio...  \n",
      "5  ['covid-19', 'ggo', 'bilateral distribution', ...  \n",
      "6  ['covid-19', 'sexual minority', 'heterosexual ...  \n",
      "7  ['covid-19', 'patients', 'covid-19 chest radio...  \n",
      "8  ['covid-19', 'sexual minority', 'heterosexual ...  \n",
      "9  ['pandemic covid-19', 'seir model', 'stability...  \n",
      "      docno                                              title  \\\n",
      "0  awitk3se  COVID-19 (Novel Coronavirus 2019) - recent tre...   \n",
      "1  s4dqx9en  Plasma Metabolomic and Lipidomic Alterations A...   \n",
      "2  u56ydlve  The impact of believing you have had COVID-19 ...   \n",
      "3  3kmxzbm7  COVID-19 (Novel Coronavirus 2019) - recent trends   \n",
      "4  l2rmmjqb  Validation of the British Society of Thoracic ...   \n",
      "5  zub7xdi9  Comparison of the computed tomography findings...   \n",
      "6  rxd08ouk  Cognitive, Affective, and Behavioral Construct...   \n",
      "7  448tamvr  Validation of the British Society of Thoracic ...   \n",
      "8  eyelcflh  Cognitive, Affective, and Behavioral Construct...   \n",
      "9  1loqavom  Stability Analysis and Numerical Simulation of...   \n",
      "\n",
      "                                            abstract  \\\n",
      "0  The World Health Organization (WHO) has issued...   \n",
      "1  The pandemic of the coronavirus disease 2019 (...   \n",
      "2  Objectives: To investigate whether people who ...   \n",
      "3  The World Health Organization (WHO) has issued...   \n",
      "4  AIM: To validate the British Society of Thorac...   \n",
      "5  OBJECTIVES: To compare the chest computed tomo...   \n",
      "6  This online survey study aimed to compare the ...   \n",
      "7  Abstract Aim To validate the British Society o...   \n",
      "8  This online survey study aimed to compare the ...   \n",
      "9  The Aim of this research is construct the SEIR...   \n",
      "\n",
      "                                             summary  \\\n",
      "0  COVID-19 is similar to Severe Acute Respirator...   \n",
      "1  COVID-19 is marked by its rapid progression fr...   \n",
      "2  The impact of believing you have had COVID-19 ...   \n",
      "3  COVID-19 is similar to Severe Acute Respirator...   \n",
      "4  Validation of the British Society of Thoracic ...   \n",
      "5  Comparison of the computed tomography findings...   \n",
      "6  In total, 533 sexual minority and 1421 heteros...   \n",
      "7  Validation of the British Society of Thoracic ...   \n",
      "8  In total, 533 sexual minority and 1421 heteros...   \n",
      "9  Stability Analysis and Numerical Simulation of...   \n",
      "\n",
      "                                             KeyList  \n",
      "0  ['covid-19', 'sars-cov', 'similar', 'severe ac...  \n",
      "1  ['covid-19', 'lipid alterations', 'severe cond...  \n",
      "2  ['covid-19', 'people', 'social distancing meas...  \n",
      "3  ['covid-19', 'sars-cov', 'similar', 'severe ac...  \n",
      "4  ['covid-19', 'patients', 'covid-19 chest radio...  \n",
      "5  ['covid-19', 'ggo', 'bilateral distribution', ...  \n",
      "6  ['covid-19', 'sexual minority', 'heterosexual ...  \n",
      "7  ['covid-19', 'patients', 'covid-19 chest radio...  \n",
      "8  ['covid-19', 'sexual minority', 'heterosexual ...  \n",
      "9  ['pandemic covid-19', 'seir model', 'stability...  \n"
     ]
    },
    {
     "name": "stderr",
     "output_type": "stream",
     "text": [
      "127.0.0.1 - - [12/Mar/2023 13:19:03] \"GET /query?searchString=knkj HTTP/1.1\" 200 -\n"
     ]
    },
    {
     "name": "stdout",
     "output_type": "stream",
     "text": [
      "      docno                                              title  \\\n",
      "0  awitk3se  COVID-19 (Novel Coronavirus 2019) - recent tre...   \n",
      "1  s4dqx9en  Plasma Metabolomic and Lipidomic Alterations A...   \n",
      "2  u56ydlve  The impact of believing you have had COVID-19 ...   \n",
      "3  3kmxzbm7  COVID-19 (Novel Coronavirus 2019) - recent trends   \n",
      "4  l2rmmjqb  Validation of the British Society of Thoracic ...   \n",
      "5  zub7xdi9  Comparison of the computed tomography findings...   \n",
      "6  rxd08ouk  Cognitive, Affective, and Behavioral Construct...   \n",
      "7  448tamvr  Validation of the British Society of Thoracic ...   \n",
      "8  eyelcflh  Cognitive, Affective, and Behavioral Construct...   \n",
      "9  1loqavom  Stability Analysis and Numerical Simulation of...   \n",
      "\n",
      "                                            abstract  \\\n",
      "0  The World Health Organization (WHO) has issued...   \n",
      "1  The pandemic of the coronavirus disease 2019 (...   \n",
      "2  Objectives: To investigate whether people who ...   \n",
      "3  The World Health Organization (WHO) has issued...   \n",
      "4  AIM: To validate the British Society of Thorac...   \n",
      "5  OBJECTIVES: To compare the chest computed tomo...   \n",
      "6  This online survey study aimed to compare the ...   \n",
      "7  Abstract Aim To validate the British Society o...   \n",
      "8  This online survey study aimed to compare the ...   \n",
      "9  The Aim of this research is construct the SEIR...   \n",
      "\n",
      "                                             summary  \\\n",
      "0  COVID-19 is similar to Severe Acute Respirator...   \n",
      "1  COVID-19 is marked by its rapid progression fr...   \n",
      "2  The impact of believing you have had COVID-19 ...   \n",
      "3  COVID-19 is similar to Severe Acute Respirator...   \n",
      "4  Validation of the British Society of Thoracic ...   \n",
      "5  Comparison of the computed tomography findings...   \n",
      "6  In total, 533 sexual minority and 1421 heteros...   \n",
      "7  Validation of the British Society of Thoracic ...   \n",
      "8  In total, 533 sexual minority and 1421 heteros...   \n",
      "9  Stability Analysis and Numerical Simulation of...   \n",
      "\n",
      "                                             KeyList  \n",
      "0  ['covid-19', 'sars-cov', 'similar', 'severe ac...  \n",
      "1  ['covid-19', 'lipid alterations', 'severe cond...  \n",
      "2  ['covid-19', 'people', 'social distancing meas...  \n",
      "3  ['covid-19', 'sars-cov', 'similar', 'severe ac...  \n",
      "4  ['covid-19', 'patients', 'covid-19 chest radio...  \n",
      "5  ['covid-19', 'ggo', 'bilateral distribution', ...  \n",
      "6  ['covid-19', 'sexual minority', 'heterosexual ...  \n",
      "7  ['covid-19', 'patients', 'covid-19 chest radio...  \n",
      "8  ['covid-19', 'sexual minority', 'heterosexual ...  \n",
      "9  ['pandemic covid-19', 'seir model', 'stability...  \n"
     ]
    },
    {
     "name": "stderr",
     "output_type": "stream",
     "text": [
      "127.0.0.1 - - [12/Mar/2023 13:19:12] \"GET /query?searchString=covid19 HTTP/1.1\" 200 -\n"
     ]
    },
    {
     "name": "stdout",
     "output_type": "stream",
     "text": [
      "      docno                                              title  \\\n",
      "0  awitk3se  COVID-19 (Novel Coronavirus 2019) - recent tre...   \n",
      "1  s4dqx9en  Plasma Metabolomic and Lipidomic Alterations A...   \n",
      "2  u56ydlve  The impact of believing you have had COVID-19 ...   \n",
      "3  3kmxzbm7  COVID-19 (Novel Coronavirus 2019) - recent trends   \n",
      "4  l2rmmjqb  Validation of the British Society of Thoracic ...   \n",
      "5  zub7xdi9  Comparison of the computed tomography findings...   \n",
      "6  rxd08ouk  Cognitive, Affective, and Behavioral Construct...   \n",
      "7  448tamvr  Validation of the British Society of Thoracic ...   \n",
      "8  eyelcflh  Cognitive, Affective, and Behavioral Construct...   \n",
      "9  1loqavom  Stability Analysis and Numerical Simulation of...   \n",
      "\n",
      "                                            abstract  \\\n",
      "0  The World Health Organization (WHO) has issued...   \n",
      "1  The pandemic of the coronavirus disease 2019 (...   \n",
      "2  Objectives: To investigate whether people who ...   \n",
      "3  The World Health Organization (WHO) has issued...   \n",
      "4  AIM: To validate the British Society of Thorac...   \n",
      "5  OBJECTIVES: To compare the chest computed tomo...   \n",
      "6  This online survey study aimed to compare the ...   \n",
      "7  Abstract Aim To validate the British Society o...   \n",
      "8  This online survey study aimed to compare the ...   \n",
      "9  The Aim of this research is construct the SEIR...   \n",
      "\n",
      "                                             summary  \\\n",
      "0  COVID-19 is similar to Severe Acute Respirator...   \n",
      "1  COVID-19 is marked by its rapid progression fr...   \n",
      "2  The impact of believing you have had COVID-19 ...   \n",
      "3  COVID-19 is similar to Severe Acute Respirator...   \n",
      "4  Validation of the British Society of Thoracic ...   \n",
      "5  Comparison of the computed tomography findings...   \n",
      "6  In total, 533 sexual minority and 1421 heteros...   \n",
      "7  Validation of the British Society of Thoracic ...   \n",
      "8  In total, 533 sexual minority and 1421 heteros...   \n",
      "9  Stability Analysis and Numerical Simulation of...   \n",
      "\n",
      "                                             KeyList  \n",
      "0  ['covid-19', 'sars-cov', 'similar', 'severe ac...  \n",
      "1  ['covid-19', 'lipid alterations', 'severe cond...  \n",
      "2  ['covid-19', 'people', 'social distancing meas...  \n",
      "3  ['covid-19', 'sars-cov', 'similar', 'severe ac...  \n",
      "4  ['covid-19', 'patients', 'covid-19 chest radio...  \n",
      "5  ['covid-19', 'ggo', 'bilateral distribution', ...  \n",
      "6  ['covid-19', 'sexual minority', 'heterosexual ...  \n",
      "7  ['covid-19', 'patients', 'covid-19 chest radio...  \n",
      "8  ['covid-19', 'sexual minority', 'heterosexual ...  \n",
      "9  ['pandemic covid-19', 'seir model', 'stability...  \n"
     ]
    },
    {
     "name": "stderr",
     "output_type": "stream",
     "text": [
      "127.0.0.1 - - [12/Mar/2023 13:20:38] \"OPTIONS /feedback HTTP/1.1\" 200 -\n",
      "127.0.0.1 - - [12/Mar/2023 13:20:39] \"POST /feedback HTTP/1.1\" 200 -\n"
     ]
    },
    {
     "name": "stdout",
     "output_type": "stream",
     "text": [
      "Length of sum_of_rel_doc_vectors is zero\n",
      "Length of sum_of_irrel_doc_vectors is zero\n",
      "Length of sum_of_rel_key_vectors is zero\n",
      "Length of sum_of_irrel_key_vectors is zero\n"
     ]
    },
    {
     "name": "stderr",
     "output_type": "stream",
     "text": [
      "127.0.0.1 - - [12/Mar/2023 13:20:53] \"GET /query?searchString=Covid19 HTTP/1.1\" 200 -\n"
     ]
    },
    {
     "name": "stdout",
     "output_type": "stream",
     "text": [
      "      docno                                              title  \\\n",
      "0  awitk3se  COVID-19 (Novel Coronavirus 2019) - recent tre...   \n",
      "1  s4dqx9en  Plasma Metabolomic and Lipidomic Alterations A...   \n",
      "2  u56ydlve  The impact of believing you have had COVID-19 ...   \n",
      "3  3kmxzbm7  COVID-19 (Novel Coronavirus 2019) - recent trends   \n",
      "4  l2rmmjqb  Validation of the British Society of Thoracic ...   \n",
      "5  zub7xdi9  Comparison of the computed tomography findings...   \n",
      "6  rxd08ouk  Cognitive, Affective, and Behavioral Construct...   \n",
      "7  448tamvr  Validation of the British Society of Thoracic ...   \n",
      "8  eyelcflh  Cognitive, Affective, and Behavioral Construct...   \n",
      "9  1loqavom  Stability Analysis and Numerical Simulation of...   \n",
      "\n",
      "                                            abstract  \\\n",
      "0  The World Health Organization (WHO) has issued...   \n",
      "1  The pandemic of the coronavirus disease 2019 (...   \n",
      "2  Objectives: To investigate whether people who ...   \n",
      "3  The World Health Organization (WHO) has issued...   \n",
      "4  AIM: To validate the British Society of Thorac...   \n",
      "5  OBJECTIVES: To compare the chest computed tomo...   \n",
      "6  This online survey study aimed to compare the ...   \n",
      "7  Abstract Aim To validate the British Society o...   \n",
      "8  This online survey study aimed to compare the ...   \n",
      "9  The Aim of this research is construct the SEIR...   \n",
      "\n",
      "                                             summary  \\\n",
      "0  COVID-19 is similar to Severe Acute Respirator...   \n",
      "1  COVID-19 is marked by its rapid progression fr...   \n",
      "2  The impact of believing you have had COVID-19 ...   \n",
      "3  COVID-19 is similar to Severe Acute Respirator...   \n",
      "4  Validation of the British Society of Thoracic ...   \n",
      "5  Comparison of the computed tomography findings...   \n",
      "6  In total, 533 sexual minority and 1421 heteros...   \n",
      "7  Validation of the British Society of Thoracic ...   \n",
      "8  In total, 533 sexual minority and 1421 heteros...   \n",
      "9  Stability Analysis and Numerical Simulation of...   \n",
      "\n",
      "                                             KeyList  \n",
      "0  ['covid-19', 'sars-cov', 'similar', 'severe ac...  \n",
      "1  ['covid-19', 'lipid alterations', 'severe cond...  \n",
      "2  ['covid-19', 'people', 'social distancing meas...  \n",
      "3  ['covid-19', 'sars-cov', 'similar', 'severe ac...  \n",
      "4  ['covid-19', 'patients', 'covid-19 chest radio...  \n",
      "5  ['covid-19', 'ggo', 'bilateral distribution', ...  \n",
      "6  ['covid-19', 'sexual minority', 'heterosexual ...  \n",
      "7  ['covid-19', 'patients', 'covid-19 chest radio...  \n",
      "8  ['covid-19', 'sexual minority', 'heterosexual ...  \n",
      "9  ['pandemic covid-19', 'seir model', 'stability...  \n"
     ]
    },
    {
     "name": "stderr",
     "output_type": "stream",
     "text": [
      "127.0.0.1 - - [12/Mar/2023 13:21:20] \"OPTIONS /feedback HTTP/1.1\" 200 -\n",
      "127.0.0.1 - - [12/Mar/2023 13:21:20] \"POST /feedback HTTP/1.1\" 200 -\n"
     ]
    },
    {
     "name": "stdout",
     "output_type": "stream",
     "text": [
      "Length of sum_of_rel_doc_vectors is zero\n",
      "Length of sum_of_irrel_doc_vectors is zero\n",
      "Length of sum_of_rel_key_vectors is zero\n",
      "Length of sum_of_irrel_key_vectors is zero\n"
     ]
    },
    {
     "name": "stderr",
     "output_type": "stream",
     "text": [
      "127.0.0.1 - - [12/Mar/2023 13:22:33] \"GET /query?searchString=kjhljkh HTTP/1.1\" 200 -\n"
     ]
    },
    {
     "name": "stdout",
     "output_type": "stream",
     "text": [
      "      docno                                              title  \\\n",
      "0  awitk3se  COVID-19 (Novel Coronavirus 2019) - recent tre...   \n",
      "1  s4dqx9en  Plasma Metabolomic and Lipidomic Alterations A...   \n",
      "2  u56ydlve  The impact of believing you have had COVID-19 ...   \n",
      "3  3kmxzbm7  COVID-19 (Novel Coronavirus 2019) - recent trends   \n",
      "4  l2rmmjqb  Validation of the British Society of Thoracic ...   \n",
      "5  zub7xdi9  Comparison of the computed tomography findings...   \n",
      "6  rxd08ouk  Cognitive, Affective, and Behavioral Construct...   \n",
      "7  448tamvr  Validation of the British Society of Thoracic ...   \n",
      "8  eyelcflh  Cognitive, Affective, and Behavioral Construct...   \n",
      "9  1loqavom  Stability Analysis and Numerical Simulation of...   \n",
      "\n",
      "                                            abstract  \\\n",
      "0  The World Health Organization (WHO) has issued...   \n",
      "1  The pandemic of the coronavirus disease 2019 (...   \n",
      "2  Objectives: To investigate whether people who ...   \n",
      "3  The World Health Organization (WHO) has issued...   \n",
      "4  AIM: To validate the British Society of Thorac...   \n",
      "5  OBJECTIVES: To compare the chest computed tomo...   \n",
      "6  This online survey study aimed to compare the ...   \n",
      "7  Abstract Aim To validate the British Society o...   \n",
      "8  This online survey study aimed to compare the ...   \n",
      "9  The Aim of this research is construct the SEIR...   \n",
      "\n",
      "                                             summary  \\\n",
      "0  COVID-19 is similar to Severe Acute Respirator...   \n",
      "1  COVID-19 is marked by its rapid progression fr...   \n",
      "2  The impact of believing you have had COVID-19 ...   \n",
      "3  COVID-19 is similar to Severe Acute Respirator...   \n",
      "4  Validation of the British Society of Thoracic ...   \n",
      "5  Comparison of the computed tomography findings...   \n",
      "6  In total, 533 sexual minority and 1421 heteros...   \n",
      "7  Validation of the British Society of Thoracic ...   \n",
      "8  In total, 533 sexual minority and 1421 heteros...   \n",
      "9  Stability Analysis and Numerical Simulation of...   \n",
      "\n",
      "                                             KeyList  \n",
      "0  ['covid-19', 'sars-cov', 'similar', 'severe ac...  \n",
      "1  ['covid-19', 'lipid alterations', 'severe cond...  \n",
      "2  ['covid-19', 'people', 'social distancing meas...  \n",
      "3  ['covid-19', 'sars-cov', 'similar', 'severe ac...  \n",
      "4  ['covid-19', 'patients', 'covid-19 chest radio...  \n",
      "5  ['covid-19', 'ggo', 'bilateral distribution', ...  \n",
      "6  ['covid-19', 'sexual minority', 'heterosexual ...  \n",
      "7  ['covid-19', 'patients', 'covid-19 chest radio...  \n",
      "8  ['covid-19', 'sexual minority', 'heterosexual ...  \n",
      "9  ['pandemic covid-19', 'seir model', 'stability...  \n"
     ]
    },
    {
     "name": "stderr",
     "output_type": "stream",
     "text": [
      "127.0.0.1 - - [12/Mar/2023 13:23:03] \"OPTIONS /feedback HTTP/1.1\" 200 -\n",
      "127.0.0.1 - - [12/Mar/2023 13:23:04] \"POST /feedback HTTP/1.1\" 200 -\n"
     ]
    },
    {
     "name": "stdout",
     "output_type": "stream",
     "text": [
      "Length of sum_of_rel_doc_vectors is zero\n",
      "Length of sum_of_irrel_doc_vectors is zero\n",
      "Length of sum_of_rel_key_vectors is zero\n",
      "Length of sum_of_irrel_key_vectors is zero\n"
     ]
    }
   ],
   "source": [
    "\n",
    "app = flask.Flask(__name__)\n",
    "\n",
    "# app.config[\"DEBUG\"] = True\n",
    "CORS(app)\n",
    "\n",
    "@app.route('/query', methods=['GET'])\n",
    "def search():\n",
    "    query = request.args.get('searchString')\n",
    "    print(query)\n",
    "    searchResults = search_query(query)\n",
    "    print(searchResults.head())\n",
    "    searchResultswithkeys = key_phrasification(searchResults)\n",
    "\n",
    "    global query_df\n",
    "    query_dict = {'query': [query], 'query_vec' : [np.nan], 'new_query_vec' : [np.nan] }\n",
    "    query_df = pd.DataFrame(data=query_dict, index=[0])\n",
    "    print(searchResultswithkeys)\n",
    "    return searchResultswithkeys.to_json(orient='records')\n",
    "\n",
    "# Feedback\n",
    "@app.route('/feedback', methods=['POST'])\n",
    "def fetchFeedback():\n",
    "    feedbackJson = request.json['updates']\n",
    "    relevanceList = []\n",
    "    if len(feedbackJson):\n",
    "        for doc in feedbackJson:\n",
    "            for relevance in doc['value']:\n",
    "                relevanceList.append(relevance)\n",
    "    feedback_df = pd.DataFrame(relevanceList)\n",
    "    feedback_df.drop(columns=['bntStyle'], inplace=True)\n",
    "    reranked_df = get_reranking(feedback_df)\n",
    "    return reranked_df.to_json(orient='records')\n",
    "\n",
    "\n",
    "if __name__ == \"__main__\":\n",
    "\n",
    "    app.run(host='0.0.0.0',port=5030)"
   ],
   "metadata": {
    "collapsed": false,
    "pycharm": {
     "name": "#%%\n",
     "is_executing": true
    }
   }
  },
  {
   "cell_type": "markdown",
   "source": [
    "###Feedback"
   ],
   "metadata": {
    "collapsed": false,
    "pycharm": {
     "name": "#%% md\n"
    }
   }
  },
  {
   "cell_type": "code",
   "execution_count": 316,
   "outputs": [
    {
     "name": "stdout",
     "output_type": "stream",
     "text": [
      "Length of sum_of_rel_doc_vectors is zero\n",
      "Length of sum_of_irrel_doc_vectors is zero\n",
      "Length of sum_of_rel_key_vectors is zero\n",
      "Length of sum_of_irrel_key_vectors is zero\n"
     ]
    },
    {
     "data": {
      "text/plain": "      docno                                              title  \\\n3  xp2dlrry  Angiotensin-converting enzyme (ACE1, ACE2) gen...   \n6  2m5t5wyf         COVID19 coagulopathy in Caucasian patients   \n8  urapl8c6  A note on 'Collider bias undermines our unders...   \n9  cjj7tv8p         COVID19 coagulopathy in Caucasian patients   \n5  w4qb7207         COVID19 coagulopathy in Caucasian patients   \n0  myfw58yo  Reentry to Metabolic and Bariatric Surgery Dur...   \n7  offpyz12  Reentry to Metabolic and Bariatric Surgery Dur...   \n4  uuzgbs2m  Trends of SARS-CoV-2 infection worldwide: Role...   \n2  mrsjhjh4  Estimating Preventable COVID19 Infections Rela...   \n1  itbhorxo  Association of Poor Housing Conditions with CO...   \n\n                                            abstract  \\\n3  Background: The Angiotensin system is implicat...   \n6  Although the pathophysiology underlying severe...   \n8  An important recent preprint by Griffith et al...   \n9  Although the pathophysiology underlying severe...   \n5  Although the pathophysiology underlying severe...   \n0  Patients with obesity and diabetes have higher...   \n7  Patients with obesity and diabetes have higher...   \n4  Introduction The disease transmission pattern ...   \n2  Background: As the number of suspected and con...   \n1  Objective: Poor housing conditions have been l...   \n\n                                             summary  \\\n3  In the multiple logistic regression hypertensi...   \n6  Elevated D-dimer levels which correlated inver...   \n8  This is typically caused by the data being res...   \n9  Elevated D‐dimer levels which correlated inver...   \n5  Elevated D-dimer levels which correlated inver...   \n0  Several organization including IFSO and the Am...   \n7  Several organization including IFSO and the Am...   \n4  Conclusion This analysis provides important in...   \n2  Methods: Using previously published informatio...   \n1  Results: Across 3135 US counties, the mean per...   \n\n                                             KeyList  relevant  \\\n3  ['covid19 severity', 'ace2', 'ace1', 'hyperten...     False   \n6  ['covid19 coagulopathy', 'lung-centric coagulo...     False   \n8  ['covid-19 disease risk', 'covid19', 'collider...     False   \n9  ['covid19 coagulopathy', 'caucasian patients',...     False   \n5  ['covid19 coagulopathy', 'lung-centric coagulo...     False   \n0  ['covid19 pandemic', 'patients', 'mbs', 'peak ...      True   \n7  ['covid19 pandemic', 'patients', 'mbs', 'peak ...     False   \n4  ['case fatality', 'covid19', 'population densi...     False   \n2  ['elective outpatient surgery', 'preventable c...      True   \n1  ['poor housing conditions', 'covid19', 'mortal...      True   \n\n                                         summary_vec  \\\n3  [0.9026284, 1.0508883, -0.081514485, 1.3574095...   \n6  [1.1183947, -0.36124516, -0.07257336, 0.968292...   \n8  [0.4065053, -0.15291587, 1.5125816, -0.4278617...   \n9  [0.8565085, -0.29660863, -0.09685133, 1.068373...   \n5  [0.98127216, -0.33352777, -0.022671469, 1.0367...   \n0  [0.21198943, -0.20119978, -1.3667753, 1.522798...   \n7  [0.08447472, -0.25651386, -1.4377247, 1.605091...   \n4  [0.69716114, -0.033502072, -0.711874, 0.078361...   \n2  [-1.3670787, 0.5491157, 2.8512216, 0.5088996, ...   \n1  [0.77151775, -1.5926095, -0.91378343, 0.704413...   \n\n                                         keyList_vec  \\\n3  [0.0013942532, 0.47705057, -0.92859244, -1.234...   \n6  [0.17692876, 0.3111524, -0.5121597, -1.4617735...   \n8  [0.19852604, 0.39682266, -0.45879364, -1.47100...   \n9  [0.1703498, 0.29054877, -0.5844124, -1.5083971...   \n5  [0.18643174, 0.26665467, -0.6213019, -1.429624...   \n0  [0.32396257, 0.20286836, -1.476932, -1.3169717...   \n7  [0.074682325, 0.2634223, -1.4241207, -1.287290...   \n4  [0.47066632, 0.27610645, -0.9888173, -2.090206...   \n2  [0.4074999, 0.23190933, -0.8165629, -1.9263462...   \n1  [0.106166825, 0.3739771, -0.9301564, -1.804033...   \n\n   Cosine_Similarity_keyList_vec  \n3                       0.941603  \n6                       0.930530  \n8                       0.930338  \n9                       0.928420  \n5                       0.925021  \n0                       0.924842  \n7                       0.923727  \n4                       0.920001  \n2                       0.919926  \n1                       0.914907  ",
      "text/html": "<div>\n<style scoped>\n    .dataframe tbody tr th:only-of-type {\n        vertical-align: middle;\n    }\n\n    .dataframe tbody tr th {\n        vertical-align: top;\n    }\n\n    .dataframe thead th {\n        text-align: right;\n    }\n</style>\n<table border=\"1\" class=\"dataframe\">\n  <thead>\n    <tr style=\"text-align: right;\">\n      <th></th>\n      <th>docno</th>\n      <th>title</th>\n      <th>abstract</th>\n      <th>summary</th>\n      <th>KeyList</th>\n      <th>relevant</th>\n      <th>summary_vec</th>\n      <th>keyList_vec</th>\n      <th>Cosine_Similarity_keyList_vec</th>\n    </tr>\n  </thead>\n  <tbody>\n    <tr>\n      <th>3</th>\n      <td>xp2dlrry</td>\n      <td>Angiotensin-converting enzyme (ACE1, ACE2) gen...</td>\n      <td>Background: The Angiotensin system is implicat...</td>\n      <td>In the multiple logistic regression hypertensi...</td>\n      <td>['covid19 severity', 'ace2', 'ace1', 'hyperten...</td>\n      <td>False</td>\n      <td>[0.9026284, 1.0508883, -0.081514485, 1.3574095...</td>\n      <td>[0.0013942532, 0.47705057, -0.92859244, -1.234...</td>\n      <td>0.941603</td>\n    </tr>\n    <tr>\n      <th>6</th>\n      <td>2m5t5wyf</td>\n      <td>COVID19 coagulopathy in Caucasian patients</td>\n      <td>Although the pathophysiology underlying severe...</td>\n      <td>Elevated D-dimer levels which correlated inver...</td>\n      <td>['covid19 coagulopathy', 'lung-centric coagulo...</td>\n      <td>False</td>\n      <td>[1.1183947, -0.36124516, -0.07257336, 0.968292...</td>\n      <td>[0.17692876, 0.3111524, -0.5121597, -1.4617735...</td>\n      <td>0.930530</td>\n    </tr>\n    <tr>\n      <th>8</th>\n      <td>urapl8c6</td>\n      <td>A note on 'Collider bias undermines our unders...</td>\n      <td>An important recent preprint by Griffith et al...</td>\n      <td>This is typically caused by the data being res...</td>\n      <td>['covid-19 disease risk', 'covid19', 'collider...</td>\n      <td>False</td>\n      <td>[0.4065053, -0.15291587, 1.5125816, -0.4278617...</td>\n      <td>[0.19852604, 0.39682266, -0.45879364, -1.47100...</td>\n      <td>0.930338</td>\n    </tr>\n    <tr>\n      <th>9</th>\n      <td>cjj7tv8p</td>\n      <td>COVID19 coagulopathy in Caucasian patients</td>\n      <td>Although the pathophysiology underlying severe...</td>\n      <td>Elevated D‐dimer levels which correlated inver...</td>\n      <td>['covid19 coagulopathy', 'caucasian patients',...</td>\n      <td>False</td>\n      <td>[0.8565085, -0.29660863, -0.09685133, 1.068373...</td>\n      <td>[0.1703498, 0.29054877, -0.5844124, -1.5083971...</td>\n      <td>0.928420</td>\n    </tr>\n    <tr>\n      <th>5</th>\n      <td>w4qb7207</td>\n      <td>COVID19 coagulopathy in Caucasian patients</td>\n      <td>Although the pathophysiology underlying severe...</td>\n      <td>Elevated D-dimer levels which correlated inver...</td>\n      <td>['covid19 coagulopathy', 'lung-centric coagulo...</td>\n      <td>False</td>\n      <td>[0.98127216, -0.33352777, -0.022671469, 1.0367...</td>\n      <td>[0.18643174, 0.26665467, -0.6213019, -1.429624...</td>\n      <td>0.925021</td>\n    </tr>\n    <tr>\n      <th>0</th>\n      <td>myfw58yo</td>\n      <td>Reentry to Metabolic and Bariatric Surgery Dur...</td>\n      <td>Patients with obesity and diabetes have higher...</td>\n      <td>Several organization including IFSO and the Am...</td>\n      <td>['covid19 pandemic', 'patients', 'mbs', 'peak ...</td>\n      <td>True</td>\n      <td>[0.21198943, -0.20119978, -1.3667753, 1.522798...</td>\n      <td>[0.32396257, 0.20286836, -1.476932, -1.3169717...</td>\n      <td>0.924842</td>\n    </tr>\n    <tr>\n      <th>7</th>\n      <td>offpyz12</td>\n      <td>Reentry to Metabolic and Bariatric Surgery Dur...</td>\n      <td>Patients with obesity and diabetes have higher...</td>\n      <td>Several organization including IFSO and the Am...</td>\n      <td>['covid19 pandemic', 'patients', 'mbs', 'peak ...</td>\n      <td>False</td>\n      <td>[0.08447472, -0.25651386, -1.4377247, 1.605091...</td>\n      <td>[0.074682325, 0.2634223, -1.4241207, -1.287290...</td>\n      <td>0.923727</td>\n    </tr>\n    <tr>\n      <th>4</th>\n      <td>uuzgbs2m</td>\n      <td>Trends of SARS-CoV-2 infection worldwide: Role...</td>\n      <td>Introduction The disease transmission pattern ...</td>\n      <td>Conclusion This analysis provides important in...</td>\n      <td>['case fatality', 'covid19', 'population densi...</td>\n      <td>False</td>\n      <td>[0.69716114, -0.033502072, -0.711874, 0.078361...</td>\n      <td>[0.47066632, 0.27610645, -0.9888173, -2.090206...</td>\n      <td>0.920001</td>\n    </tr>\n    <tr>\n      <th>2</th>\n      <td>mrsjhjh4</td>\n      <td>Estimating Preventable COVID19 Infections Rela...</td>\n      <td>Background: As the number of suspected and con...</td>\n      <td>Methods: Using previously published informatio...</td>\n      <td>['elective outpatient surgery', 'preventable c...</td>\n      <td>True</td>\n      <td>[-1.3670787, 0.5491157, 2.8512216, 0.5088996, ...</td>\n      <td>[0.4074999, 0.23190933, -0.8165629, -1.9263462...</td>\n      <td>0.919926</td>\n    </tr>\n    <tr>\n      <th>1</th>\n      <td>itbhorxo</td>\n      <td>Association of Poor Housing Conditions with CO...</td>\n      <td>Objective: Poor housing conditions have been l...</td>\n      <td>Results: Across 3135 US counties, the mean per...</td>\n      <td>['poor housing conditions', 'covid19', 'mortal...</td>\n      <td>True</td>\n      <td>[0.77151775, -1.5926095, -0.91378343, 0.704413...</td>\n      <td>[0.106166825, 0.3739771, -0.9301564, -1.804033...</td>\n      <td>0.914907</td>\n    </tr>\n  </tbody>\n</table>\n</div>"
     },
     "execution_count": 316,
     "metadata": {},
     "output_type": "execute_result"
    }
   ],
   "source": [
    "query_df = pd.DataFrame\n",
    "query = 'Covid19 Origin'\n",
    "query_dict = {'query': [query], 'query_vec' : [np.nan], 'new_query_vec' : [np.nan] }\n",
    "query_df = pd.DataFrame(data=q, index=[0])\n",
    "\n",
    "def fetchFeedback():\n",
    "\n",
    "    feedback_df = pd.read_csv('/Users/GovindShukla/Desktop/Information-Retrieval-Project/feedback.csv')\n",
    "    feedback_df.drop(columns=['bntStyle'], inplace=True)\n",
    "    reranked_df = get_reranking(feedback_df)\n",
    "    return reranked_df\n",
    "\n",
    "fetchFeedback()"
   ],
   "metadata": {
    "collapsed": false,
    "pycharm": {
     "name": "#%%\n"
    }
   }
  },
  {
   "cell_type": "code",
   "execution_count": 314,
   "outputs": [],
   "source": [
    "def get_reranking(feedback_df : pd.DataFrame):\n",
    "    global  query_df\n",
    "    feedback_df[\"summary_vec\"] = get_vectors(feedback_df['summary'], model)\n",
    "    feedback_df[\"keyList_vec\"] = get_vectors(feedback_df['KeyList'], model)\n",
    "    relevant_df = feedback_df.loc[feedback_df['relevant'] == True]\n",
    "    irrelevant_df = feedback_df.loc[feedback_df['relevant'] == False]\n",
    "    query_df[\"query_vec\"]  = get_vectors(query_df['query'].values, model)\n",
    "    query_df['new_query_vec'] = rocchio_algorithm(query_df[\"query_vec\"][0], relevant_df[\"summary_vec\"].values, irrelevant_df[\"summary_vec\"].values, relevant_df[\"keyList_vec\"].values, irrelevant_df[\"keyList_vec\"].values, 1.0, 0.5,1.0, 0.5)\n",
    "    sorted_dataset = rank_data(query_df['new_query_vec'].values, feedback_df, \"keyList_vec\")\n",
    "    return sorted_dataset"
   ],
   "metadata": {
    "collapsed": false,
    "pycharm": {
     "name": "#%%\n"
    }
   }
  },
  {
   "cell_type": "code",
   "execution_count": 308,
   "outputs": [
    {
     "name": "stdout",
     "output_type": "stream",
     "text": [
      "0    COVID-19 is similar to Severe Acute Respirator...\n",
      "1    COVID-19 is marked by its rapid progression fr...\n",
      "2    The impact of believing you have had COVID-19 ...\n",
      "3    COVID-19 is similar to Severe Acute Respirator...\n",
      "4    Validation of the British Society of Thoracic ...\n",
      "5    Comparison of the computed tomography findings...\n",
      "6    In total, 533 sexual minority and 1421 heteros...\n",
      "7    Validation of the British Society of Thoracic ...\n",
      "8    In total, 533 sexual minority and 1421 heteros...\n",
      "9    Stability Analysis and Numerical Simulation of...\n",
      "Name: summary, dtype: object\n",
      "Length of sum_of_rel_doc_vectors is zero\n",
      "Length of sum_of_irrel_doc_vectors is zero\n",
      "Length of sum_of_rel_key_vectors is zero\n",
      "Length of sum_of_irrel_key_vectors is zero\n",
      "1    COVID-19 is marked by its rapid progression fr...\n",
      "0    COVID-19 is similar to Severe Acute Respirator...\n",
      "5    Comparison of the computed tomography findings...\n",
      "3    COVID-19 is similar to Severe Acute Respirator...\n",
      "2    The impact of believing you have had COVID-19 ...\n",
      "9    Stability Analysis and Numerical Simulation of...\n",
      "8    In total, 533 sexual minority and 1421 heteros...\n",
      "6    In total, 533 sexual minority and 1421 heteros...\n",
      "7    Validation of the British Society of Thoracic ...\n",
      "4    Validation of the British Society of Thoracic ...\n",
      "Name: summary, dtype: object\n"
     ]
    }
   ],
   "source": [
    "def cal_RM():\n",
    "    data = pd.read_csv('/Users/GovindShukla/Desktop/Information-Retrieval-Project/search_result.csv')\n",
    "    print(data['summary'])\n",
    "    model = define_d2v_model(data['abstract'])\n",
    "    q = {'query': ['Covid19 Origin'], 'query_vec' : [np.nan], 'new_query_vec' : [np.nan] }\n",
    "    query_df = pd.DataFrame(data=q, index=[0])\n",
    "    data[\"summary_vec\"] = get_vectors(data['summary'], model)\n",
    "    data[\"keyList_vec\"] = get_vectors(data['KeyList'], model)\n",
    "    query_df[\"query_vec\"]  = get_vectors(query_df['query'].values, model)\n",
    "    query_df['new_query_vec'] = rocchio_algorithm(query_df[\"query_vec\"][0], data[\"summary_vec\"].head(3).values, data[\"summary_vec\"].head(7).values,\n",
    "                      data[\"keyList_vec\"].head(3).values, data[\"keyList_vec\"].head(7).values, 1.0, 0.5,1.0, 0.5)\n",
    "    sorted_dataset = rank_data(query_df['new_query_vec'].values, data, \"keyList_vec\")\n",
    "    print(sorted_dataset['summary'])\n",
    "cal_RM()"
   ],
   "metadata": {
    "collapsed": false,
    "pycharm": {
     "name": "#%%\n"
    }
   }
  },
  {
   "cell_type": "code",
   "execution_count": 16,
   "outputs": [],
   "source": [],
   "metadata": {
    "collapsed": false,
    "pycharm": {
     "name": "#%%\n"
    }
   }
  },
  {
   "cell_type": "code",
   "execution_count": 28,
   "outputs": [],
   "source": [],
   "metadata": {
    "collapsed": false,
    "pycharm": {
     "name": "#%%\n"
    }
   }
  },
  {
   "cell_type": "code",
   "execution_count": null,
   "outputs": [],
   "source": [],
   "metadata": {
    "collapsed": false,
    "pycharm": {
     "name": "#%%\n"
    }
   }
  }
 ]
}