{
 "cells": [
  {
   "cell_type": "code",
   "execution_count": 1,
   "id": "bf8d445d",
   "metadata": {
    "pycharm": {
     "name": "#%%\n"
    }
   },
   "outputs": [],
   "source": [
    "import pandas as pd\n",
    "import numpy as np\n",
    "import matchzoo as mz\n",
    "import tensorflow as tf\n",
    "import sys\n",
    "path = '/Users/GovindShukla/tensorflow-env/DRMM_Data_Preprocessed/'\n",
    "fold = int(5)"
   ]
  },
  {
   "cell_type": "code",
   "execution_count": 2,
   "outputs": [
    {
     "name": "stdout",
     "output_type": "stream",
     "text": [
      "loading embedding ...\n",
      "embedding loaded as `glove_embedding`\n"
     ]
    }
   ],
   "source": [
    "print(\"loading embedding ...\")\n",
    "glove_embedding = mz.datasets.embeddings.load_glove_embedding(dimension=300)\n",
    "print(\"embedding loaded as `glove_embedding`\")"
   ],
   "metadata": {
    "collapsed": false,
    "pycharm": {
     "name": "#%%\n"
    }
   }
  },
  {
   "cell_type": "code",
   "execution_count": 3,
   "id": "0ae89bf3",
   "metadata": {
    "pycharm": {
     "name": "#%%\n"
    }
   },
   "outputs": [
    {
     "name": "stdout",
     "output_type": "stream",
     "text": [
      "Loading fold:   5\n"
     ]
    }
   ],
   "source": [
    "print(\"Loading fold:  \",fold)\n",
    "preprocessor = mz.load_preprocessor(path + \"robust_preprocessor_fold_\"+str(fold))"
   ]
  },
  {
   "cell_type": "code",
   "execution_count": 4,
   "id": "4ee1f334",
   "metadata": {
    "pycharm": {
     "name": "#%%\n"
    }
   },
   "outputs": [
    {
     "name": "stdout",
     "output_type": "stream",
     "text": [
      "preprocessor context:    {'filter_unit': <matchzoo.preprocessors.units.frequency_filter.FrequencyFilter object at 0x106456d10>, 'vocab_unit': <matchzoo.preprocessors.units.vocabulary.Vocabulary object at 0x106456710>, 'vocab_size': 535342, 'embedding_input_dim': 535342, 'input_shapes': [(10,), (100,)]}\n"
     ]
    }
   ],
   "source": [
    "print(\"preprocessor context:   \", preprocessor.context)"
   ]
  },
  {
   "cell_type": "code",
   "execution_count": 5,
   "id": "0c0cfee9",
   "metadata": {
    "pycharm": {
     "name": "#%%\n"
    }
   },
   "outputs": [
    {
     "name": "stdout",
     "output_type": "stream",
     "text": [
      "ranking task ok\n"
     ]
    }
   ],
   "source": [
    "ranking_task = mz.tasks.Ranking(loss=mz.losses.RankHingeLoss(num_neg=1))\n",
    "ranking_task.metrics = [\n",
    "    mz.metrics.NormalizedDiscountedCumulativeGain(k=20),\n",
    "    mz.metrics.MeanAveragePrecision(),\n",
    "    mz.metrics.Precision(k=20)\n",
    "]\n",
    "\n",
    "print(\"ranking task ok\")"
   ]
  },
  {
   "cell_type": "code",
   "execution_count": 6,
   "id": "01f71889",
   "metadata": {
    "pycharm": {
     "name": "#%%\n"
    }
   },
   "outputs": [
    {
     "name": "stdout",
     "output_type": "stream",
     "text": [
      "Model: \"model\"\n",
      "__________________________________________________________________________________________________\n",
      " Layer (type)                   Output Shape         Param #     Connected to                     \n",
      "==================================================================================================\n",
      " text_left (InputLayer)         [(None, 10)]         0           []                               \n",
      "                                                                                                  \n",
      " embedding (Embedding)          (None, 10, 300)      160602600   ['text_left[0][0]']              \n",
      "                                                                                                  \n",
      " match_histogram (InputLayer)   [(None, 10, 30)]     0           []                               \n",
      "                                                                                                  \n",
      " dense (Dense)                  (None, 10, 1)        300         ['embedding[0][0]']              \n",
      "                                                                                                  \n",
      " dense_1 (Dense)                (None, 10, 5)        155         ['match_histogram[0][0]']        \n",
      "                                                                                                  \n",
      " attention_mask (Lambda)        (None, 10, 1)        0           ['dense[0][0]']                  \n",
      "                                                                                                  \n",
      " dense_2 (Dense)                (None, 10, 5)        30          ['dense_1[0][0]']                \n",
      "                                                                                                  \n",
      " attention_probs (Lambda)       (None, 10, 1)        0           ['attention_mask[0][0]']         \n",
      "                                                                                                  \n",
      " dense_3 (Dense)                (None, 10, 1)        6           ['dense_2[0][0]']                \n",
      "                                                                                                  \n",
      " dot (Dot)                      (None, 1, 1)         0           ['attention_probs[0][0]',        \n",
      "                                                                  'dense_3[0][0]']                \n",
      "                                                                                                  \n",
      " flatten (Flatten)              (None, 1)            0           ['dot[0][0]']                    \n",
      "                                                                                                  \n",
      " dense_4 (Dense)                (None, 1)            2           ['flatten[0][0]']                \n",
      "                                                                                                  \n",
      "==================================================================================================\n",
      "Total params: 160,603,093\n",
      "Trainable params: 160,603,093\n",
      "Non-trainable params: 0\n",
      "__________________________________________________________________________________________________\n",
      "model params set\n"
     ]
    }
   ],
   "source": [
    "bin_size = 30\n",
    "model = mz.models.DRMM()\n",
    "model.params.update(preprocessor.context)\n",
    "model.params['input_shapes'] = [[10,], [10, bin_size,]]\n",
    "model.params['task'] = ranking_task\n",
    "model.params['mask_value'] = -1\n",
    "model.params['embedding_output_dim'] = glove_embedding.output_dim\n",
    "model.params['mlp_num_layers'] = 2\n",
    "model.params['mlp_num_units'] = 5\n",
    "model.params['mlp_num_fan_out'] = 1\n",
    "model.params['mlp_activation_func'] = 'tanh'\n",
    "model.params['optimizer'] = 'adadelta'\n",
    "model.build()\n",
    "model.compile()\n",
    "model.backend.summary()\n",
    "\n",
    "print(\"model params set\")"
   ]
  },
  {
   "cell_type": "code",
   "execution_count": 7,
   "id": "5bf105a5",
   "metadata": {
    "pycharm": {
     "name": "#%%\n"
    }
   },
   "outputs": [
    {
     "name": "stdout",
     "output_type": "stream",
     "text": [
      "datapacks OK\n"
     ]
    }
   ],
   "source": [
    "train_pack_processed = mz.load_data_pack(path + \"robust_train_fold_\"+str(fold))\n",
    "\n",
    "dev_pack_processed = mz.load_data_pack(path + \"robust_dev_fold_\"+str(fold))\n",
    "\n",
    "print(\"datapacks OK\")"
   ]
  },
  {
   "cell_type": "code",
   "execution_count": 8,
   "id": "777f3ec3",
   "metadata": {
    "pycharm": {
     "name": "#%%\n"
    }
   },
   "outputs": [],
   "source": [
    "embedding_matrix = glove_embedding.build_matrix(preprocessor.context['vocab_unit'].state['term_index'])\n",
    "#normalize the word embedding for fast histogram generating.\n",
    "l2_norm = np.sqrt((embedding_matrix*embedding_matrix).sum(axis=1))\n",
    "embedding_matrix = embedding_matrix / l2_norm[:, np.newaxis]"
   ]
  },
  {
   "cell_type": "code",
   "execution_count": 9,
   "id": "7bca040b",
   "metadata": {
    "pycharm": {
     "name": "#%%\n"
    }
   },
   "outputs": [
    {
     "name": "stderr",
     "output_type": "stream",
     "text": [
      "2022-11-08 22:51:39.610043: I tensorflow/compiler/mlir/mlir_graph_optimization_pass.cc:354] MLIR V1 optimization pass is not enabled\n",
      "2022-11-08 22:51:39.613821: W tensorflow/core/platform/profile_utils/cpu_utils.cc:128] Failed to get CPU frequency: 0 Hz\n"
     ]
    },
    {
     "name": "stdout",
     "output_type": "stream",
     "text": [
      "embedding matrix loaded\n"
     ]
    }
   ],
   "source": [
    "model.load_embedding_matrix(embedding_matrix)\n",
    "\n",
    "print(\"embedding matrix loaded\")"
   ]
  },
  {
   "cell_type": "code",
   "execution_count": 10,
   "id": "4b62e5f5",
   "metadata": {
    "pycharm": {
     "name": "#%%\n"
    }
   },
   "outputs": [],
   "source": [
    "hist_callback = mz.data_generator.callbacks.Histogram(embedding_matrix, bin_size=30, hist_mode='LCH')"
   ]
  },
  {
   "cell_type": "code",
   "execution_count": 11,
   "id": "fd6fbc98",
   "metadata": {
    "pycharm": {
     "name": "#%%\n"
    }
   },
   "outputs": [
    {
     "name": "stdout",
     "output_type": "stream",
     "text": [
      "pred generator\n"
     ]
    }
   ],
   "source": [
    "pred_generator = mz.DataGenerator(dev_pack_processed, mode='point', callbacks=[hist_callback])\n",
    "\n",
    "print(\"pred generator\")"
   ]
  },
  {
   "cell_type": "code",
   "execution_count": 17,
   "id": "68fc7a40",
   "metadata": {
    "pycharm": {
     "name": "#%%\n"
    }
   },
   "outputs": [
    {
     "name": "stdout",
     "output_type": "stream",
     "text": [
      "num batches: 532\n"
     ]
    }
   ],
   "source": [
    "pred_x, pred_y = pred_generator[:]\n",
    "evaluate = mz.callbacks.EvaluateAllMetrics(model,\n",
    "                                           x=pred_x,\n",
    "                                           y=pred_y,\n",
    "                                           once_every=1,\n",
    "                                           batch_size=len(pred_y),\n",
    "                                           model_save_path='./pretrained_models/drmm_pretrained_model_fold'+str(fold)+'/'\n",
    "                                          )\n",
    "\n",
    "train_generator = mz.DataGenerator(train_pack_processed, mode='pair', num_dup=2, num_neg=1, batch_size=20,\n",
    "                                   callbacks=[hist_callback])\n",
    "print('num batches:', len(train_generator))"
   ]
  },
  {
   "cell_type": "code",
   "execution_count": 21,
   "id": "001acb0c",
   "metadata": {
    "pycharm": {
     "name": "#%%\n"
    }
   },
   "outputs": [
    {
     "name": "stdout",
     "output_type": "stream",
     "text": [
      "Epoch 1/50\n"
     ]
    },
    {
     "name": "stderr",
     "output_type": "stream",
     "text": [
      "/Users/GovindShukla/miniforge3/envs/GSCS/lib/python3.10/site-packages/matchzoo/engine/base_model.py:273: UserWarning: `model.fit_generator` is deprecated and will be removed in a future version. Please use `Model.fit`, which supports generators.\n",
      "  return self._backend.fit_generator(\n"
     ]
    },
    {
     "name": "stdout",
     "output_type": "stream",
     "text": [
      "530/532 [============================>.] - ETA: 0s - batch: 264.5000 - size: 39.9547 - loss: 0.9986Validation: normalized_discounted_cumulative_gain@20(0.0): 0.04089057565674577 - mean_average_precision(0.0): 0.05957575428879084 - precision@20(0.0): 0.045000000000000005\n"
     ]
    },
    {
     "ename": "TypeError",
     "evalue": "'<' not supported between instances of 'NormalizedDiscountedCumulativeGain' and 'str'",
     "output_type": "error",
     "traceback": [
      "\u001B[0;31m---------------------------------------------------------------------------\u001B[0m",
      "\u001B[0;31mTypeError\u001B[0m                                 Traceback (most recent call last)",
      "Input \u001B[0;32mIn [21]\u001B[0m, in \u001B[0;36m<cell line: 1>\u001B[0;34m()\u001B[0m\n\u001B[0;32m----> 1\u001B[0m history \u001B[38;5;241m=\u001B[39m \u001B[43mmodel\u001B[49m\u001B[38;5;241;43m.\u001B[39;49m\u001B[43mfit_generator\u001B[49m\u001B[43m(\u001B[49m\u001B[43mtrain_generator\u001B[49m\u001B[43m,\u001B[49m\u001B[43m \u001B[49m\u001B[43mepochs\u001B[49m\u001B[38;5;241;43m=\u001B[39;49m\u001B[38;5;241;43m50\u001B[39;49m\u001B[43m,\u001B[49m\u001B[43m \u001B[49m\u001B[43mcallbacks\u001B[49m\u001B[38;5;241;43m=\u001B[39;49m\u001B[43m[\u001B[49m\u001B[43mevaluate\u001B[49m\u001B[43m]\u001B[49m\u001B[43m,\u001B[49m\u001B[43m \u001B[49m\u001B[43mworkers\u001B[49m\u001B[38;5;241;43m=\u001B[39;49m\u001B[38;5;241;43m8\u001B[39;49m\u001B[43m)\u001B[49m\n",
      "File \u001B[0;32m~/miniforge3/envs/GSCS/lib/python3.10/site-packages/matchzoo/engine/base_model.py:273\u001B[0m, in \u001B[0;36mBaseModel.fit_generator\u001B[0;34m(self, generator, epochs, verbose, **kwargs)\u001B[0m\n\u001B[1;32m    252\u001B[0m \u001B[38;5;28;01mdef\u001B[39;00m \u001B[38;5;21mfit_generator\u001B[39m(\n\u001B[1;32m    253\u001B[0m     \u001B[38;5;28mself\u001B[39m,\n\u001B[1;32m    254\u001B[0m     generator: matchzoo\u001B[38;5;241m.\u001B[39mDataGenerator,\n\u001B[0;32m   (...)\u001B[0m\n\u001B[1;32m    257\u001B[0m     \u001B[38;5;241m*\u001B[39m\u001B[38;5;241m*\u001B[39mkwargs\n\u001B[1;32m    258\u001B[0m ) \u001B[38;5;241m-\u001B[39m\u001B[38;5;241m>\u001B[39m keras\u001B[38;5;241m.\u001B[39mcallbacks\u001B[38;5;241m.\u001B[39mHistory:\n\u001B[1;32m    259\u001B[0m     \u001B[38;5;124;03m\"\"\"\u001B[39;00m\n\u001B[1;32m    260\u001B[0m \u001B[38;5;124;03m    Fit the model with matchzoo `generator`.\u001B[39;00m\n\u001B[1;32m    261\u001B[0m \n\u001B[0;32m   (...)\u001B[0m\n\u001B[1;32m    271\u001B[0m \u001B[38;5;124;03m        contains all information collected during training.\u001B[39;00m\n\u001B[1;32m    272\u001B[0m \u001B[38;5;124;03m    \"\"\"\u001B[39;00m\n\u001B[0;32m--> 273\u001B[0m     \u001B[38;5;28;01mreturn\u001B[39;00m \u001B[38;5;28;43mself\u001B[39;49m\u001B[38;5;241;43m.\u001B[39;49m\u001B[43m_backend\u001B[49m\u001B[38;5;241;43m.\u001B[39;49m\u001B[43mfit_generator\u001B[49m\u001B[43m(\u001B[49m\n\u001B[1;32m    274\u001B[0m \u001B[43m        \u001B[49m\u001B[43mgenerator\u001B[49m\u001B[38;5;241;43m=\u001B[39;49m\u001B[43mgenerator\u001B[49m\u001B[43m,\u001B[49m\n\u001B[1;32m    275\u001B[0m \u001B[43m        \u001B[49m\u001B[43mepochs\u001B[49m\u001B[38;5;241;43m=\u001B[39;49m\u001B[43mepochs\u001B[49m\u001B[43m,\u001B[49m\n\u001B[1;32m    276\u001B[0m \u001B[43m        \u001B[49m\u001B[43mverbose\u001B[49m\u001B[38;5;241;43m=\u001B[39;49m\u001B[43mverbose\u001B[49m\u001B[43m,\u001B[49m\u001B[43m \u001B[49m\u001B[38;5;241;43m*\u001B[39;49m\u001B[38;5;241;43m*\u001B[39;49m\u001B[43mkwargs\u001B[49m\n\u001B[1;32m    277\u001B[0m \u001B[43m    \u001B[49m\u001B[43m)\u001B[49m\n",
      "File \u001B[0;32m~/miniforge3/envs/GSCS/lib/python3.10/site-packages/keras/engine/training_v1.py:1355\u001B[0m, in \u001B[0;36mModel.fit_generator\u001B[0;34m(self, generator, steps_per_epoch, epochs, verbose, callbacks, validation_data, validation_steps, validation_freq, class_weight, max_queue_size, workers, use_multiprocessing, shuffle, initial_epoch)\u001B[0m\n\u001B[1;32m   1343\u001B[0m \u001B[38;5;124;03m\"\"\"Fits the model on data yielded batch-by-batch by a Python generator.\u001B[39;00m\n\u001B[1;32m   1344\u001B[0m \n\u001B[1;32m   1345\u001B[0m \u001B[38;5;124;03mDEPRECATED:\u001B[39;00m\n\u001B[1;32m   1346\u001B[0m \u001B[38;5;124;03m  `Model.fit` now supports generators, so there is no longer any need to\u001B[39;00m\n\u001B[1;32m   1347\u001B[0m \u001B[38;5;124;03m  use this endpoint.\u001B[39;00m\n\u001B[1;32m   1348\u001B[0m \u001B[38;5;124;03m\"\"\"\u001B[39;00m\n\u001B[1;32m   1349\u001B[0m warnings\u001B[38;5;241m.\u001B[39mwarn(\n\u001B[1;32m   1350\u001B[0m     \u001B[38;5;124m\"\u001B[39m\u001B[38;5;124m`model.fit_generator` is deprecated and \u001B[39m\u001B[38;5;124m\"\u001B[39m\n\u001B[1;32m   1351\u001B[0m     \u001B[38;5;124m\"\u001B[39m\u001B[38;5;124mwill be removed in a future version. \u001B[39m\u001B[38;5;124m\"\u001B[39m\n\u001B[1;32m   1352\u001B[0m     \u001B[38;5;124m\"\u001B[39m\u001B[38;5;124mPlease use `Model.fit`, which supports generators.\u001B[39m\u001B[38;5;124m\"\u001B[39m,\n\u001B[1;32m   1353\u001B[0m     stacklevel\u001B[38;5;241m=\u001B[39m\u001B[38;5;241m2\u001B[39m,\n\u001B[1;32m   1354\u001B[0m )\n\u001B[0;32m-> 1355\u001B[0m \u001B[38;5;28;01mreturn\u001B[39;00m \u001B[38;5;28;43mself\u001B[39;49m\u001B[38;5;241;43m.\u001B[39;49m\u001B[43mfit\u001B[49m\u001B[43m(\u001B[49m\n\u001B[1;32m   1356\u001B[0m \u001B[43m    \u001B[49m\u001B[43mgenerator\u001B[49m\u001B[43m,\u001B[49m\n\u001B[1;32m   1357\u001B[0m \u001B[43m    \u001B[49m\u001B[43msteps_per_epoch\u001B[49m\u001B[38;5;241;43m=\u001B[39;49m\u001B[43msteps_per_epoch\u001B[49m\u001B[43m,\u001B[49m\n\u001B[1;32m   1358\u001B[0m \u001B[43m    \u001B[49m\u001B[43mepochs\u001B[49m\u001B[38;5;241;43m=\u001B[39;49m\u001B[43mepochs\u001B[49m\u001B[43m,\u001B[49m\n\u001B[1;32m   1359\u001B[0m \u001B[43m    \u001B[49m\u001B[43mverbose\u001B[49m\u001B[38;5;241;43m=\u001B[39;49m\u001B[43mverbose\u001B[49m\u001B[43m,\u001B[49m\n\u001B[1;32m   1360\u001B[0m \u001B[43m    \u001B[49m\u001B[43mcallbacks\u001B[49m\u001B[38;5;241;43m=\u001B[39;49m\u001B[43mcallbacks\u001B[49m\u001B[43m,\u001B[49m\n\u001B[1;32m   1361\u001B[0m \u001B[43m    \u001B[49m\u001B[43mvalidation_data\u001B[49m\u001B[38;5;241;43m=\u001B[39;49m\u001B[43mvalidation_data\u001B[49m\u001B[43m,\u001B[49m\n\u001B[1;32m   1362\u001B[0m \u001B[43m    \u001B[49m\u001B[43mvalidation_steps\u001B[49m\u001B[38;5;241;43m=\u001B[39;49m\u001B[43mvalidation_steps\u001B[49m\u001B[43m,\u001B[49m\n\u001B[1;32m   1363\u001B[0m \u001B[43m    \u001B[49m\u001B[43mvalidation_freq\u001B[49m\u001B[38;5;241;43m=\u001B[39;49m\u001B[43mvalidation_freq\u001B[49m\u001B[43m,\u001B[49m\n\u001B[1;32m   1364\u001B[0m \u001B[43m    \u001B[49m\u001B[43mclass_weight\u001B[49m\u001B[38;5;241;43m=\u001B[39;49m\u001B[43mclass_weight\u001B[49m\u001B[43m,\u001B[49m\n\u001B[1;32m   1365\u001B[0m \u001B[43m    \u001B[49m\u001B[43mmax_queue_size\u001B[49m\u001B[38;5;241;43m=\u001B[39;49m\u001B[43mmax_queue_size\u001B[49m\u001B[43m,\u001B[49m\n\u001B[1;32m   1366\u001B[0m \u001B[43m    \u001B[49m\u001B[43mworkers\u001B[49m\u001B[38;5;241;43m=\u001B[39;49m\u001B[43mworkers\u001B[49m\u001B[43m,\u001B[49m\n\u001B[1;32m   1367\u001B[0m \u001B[43m    \u001B[49m\u001B[43muse_multiprocessing\u001B[49m\u001B[38;5;241;43m=\u001B[39;49m\u001B[43muse_multiprocessing\u001B[49m\u001B[43m,\u001B[49m\n\u001B[1;32m   1368\u001B[0m \u001B[43m    \u001B[49m\u001B[43mshuffle\u001B[49m\u001B[38;5;241;43m=\u001B[39;49m\u001B[43mshuffle\u001B[49m\u001B[43m,\u001B[49m\n\u001B[1;32m   1369\u001B[0m \u001B[43m    \u001B[49m\u001B[43minitial_epoch\u001B[49m\u001B[38;5;241;43m=\u001B[39;49m\u001B[43minitial_epoch\u001B[49m\u001B[43m,\u001B[49m\n\u001B[1;32m   1370\u001B[0m \u001B[43m\u001B[49m\u001B[43m)\u001B[49m\n",
      "File \u001B[0;32m~/miniforge3/envs/GSCS/lib/python3.10/site-packages/keras/engine/training_v1.py:855\u001B[0m, in \u001B[0;36mModel.fit\u001B[0;34m(self, x, y, batch_size, epochs, verbose, callbacks, validation_split, validation_data, shuffle, class_weight, sample_weight, initial_epoch, steps_per_epoch, validation_steps, validation_freq, max_queue_size, workers, use_multiprocessing, **kwargs)\u001B[0m\n\u001B[1;32m    852\u001B[0m \u001B[38;5;28mself\u001B[39m\u001B[38;5;241m.\u001B[39m_check_call_args(\u001B[38;5;124m\"\u001B[39m\u001B[38;5;124mfit\u001B[39m\u001B[38;5;124m\"\u001B[39m)\n\u001B[1;32m    854\u001B[0m func \u001B[38;5;241m=\u001B[39m \u001B[38;5;28mself\u001B[39m\u001B[38;5;241m.\u001B[39m_select_training_loop(x)\n\u001B[0;32m--> 855\u001B[0m \u001B[38;5;28;01mreturn\u001B[39;00m \u001B[43mfunc\u001B[49m\u001B[38;5;241;43m.\u001B[39;49m\u001B[43mfit\u001B[49m\u001B[43m(\u001B[49m\n\u001B[1;32m    856\u001B[0m \u001B[43m    \u001B[49m\u001B[38;5;28;43mself\u001B[39;49m\u001B[43m,\u001B[49m\n\u001B[1;32m    857\u001B[0m \u001B[43m    \u001B[49m\u001B[43mx\u001B[49m\u001B[38;5;241;43m=\u001B[39;49m\u001B[43mx\u001B[49m\u001B[43m,\u001B[49m\n\u001B[1;32m    858\u001B[0m \u001B[43m    \u001B[49m\u001B[43my\u001B[49m\u001B[38;5;241;43m=\u001B[39;49m\u001B[43my\u001B[49m\u001B[43m,\u001B[49m\n\u001B[1;32m    859\u001B[0m \u001B[43m    \u001B[49m\u001B[43mbatch_size\u001B[49m\u001B[38;5;241;43m=\u001B[39;49m\u001B[43mbatch_size\u001B[49m\u001B[43m,\u001B[49m\n\u001B[1;32m    860\u001B[0m \u001B[43m    \u001B[49m\u001B[43mepochs\u001B[49m\u001B[38;5;241;43m=\u001B[39;49m\u001B[43mepochs\u001B[49m\u001B[43m,\u001B[49m\n\u001B[1;32m    861\u001B[0m \u001B[43m    \u001B[49m\u001B[43mverbose\u001B[49m\u001B[38;5;241;43m=\u001B[39;49m\u001B[43mverbose\u001B[49m\u001B[43m,\u001B[49m\n\u001B[1;32m    862\u001B[0m \u001B[43m    \u001B[49m\u001B[43mcallbacks\u001B[49m\u001B[38;5;241;43m=\u001B[39;49m\u001B[43mcallbacks\u001B[49m\u001B[43m,\u001B[49m\n\u001B[1;32m    863\u001B[0m \u001B[43m    \u001B[49m\u001B[43mvalidation_split\u001B[49m\u001B[38;5;241;43m=\u001B[39;49m\u001B[43mvalidation_split\u001B[49m\u001B[43m,\u001B[49m\n\u001B[1;32m    864\u001B[0m \u001B[43m    \u001B[49m\u001B[43mvalidation_data\u001B[49m\u001B[38;5;241;43m=\u001B[39;49m\u001B[43mvalidation_data\u001B[49m\u001B[43m,\u001B[49m\n\u001B[1;32m    865\u001B[0m \u001B[43m    \u001B[49m\u001B[43mshuffle\u001B[49m\u001B[38;5;241;43m=\u001B[39;49m\u001B[43mshuffle\u001B[49m\u001B[43m,\u001B[49m\n\u001B[1;32m    866\u001B[0m \u001B[43m    \u001B[49m\u001B[43mclass_weight\u001B[49m\u001B[38;5;241;43m=\u001B[39;49m\u001B[43mclass_weight\u001B[49m\u001B[43m,\u001B[49m\n\u001B[1;32m    867\u001B[0m \u001B[43m    \u001B[49m\u001B[43msample_weight\u001B[49m\u001B[38;5;241;43m=\u001B[39;49m\u001B[43msample_weight\u001B[49m\u001B[43m,\u001B[49m\n\u001B[1;32m    868\u001B[0m \u001B[43m    \u001B[49m\u001B[43minitial_epoch\u001B[49m\u001B[38;5;241;43m=\u001B[39;49m\u001B[43minitial_epoch\u001B[49m\u001B[43m,\u001B[49m\n\u001B[1;32m    869\u001B[0m \u001B[43m    \u001B[49m\u001B[43msteps_per_epoch\u001B[49m\u001B[38;5;241;43m=\u001B[39;49m\u001B[43msteps_per_epoch\u001B[49m\u001B[43m,\u001B[49m\n\u001B[1;32m    870\u001B[0m \u001B[43m    \u001B[49m\u001B[43mvalidation_steps\u001B[49m\u001B[38;5;241;43m=\u001B[39;49m\u001B[43mvalidation_steps\u001B[49m\u001B[43m,\u001B[49m\n\u001B[1;32m    871\u001B[0m \u001B[43m    \u001B[49m\u001B[43mvalidation_freq\u001B[49m\u001B[38;5;241;43m=\u001B[39;49m\u001B[43mvalidation_freq\u001B[49m\u001B[43m,\u001B[49m\n\u001B[1;32m    872\u001B[0m \u001B[43m    \u001B[49m\u001B[43mmax_queue_size\u001B[49m\u001B[38;5;241;43m=\u001B[39;49m\u001B[43mmax_queue_size\u001B[49m\u001B[43m,\u001B[49m\n\u001B[1;32m    873\u001B[0m \u001B[43m    \u001B[49m\u001B[43mworkers\u001B[49m\u001B[38;5;241;43m=\u001B[39;49m\u001B[43mworkers\u001B[49m\u001B[43m,\u001B[49m\n\u001B[1;32m    874\u001B[0m \u001B[43m    \u001B[49m\u001B[43muse_multiprocessing\u001B[49m\u001B[38;5;241;43m=\u001B[39;49m\u001B[43muse_multiprocessing\u001B[49m\u001B[43m,\u001B[49m\n\u001B[1;32m    875\u001B[0m \u001B[43m\u001B[49m\u001B[43m)\u001B[49m\n",
      "File \u001B[0;32m~/miniforge3/envs/GSCS/lib/python3.10/site-packages/keras/engine/training_generator_v1.py:648\u001B[0m, in \u001B[0;36mGeneratorOrSequenceTrainingLoop.fit\u001B[0;34m(self, model, x, y, batch_size, epochs, verbose, callbacks, validation_split, validation_data, shuffle, class_weight, sample_weight, initial_epoch, steps_per_epoch, validation_steps, validation_freq, max_queue_size, workers, use_multiprocessing)\u001B[0m\n\u001B[1;32m    644\u001B[0m model\u001B[38;5;241m.\u001B[39m_validate_or_infer_batch_size(batch_size, steps_per_epoch, x)\n\u001B[1;32m    645\u001B[0m training_utils_v1\u001B[38;5;241m.\u001B[39mcheck_generator_arguments(\n\u001B[1;32m    646\u001B[0m     y, sample_weight, validation_split\u001B[38;5;241m=\u001B[39mvalidation_split\n\u001B[1;32m    647\u001B[0m )\n\u001B[0;32m--> 648\u001B[0m \u001B[38;5;28;01mreturn\u001B[39;00m \u001B[43mfit_generator\u001B[49m\u001B[43m(\u001B[49m\n\u001B[1;32m    649\u001B[0m \u001B[43m    \u001B[49m\u001B[43mmodel\u001B[49m\u001B[43m,\u001B[49m\n\u001B[1;32m    650\u001B[0m \u001B[43m    \u001B[49m\u001B[43mx\u001B[49m\u001B[43m,\u001B[49m\n\u001B[1;32m    651\u001B[0m \u001B[43m    \u001B[49m\u001B[43msteps_per_epoch\u001B[49m\u001B[38;5;241;43m=\u001B[39;49m\u001B[43msteps_per_epoch\u001B[49m\u001B[43m,\u001B[49m\n\u001B[1;32m    652\u001B[0m \u001B[43m    \u001B[49m\u001B[43mepochs\u001B[49m\u001B[38;5;241;43m=\u001B[39;49m\u001B[43mepochs\u001B[49m\u001B[43m,\u001B[49m\n\u001B[1;32m    653\u001B[0m \u001B[43m    \u001B[49m\u001B[43mverbose\u001B[49m\u001B[38;5;241;43m=\u001B[39;49m\u001B[43mverbose\u001B[49m\u001B[43m,\u001B[49m\n\u001B[1;32m    654\u001B[0m \u001B[43m    \u001B[49m\u001B[43mcallbacks\u001B[49m\u001B[38;5;241;43m=\u001B[39;49m\u001B[43mcallbacks\u001B[49m\u001B[43m,\u001B[49m\n\u001B[1;32m    655\u001B[0m \u001B[43m    \u001B[49m\u001B[43mvalidation_data\u001B[49m\u001B[38;5;241;43m=\u001B[39;49m\u001B[43mvalidation_data\u001B[49m\u001B[43m,\u001B[49m\n\u001B[1;32m    656\u001B[0m \u001B[43m    \u001B[49m\u001B[43mvalidation_steps\u001B[49m\u001B[38;5;241;43m=\u001B[39;49m\u001B[43mvalidation_steps\u001B[49m\u001B[43m,\u001B[49m\n\u001B[1;32m    657\u001B[0m \u001B[43m    \u001B[49m\u001B[43mvalidation_freq\u001B[49m\u001B[38;5;241;43m=\u001B[39;49m\u001B[43mvalidation_freq\u001B[49m\u001B[43m,\u001B[49m\n\u001B[1;32m    658\u001B[0m \u001B[43m    \u001B[49m\u001B[43mclass_weight\u001B[49m\u001B[38;5;241;43m=\u001B[39;49m\u001B[43mclass_weight\u001B[49m\u001B[43m,\u001B[49m\n\u001B[1;32m    659\u001B[0m \u001B[43m    \u001B[49m\u001B[43mmax_queue_size\u001B[49m\u001B[38;5;241;43m=\u001B[39;49m\u001B[43mmax_queue_size\u001B[49m\u001B[43m,\u001B[49m\n\u001B[1;32m    660\u001B[0m \u001B[43m    \u001B[49m\u001B[43mworkers\u001B[49m\u001B[38;5;241;43m=\u001B[39;49m\u001B[43mworkers\u001B[49m\u001B[43m,\u001B[49m\n\u001B[1;32m    661\u001B[0m \u001B[43m    \u001B[49m\u001B[43muse_multiprocessing\u001B[49m\u001B[38;5;241;43m=\u001B[39;49m\u001B[43muse_multiprocessing\u001B[49m\u001B[43m,\u001B[49m\n\u001B[1;32m    662\u001B[0m \u001B[43m    \u001B[49m\u001B[43mshuffle\u001B[49m\u001B[38;5;241;43m=\u001B[39;49m\u001B[43mshuffle\u001B[49m\u001B[43m,\u001B[49m\n\u001B[1;32m    663\u001B[0m \u001B[43m    \u001B[49m\u001B[43minitial_epoch\u001B[49m\u001B[38;5;241;43m=\u001B[39;49m\u001B[43minitial_epoch\u001B[49m\u001B[43m,\u001B[49m\n\u001B[1;32m    664\u001B[0m \u001B[43m    \u001B[49m\u001B[43msteps_name\u001B[49m\u001B[38;5;241;43m=\u001B[39;49m\u001B[38;5;124;43m\"\u001B[39;49m\u001B[38;5;124;43msteps_per_epoch\u001B[39;49m\u001B[38;5;124;43m\"\u001B[39;49m\u001B[43m,\u001B[49m\n\u001B[1;32m    665\u001B[0m \u001B[43m\u001B[49m\u001B[43m)\u001B[49m\n",
      "File \u001B[0;32m~/miniforge3/envs/GSCS/lib/python3.10/site-packages/keras/engine/training_generator_v1.py:351\u001B[0m, in \u001B[0;36mmodel_iteration\u001B[0;34m(model, data, steps_per_epoch, epochs, verbose, callbacks, validation_data, validation_steps, validation_freq, class_weight, max_queue_size, workers, use_multiprocessing, shuffle, initial_epoch, mode, batch_size, steps_name, **kwargs)\u001B[0m\n\u001B[1;32m    345\u001B[0m     epoch_logs \u001B[38;5;241m=\u001B[39m cbks\u001B[38;5;241m.\u001B[39mmake_logs(\n\u001B[1;32m    346\u001B[0m         model, epoch_logs, val_results, mode, prefix\u001B[38;5;241m=\u001B[39m\u001B[38;5;124m\"\u001B[39m\u001B[38;5;124mval_\u001B[39m\u001B[38;5;124m\"\u001B[39m\n\u001B[1;32m    347\u001B[0m     )\n\u001B[1;32m    349\u001B[0m \u001B[38;5;28;01mif\u001B[39;00m mode \u001B[38;5;241m==\u001B[39m ModeKeys\u001B[38;5;241m.\u001B[39mTRAIN:\n\u001B[1;32m    350\u001B[0m     \u001B[38;5;66;03m# Epochs only apply to `fit`.\u001B[39;00m\n\u001B[0;32m--> 351\u001B[0m     \u001B[43mcallbacks\u001B[49m\u001B[38;5;241;43m.\u001B[39;49m\u001B[43mon_epoch_end\u001B[49m\u001B[43m(\u001B[49m\u001B[43mepoch\u001B[49m\u001B[43m,\u001B[49m\u001B[43m \u001B[49m\u001B[43mepoch_logs\u001B[49m\u001B[43m)\u001B[49m\n\u001B[1;32m    353\u001B[0m \u001B[38;5;66;03m# Recreate dataset iterator for the next epoch.\u001B[39;00m\n\u001B[1;32m    354\u001B[0m \u001B[38;5;28;01mif\u001B[39;00m reset_dataset_after_each_epoch \u001B[38;5;129;01mand\u001B[39;00m epoch \u001B[38;5;241m<\u001B[39m epochs \u001B[38;5;241m-\u001B[39m \u001B[38;5;241m1\u001B[39m:\n",
      "File \u001B[0;32m~/miniforge3/envs/GSCS/lib/python3.10/site-packages/keras/callbacks.py:448\u001B[0m, in \u001B[0;36mCallbackList.on_epoch_end\u001B[0;34m(self, epoch, logs)\u001B[0m\n\u001B[1;32m    446\u001B[0m logs \u001B[38;5;241m=\u001B[39m \u001B[38;5;28mself\u001B[39m\u001B[38;5;241m.\u001B[39m_process_logs(logs)\n\u001B[1;32m    447\u001B[0m \u001B[38;5;28;01mfor\u001B[39;00m callback \u001B[38;5;129;01min\u001B[39;00m \u001B[38;5;28mself\u001B[39m\u001B[38;5;241m.\u001B[39mcallbacks:\n\u001B[0;32m--> 448\u001B[0m     \u001B[43mcallback\u001B[49m\u001B[38;5;241;43m.\u001B[39;49m\u001B[43mon_epoch_end\u001B[49m\u001B[43m(\u001B[49m\u001B[43mepoch\u001B[49m\u001B[43m,\u001B[49m\u001B[43m \u001B[49m\u001B[43mlogs\u001B[49m\u001B[43m)\u001B[49m\n",
      "File \u001B[0;32m~/miniforge3/envs/GSCS/lib/python3.10/site-packages/keras/callbacks.py:1092\u001B[0m, in \u001B[0;36mProgbarLogger.on_epoch_end\u001B[0;34m(self, epoch, logs)\u001B[0m\n\u001B[1;32m   1091\u001B[0m \u001B[38;5;28;01mdef\u001B[39;00m \u001B[38;5;21mon_epoch_end\u001B[39m(\u001B[38;5;28mself\u001B[39m, epoch, logs\u001B[38;5;241m=\u001B[39m\u001B[38;5;28;01mNone\u001B[39;00m):\n\u001B[0;32m-> 1092\u001B[0m     \u001B[38;5;28;43mself\u001B[39;49m\u001B[38;5;241;43m.\u001B[39;49m\u001B[43m_finalize_progbar\u001B[49m\u001B[43m(\u001B[49m\u001B[43mlogs\u001B[49m\u001B[43m,\u001B[49m\u001B[43m \u001B[49m\u001B[38;5;28;43mself\u001B[39;49m\u001B[38;5;241;43m.\u001B[39;49m\u001B[43m_train_step\u001B[49m\u001B[43m)\u001B[49m\n",
      "File \u001B[0;32m~/miniforge3/envs/GSCS/lib/python3.10/site-packages/keras/callbacks.py:1161\u001B[0m, in \u001B[0;36mProgbarLogger._finalize_progbar\u001B[0;34m(self, logs, counter)\u001B[0m\n\u001B[1;32m   1160\u001B[0m \u001B[38;5;28;01mdef\u001B[39;00m \u001B[38;5;21m_finalize_progbar\u001B[39m(\u001B[38;5;28mself\u001B[39m, logs, counter):\n\u001B[0;32m-> 1161\u001B[0m     logs \u001B[38;5;241m=\u001B[39m \u001B[43mtf_utils\u001B[49m\u001B[38;5;241;43m.\u001B[39;49m\u001B[43msync_to_numpy_or_python_type\u001B[49m\u001B[43m(\u001B[49m\u001B[43mlogs\u001B[49m\u001B[43m \u001B[49m\u001B[38;5;129;43;01mor\u001B[39;49;00m\u001B[43m \u001B[49m\u001B[43m{\u001B[49m\u001B[43m}\u001B[49m\u001B[43m)\u001B[49m\n\u001B[1;32m   1162\u001B[0m     \u001B[38;5;28;01mif\u001B[39;00m \u001B[38;5;28mself\u001B[39m\u001B[38;5;241m.\u001B[39mtarget \u001B[38;5;129;01mis\u001B[39;00m \u001B[38;5;28;01mNone\u001B[39;00m:\n\u001B[1;32m   1163\u001B[0m         \u001B[38;5;28;01mif\u001B[39;00m counter \u001B[38;5;129;01mis\u001B[39;00m \u001B[38;5;129;01mnot\u001B[39;00m \u001B[38;5;28;01mNone\u001B[39;00m:\n",
      "File \u001B[0;32m~/miniforge3/envs/GSCS/lib/python3.10/site-packages/keras/utils/tf_utils.py:635\u001B[0m, in \u001B[0;36msync_to_numpy_or_python_type\u001B[0;34m(tensors)\u001B[0m\n\u001B[1;32m    632\u001B[0m         \u001B[38;5;28;01mreturn\u001B[39;00m t\n\u001B[1;32m    633\u001B[0m     \u001B[38;5;28;01mreturn\u001B[39;00m t\u001B[38;5;241m.\u001B[39mitem() \u001B[38;5;28;01mif\u001B[39;00m np\u001B[38;5;241m.\u001B[39mndim(t) \u001B[38;5;241m==\u001B[39m \u001B[38;5;241m0\u001B[39m \u001B[38;5;28;01melse\u001B[39;00m t\n\u001B[0;32m--> 635\u001B[0m \u001B[38;5;28;01mreturn\u001B[39;00m \u001B[43mtf\u001B[49m\u001B[38;5;241;43m.\u001B[39;49m\u001B[43mnest\u001B[49m\u001B[38;5;241;43m.\u001B[39;49m\u001B[43mmap_structure\u001B[49m\u001B[43m(\u001B[49m\u001B[43m_to_single_numpy_or_python_type\u001B[49m\u001B[43m,\u001B[49m\u001B[43m \u001B[49m\u001B[43mtensors\u001B[49m\u001B[43m)\u001B[49m\n",
      "File \u001B[0;32m~/miniforge3/envs/GSCS/lib/python3.10/site-packages/tensorflow/python/util/nest.py:914\u001B[0m, in \u001B[0;36mmap_structure\u001B[0;34m(func, *structure, **kwargs)\u001B[0m\n\u001B[1;32m    910\u001B[0m   assert_same_structure(structure[\u001B[38;5;241m0\u001B[39m], other, check_types\u001B[38;5;241m=\u001B[39mcheck_types,\n\u001B[1;32m    911\u001B[0m                         expand_composites\u001B[38;5;241m=\u001B[39mexpand_composites)\n\u001B[1;32m    913\u001B[0m flat_structure \u001B[38;5;241m=\u001B[39m (flatten(s, expand_composites) \u001B[38;5;28;01mfor\u001B[39;00m s \u001B[38;5;129;01min\u001B[39;00m structure)\n\u001B[0;32m--> 914\u001B[0m entries \u001B[38;5;241m=\u001B[39m \u001B[38;5;28;43mzip\u001B[39;49m\u001B[43m(\u001B[49m\u001B[38;5;241;43m*\u001B[39;49m\u001B[43mflat_structure\u001B[49m\u001B[43m)\u001B[49m\n\u001B[1;32m    916\u001B[0m \u001B[38;5;28;01mreturn\u001B[39;00m pack_sequence_as(\n\u001B[1;32m    917\u001B[0m     structure[\u001B[38;5;241m0\u001B[39m], [func(\u001B[38;5;241m*\u001B[39mx) \u001B[38;5;28;01mfor\u001B[39;00m x \u001B[38;5;129;01min\u001B[39;00m entries],\n\u001B[1;32m    918\u001B[0m     expand_composites\u001B[38;5;241m=\u001B[39mexpand_composites)\n",
      "File \u001B[0;32m~/miniforge3/envs/GSCS/lib/python3.10/site-packages/tensorflow/python/util/nest.py:913\u001B[0m, in \u001B[0;36m<genexpr>\u001B[0;34m(.0)\u001B[0m\n\u001B[1;32m    909\u001B[0m \u001B[38;5;28;01mfor\u001B[39;00m other \u001B[38;5;129;01min\u001B[39;00m structure[\u001B[38;5;241m1\u001B[39m:]:\n\u001B[1;32m    910\u001B[0m   assert_same_structure(structure[\u001B[38;5;241m0\u001B[39m], other, check_types\u001B[38;5;241m=\u001B[39mcheck_types,\n\u001B[1;32m    911\u001B[0m                         expand_composites\u001B[38;5;241m=\u001B[39mexpand_composites)\n\u001B[0;32m--> 913\u001B[0m flat_structure \u001B[38;5;241m=\u001B[39m (\u001B[43mflatten\u001B[49m\u001B[43m(\u001B[49m\u001B[43ms\u001B[49m\u001B[43m,\u001B[49m\u001B[43m \u001B[49m\u001B[43mexpand_composites\u001B[49m\u001B[43m)\u001B[49m \u001B[38;5;28;01mfor\u001B[39;00m s \u001B[38;5;129;01min\u001B[39;00m structure)\n\u001B[1;32m    914\u001B[0m entries \u001B[38;5;241m=\u001B[39m \u001B[38;5;28mzip\u001B[39m(\u001B[38;5;241m*\u001B[39mflat_structure)\n\u001B[1;32m    916\u001B[0m \u001B[38;5;28;01mreturn\u001B[39;00m pack_sequence_as(\n\u001B[1;32m    917\u001B[0m     structure[\u001B[38;5;241m0\u001B[39m], [func(\u001B[38;5;241m*\u001B[39mx) \u001B[38;5;28;01mfor\u001B[39;00m x \u001B[38;5;129;01min\u001B[39;00m entries],\n\u001B[1;32m    918\u001B[0m     expand_composites\u001B[38;5;241m=\u001B[39mexpand_composites)\n",
      "File \u001B[0;32m~/miniforge3/envs/GSCS/lib/python3.10/site-packages/tensorflow/python/util/nest.py:454\u001B[0m, in \u001B[0;36mflatten\u001B[0;34m(structure, expand_composites)\u001B[0m\n\u001B[1;32m    452\u001B[0m   \u001B[38;5;28;01mreturn\u001B[39;00m [\u001B[38;5;28;01mNone\u001B[39;00m]\n\u001B[1;32m    453\u001B[0m expand_composites \u001B[38;5;241m=\u001B[39m \u001B[38;5;28mbool\u001B[39m(expand_composites)\n\u001B[0;32m--> 454\u001B[0m \u001B[38;5;28;01mreturn\u001B[39;00m \u001B[43m_pywrap_utils\u001B[49m\u001B[38;5;241;43m.\u001B[39;49m\u001B[43mFlatten\u001B[49m\u001B[43m(\u001B[49m\u001B[43mstructure\u001B[49m\u001B[43m,\u001B[49m\u001B[43m \u001B[49m\u001B[43mexpand_composites\u001B[49m\u001B[43m)\u001B[49m\n",
      "\u001B[0;31mTypeError\u001B[0m: '<' not supported between instances of 'NormalizedDiscountedCumulativeGain' and 'str'"
     ]
    }
   ],
   "source": [
    "history = model.fit_generator(train_generator, epochs=50, callbacks=[evaluate], workers=8)"
   ]
  },
  {
   "cell_type": "code",
   "execution_count": 1,
   "outputs": [
    {
     "name": "stdout",
     "output_type": "stream",
     "text": [
      "Collecting rank-bm25\r\n",
      "  Using cached rank_bm25-0.2.2-py3-none-any.whl (8.6 kB)\r\n",
      "Requirement already satisfied: numpy in /Users/GovindShukla/miniforge3/envs/GSCS/lib/python3.10/site-packages (from rank-bm25) (1.22.3)\r\n",
      "Installing collected packages: rank-bm25\r\n",
      "Successfully installed rank-bm25-0.2.2\r\n"
     ]
    }
   ],
   "source": [
    "# Install required libraries\n",
    "!pip install rank-bm25"
   ],
   "metadata": {
    "collapsed": false,
    "pycharm": {
     "name": "#%%\n"
    }
   }
  },
  {
   "cell_type": "code",
   "execution_count": 9,
   "outputs": [
    {
     "name": "stdout",
     "output_type": "stream",
     "text": [
      "Collecting tf-models-official\r\n",
      "  Using cached tf_models_official-2.10.1-py2.py3-none-any.whl (2.2 MB)\r\n",
      "Collecting oauth2client\r\n",
      "  Using cached oauth2client-4.1.3-py2.py3-none-any.whl (98 kB)\r\n",
      "Requirement already satisfied: matplotlib in /Users/GovindShukla/miniforge3/envs/GSCS/lib/python3.10/site-packages (from tf-models-official) (3.5.1)\r\n",
      "Requirement already satisfied: scipy>=0.19.1 in /Users/GovindShukla/miniforge3/envs/GSCS/lib/python3.10/site-packages (from tf-models-official) (1.9.3)\r\n",
      "Collecting sentencepiece\r\n",
      "  Using cached sentencepiece-0.1.97-cp310-cp310-macosx_11_0_arm64.whl (1.1 MB)\r\n",
      "Collecting kaggle>=1.3.9\r\n",
      "  Using cached kaggle-1.5.12-py3-none-any.whl\r\n",
      "Collecting opencv-python-headless\r\n",
      "  Using cached opencv_python_headless-4.6.0.66-cp37-abi3-macosx_11_0_arm64.whl (30.0 MB)\r\n",
      "Collecting tensorflow-addons\r\n",
      "  Using cached tensorflow_addons-0.18.0-cp310-cp310-macosx_11_0_arm64.whl (10.9 MB)\r\n",
      "Requirement already satisfied: psutil>=5.4.3 in /Users/GovindShukla/miniforge3/envs/GSCS/lib/python3.10/site-packages (from tf-models-official) (5.9.0)\r\n",
      "Collecting gin-config\r\n",
      "  Using cached gin_config-0.5.0-py3-none-any.whl (61 kB)\r\n",
      "Requirement already satisfied: numpy>=1.20 in /Users/GovindShukla/miniforge3/envs/GSCS/lib/python3.10/site-packages (from tf-models-official) (1.22.3)\r\n",
      "Collecting py-cpuinfo>=3.3.0\r\n",
      "  Using cached py_cpuinfo-9.0.0-py3-none-any.whl (22 kB)\r\n",
      "Requirement already satisfied: Cython in /Users/GovindShukla/miniforge3/envs/GSCS/lib/python3.10/site-packages (from tf-models-official) (0.29.28)\r\n",
      "Collecting seqeval\r\n",
      "  Using cached seqeval-1.2.2-py3-none-any.whl\r\n",
      "Collecting tf-slim>=1.1.0\r\n",
      "  Using cached tf_slim-1.1.0-py2.py3-none-any.whl (352 kB)\r\n",
      "Collecting pyyaml<6.0,>=5.1\r\n",
      "  Using cached PyYAML-5.4.1.tar.gz (175 kB)\r\n",
      "  Installing build dependencies ... \u001B[?25ldone\r\n",
      "\u001B[?25h  Getting requirements to build wheel ... \u001B[?25ldone\r\n",
      "\u001B[?25h    Preparing wheel metadata ... \u001B[?25ldone\r\n",
      "\u001B[?25hCollecting tf-models-official\r\n",
      "  Using cached tf_models_official-2.10.0-py2.py3-none-any.whl (2.2 MB)\r\n",
      "  Using cached tf_models_official-2.9.2-py2.py3-none-any.whl (2.1 MB)\r\n",
      "  Using cached tf_models_official-2.9.1-py2.py3-none-any.whl (2.1 MB)\r\n",
      "  Using cached tf_models_official-2.9.0-py2.py3-none-any.whl (2.0 MB)\r\n",
      "  Using cached tf_models_official-2.8.0-py2.py3-none-any.whl (2.2 MB)\r\n",
      "Collecting tensorflow-datasets\r\n",
      "  Using cached tensorflow_datasets-4.7.0-py3-none-any.whl (4.7 MB)\r\n",
      "Collecting tf-models-official\r\n",
      "  Using cached tf_models_official-2.7.2-py2.py3-none-any.whl (1.8 MB)\r\n",
      "  Using cached tf_models_official-2.7.1-py2.py3-none-any.whl (1.8 MB)\r\n",
      "  Using cached tf_models_official-2.7.0-py2.py3-none-any.whl (1.8 MB)\r\n",
      "  Using cached tf_models_official-2.6.1-py2.py3-none-any.whl (1.8 MB)\r\n",
      "  Using cached tf_models_official-2.6.0-py2.py3-none-any.whl (1.8 MB)\r\n",
      "Requirement already satisfied: tensorflow>=2.5.0 in /Users/GovindShukla/miniforge3/envs/GSCS/lib/python3.10/site-packages (from tf-models-official) (2.10.0)\r\n",
      "  Using cached tf_models_official-2.5.1-py2.py3-none-any.whl (1.6 MB)\r\n",
      "Requirement already satisfied: pandas>=0.22.0 in /Users/GovindShukla/miniforge3/envs/GSCS/lib/python3.10/site-packages (from tf-models-official) (1.4.2)\r\n",
      "Collecting google-api-python-client>=1.6.7\r\n",
      "  Using cached google_api_python_client-2.66.0-py2.py3-none-any.whl (10.5 MB)\r\n",
      "Collecting sacrebleu\r\n",
      "  Using cached sacrebleu-2.3.1-py3-none-any.whl (118 kB)\r\n",
      "Collecting tensorflow-hub>=0.6.0\r\n",
      "  Using cached tensorflow_hub-0.12.0-py2.py3-none-any.whl (108 kB)\r\n",
      "Requirement already satisfied: pyyaml>=5.1 in /Users/GovindShukla/miniforge3/envs/GSCS/lib/python3.10/site-packages (from tf-models-official) (6.0)\r\n",
      "Collecting pycocotools\r\n",
      "  Using cached pycocotools-2.0.6.tar.gz (24 kB)\r\n",
      "  Installing build dependencies ... \u001B[?25ldone\r\n",
      "\u001B[?25h  Getting requirements to build wheel ... \u001B[?25ldone\r\n",
      "\u001B[?25h    Preparing wheel metadata ... \u001B[?25ldone\r\n",
      "\u001B[?25hRequirement already satisfied: six in /Users/GovindShukla/miniforge3/envs/GSCS/lib/python3.10/site-packages (from tf-models-official) (1.16.0)\r\n",
      "Collecting tensorflow-model-optimization>=0.4.1\r\n",
      "  Using cached tensorflow_model_optimization-0.7.3-py2.py3-none-any.whl (238 kB)\r\n",
      "Requirement already satisfied: Pillow in /Users/GovindShukla/miniforge3/envs/GSCS/lib/python3.10/site-packages (from tf-models-official) (9.0.1)\r\n",
      "Requirement already satisfied: google-auth<3.0.0dev,>=1.19.0 in /Users/GovindShukla/miniforge3/envs/GSCS/lib/python3.10/site-packages (from google-api-python-client>=1.6.7->tf-models-official) (2.6.0)\r\n",
      "Collecting uritemplate<5,>=3.0.1\r\n",
      "  Using cached uritemplate-4.1.1-py2.py3-none-any.whl (10 kB)\r\n",
      "Collecting httplib2<1dev,>=0.15.0\r\n",
      "  Using cached httplib2-0.21.0-py3-none-any.whl (96 kB)\r\n",
      "Collecting google-auth-httplib2>=0.1.0\r\n",
      "  Using cached google_auth_httplib2-0.1.0-py2.py3-none-any.whl (9.3 kB)\r\n",
      "Collecting google-api-core!=2.0.*,!=2.1.*,!=2.2.*,!=2.3.0,<3.0.0dev,>=1.31.5\r\n",
      "  Using cached google_api_core-2.10.2-py3-none-any.whl (115 kB)\r\n",
      "Requirement already satisfied: requests<3.0.0dev,>=2.18.0 in /Users/GovindShukla/miniforge3/envs/GSCS/lib/python3.10/site-packages (from google-api-core!=2.0.*,!=2.1.*,!=2.2.*,!=2.3.0,<3.0.0dev,>=1.31.5->google-api-python-client>=1.6.7->tf-models-official) (2.28.1)\r\n",
      "Requirement already satisfied: protobuf!=3.20.0,!=3.20.1,!=4.21.0,!=4.21.1,!=4.21.2,!=4.21.3,!=4.21.4,!=4.21.5,<5.0.0dev,>=3.19.5 in /Users/GovindShukla/miniforge3/envs/GSCS/lib/python3.10/site-packages (from google-api-core!=2.0.*,!=2.1.*,!=2.2.*,!=2.3.0,<3.0.0dev,>=1.31.5->google-api-python-client>=1.6.7->tf-models-official) (4.21.9)\r\n",
      "Collecting googleapis-common-protos<2.0dev,>=1.56.2\r\n",
      "  Using cached googleapis_common_protos-1.57.0-py2.py3-none-any.whl (217 kB)\r\n",
      "Requirement already satisfied: pyasn1-modules>=0.2.1 in /Users/GovindShukla/miniforge3/envs/GSCS/lib/python3.10/site-packages (from google-auth<3.0.0dev,>=1.19.0->google-api-python-client>=1.6.7->tf-models-official) (0.2.8)\r\n",
      "Requirement already satisfied: rsa<5,>=3.1.4 in /Users/GovindShukla/miniforge3/envs/GSCS/lib/python3.10/site-packages (from google-auth<3.0.0dev,>=1.19.0->google-api-python-client>=1.6.7->tf-models-official) (4.7.2)\r\n",
      "Requirement already satisfied: cachetools<6.0,>=2.0.0 in /Users/GovindShukla/miniforge3/envs/GSCS/lib/python3.10/site-packages (from google-auth<3.0.0dev,>=1.19.0->google-api-python-client>=1.6.7->tf-models-official) (4.2.2)\r\n",
      "Requirement already satisfied: pyparsing!=3.0.0,!=3.0.1,!=3.0.2,!=3.0.3,<4,>=2.4.2 in /Users/GovindShukla/miniforge3/envs/GSCS/lib/python3.10/site-packages (from httplib2<1dev,>=0.15.0->google-api-python-client>=1.6.7->tf-models-official) (3.0.4)\r\n",
      "Requirement already satisfied: python-dateutil in /Users/GovindShukla/miniforge3/envs/GSCS/lib/python3.10/site-packages (from kaggle>=1.3.9->tf-models-official) (2.8.2)\r\n",
      "Requirement already satisfied: tqdm in /Users/GovindShukla/miniforge3/envs/GSCS/lib/python3.10/site-packages (from kaggle>=1.3.9->tf-models-official) (4.64.0)\r\n",
      "Requirement already satisfied: certifi in /Users/GovindShukla/miniforge3/envs/GSCS/lib/python3.10/site-packages (from kaggle>=1.3.9->tf-models-official) (2022.9.24)\r\n",
      "Requirement already satisfied: urllib3 in /Users/GovindShukla/miniforge3/envs/GSCS/lib/python3.10/site-packages (from kaggle>=1.3.9->tf-models-official) (1.26.12)\r\n",
      "Collecting python-slugify\r\n",
      "  Using cached python_slugify-7.0.0-py2.py3-none-any.whl (9.4 kB)\r\n",
      "Requirement already satisfied: pytz>=2020.1 in /Users/GovindShukla/miniforge3/envs/GSCS/lib/python3.10/site-packages (from pandas>=0.22.0->tf-models-official) (2021.3)\r\n",
      "Requirement already satisfied: pyasn1<0.5.0,>=0.4.6 in /Users/GovindShukla/miniforge3/envs/GSCS/lib/python3.10/site-packages (from pyasn1-modules>=0.2.1->google-auth<3.0.0dev,>=1.19.0->google-api-python-client>=1.6.7->tf-models-official) (0.4.8)\r\n",
      "Requirement already satisfied: idna<4,>=2.5 in /Users/GovindShukla/miniforge3/envs/GSCS/lib/python3.10/site-packages (from requests<3.0.0dev,>=2.18.0->google-api-core!=2.0.*,!=2.1.*,!=2.2.*,!=2.3.0,<3.0.0dev,>=1.31.5->google-api-python-client>=1.6.7->tf-models-official) (3.4)\r\n",
      "Requirement already satisfied: charset-normalizer<3,>=2 in /Users/GovindShukla/miniforge3/envs/GSCS/lib/python3.10/site-packages (from requests<3.0.0dev,>=2.18.0->google-api-core!=2.0.*,!=2.1.*,!=2.2.*,!=2.3.0,<3.0.0dev,>=1.31.5->google-api-python-client>=1.6.7->tf-models-official) (2.1.1)\r\n",
      "Requirement already satisfied: tensorboard<2.11,>=2.10 in /Users/GovindShukla/miniforge3/envs/GSCS/lib/python3.10/site-packages (from tensorflow>=2.5.0->tf-models-official) (2.10.1)\r\n",
      "Requirement already satisfied: tensorflow-estimator<2.11,>=2.10.0 in /Users/GovindShukla/miniforge3/envs/GSCS/lib/python3.10/site-packages (from tensorflow>=2.5.0->tf-models-official) (2.10.0)\r\n",
      "Requirement already satisfied: grpcio<2.0,>=1.24.3 in /Users/GovindShukla/miniforge3/envs/GSCS/lib/python3.10/site-packages (from tensorflow>=2.5.0->tf-models-official) (1.47.1)\r\n",
      "Requirement already satisfied: packaging in /Users/GovindShukla/miniforge3/envs/GSCS/lib/python3.10/site-packages (from tensorflow>=2.5.0->tf-models-official) (21.3)\r\n",
      "Requirement already satisfied: absl-py>=1.0.0 in /Users/GovindShukla/miniforge3/envs/GSCS/lib/python3.10/site-packages (from tensorflow>=2.5.0->tf-models-official) (1.3.0)\r\n",
      "Requirement already satisfied: setuptools in /Users/GovindShukla/miniforge3/envs/GSCS/lib/python3.10/site-packages (from tensorflow>=2.5.0->tf-models-official) (61.2.0)\r\n",
      "Requirement already satisfied: termcolor>=1.1.0 in /Users/GovindShukla/miniforge3/envs/GSCS/lib/python3.10/site-packages (from tensorflow>=2.5.0->tf-models-official) (1.1.0)\r\n",
      "Requirement already satisfied: typing-extensions>=3.6.6 in /Users/GovindShukla/miniforge3/envs/GSCS/lib/python3.10/site-packages (from tensorflow>=2.5.0->tf-models-official) (4.1.1)\r\n",
      "Requirement already satisfied: flatbuffers>=2.0 in /Users/GovindShukla/miniforge3/envs/GSCS/lib/python3.10/site-packages (from tensorflow>=2.5.0->tf-models-official) (2.0)\r\n",
      "Requirement already satisfied: google-pasta>=0.1.1 in /Users/GovindShukla/miniforge3/envs/GSCS/lib/python3.10/site-packages (from tensorflow>=2.5.0->tf-models-official) (0.2.0)\r\n",
      "Requirement already satisfied: astunparse>=1.6.0 in /Users/GovindShukla/miniforge3/envs/GSCS/lib/python3.10/site-packages (from tensorflow>=2.5.0->tf-models-official) (1.6.3)\r\n",
      "Requirement already satisfied: keras-preprocessing>=1.1.1 in /Users/GovindShukla/miniforge3/envs/GSCS/lib/python3.10/site-packages (from tensorflow>=2.5.0->tf-models-official) (1.1.2)\r\n",
      "Requirement already satisfied: keras<2.11,>=2.10.0 in /Users/GovindShukla/miniforge3/envs/GSCS/lib/python3.10/site-packages (from tensorflow>=2.5.0->tf-models-official) (2.10.0)\r\n",
      "Requirement already satisfied: h5py>=2.9.0 in /Users/GovindShukla/miniforge3/envs/GSCS/lib/python3.10/site-packages (from tensorflow>=2.5.0->tf-models-official) (3.7.0)\r\n",
      "Requirement already satisfied: wrapt>=1.11.0 in /Users/GovindShukla/miniforge3/envs/GSCS/lib/python3.10/site-packages (from tensorflow>=2.5.0->tf-models-official) (1.14.1)\r\n",
      "Requirement already satisfied: opt-einsum>=2.3.2 in /Users/GovindShukla/miniforge3/envs/GSCS/lib/python3.10/site-packages (from tensorflow>=2.5.0->tf-models-official) (3.3.0)\r\n",
      "Requirement already satisfied: gast<=0.4.0,>=0.2.1 in /Users/GovindShukla/miniforge3/envs/GSCS/lib/python3.10/site-packages (from tensorflow>=2.5.0->tf-models-official) (0.4.0)\r\n",
      "Requirement already satisfied: wheel<1.0,>=0.23.0 in /Users/GovindShukla/miniforge3/envs/GSCS/lib/python3.10/site-packages (from astunparse>=1.6.0->tensorflow>=2.5.0->tf-models-official) (0.37.1)\r\n",
      "Requirement already satisfied: google-auth-oauthlib<0.5,>=0.4.1 in /Users/GovindShukla/miniforge3/envs/GSCS/lib/python3.10/site-packages (from tensorboard<2.11,>=2.10->tensorflow>=2.5.0->tf-models-official) (0.4.4)\r\n",
      "Requirement already satisfied: werkzeug>=1.0.1 in /Users/GovindShukla/miniforge3/envs/GSCS/lib/python3.10/site-packages (from tensorboard<2.11,>=2.10->tensorflow>=2.5.0->tf-models-official) (2.0.3)\r\n",
      "Requirement already satisfied: tensorboard-plugin-wit>=1.6.0 in /Users/GovindShukla/miniforge3/envs/GSCS/lib/python3.10/site-packages (from tensorboard<2.11,>=2.10->tensorflow>=2.5.0->tf-models-official) (1.6.0)\r\n",
      "Requirement already satisfied: markdown>=2.6.8 in /Users/GovindShukla/miniforge3/envs/GSCS/lib/python3.10/site-packages (from tensorboard<2.11,>=2.10->tensorflow>=2.5.0->tf-models-official) (3.3.4)\r\n",
      "Requirement already satisfied: tensorboard-data-server<0.7.0,>=0.6.0 in /Users/GovindShukla/miniforge3/envs/GSCS/lib/python3.10/site-packages (from tensorboard<2.11,>=2.10->tensorflow>=2.5.0->tf-models-official) (0.6.0)\r\n",
      "Requirement already satisfied: requests-oauthlib>=0.7.0 in /Users/GovindShukla/miniforge3/envs/GSCS/lib/python3.10/site-packages (from google-auth-oauthlib<0.5,>=0.4.1->tensorboard<2.11,>=2.10->tensorflow>=2.5.0->tf-models-official) (1.3.0)\r\n",
      "Requirement already satisfied: oauthlib>=3.0.0 in /Users/GovindShukla/miniforge3/envs/GSCS/lib/python3.10/site-packages (from requests-oauthlib>=0.7.0->google-auth-oauthlib<0.5,>=0.4.1->tensorboard<2.11,>=2.10->tensorflow>=2.5.0->tf-models-official) (3.2.1)\r\n",
      "Collecting dm-tree~=0.1.1\r\n",
      "  Using cached dm_tree-0.1.7-cp310-cp310-macosx_11_0_arm64.whl (104 kB)\r\n",
      "Requirement already satisfied: cycler>=0.10 in /Users/GovindShukla/miniforge3/envs/GSCS/lib/python3.10/site-packages (from matplotlib->tf-models-official) (0.11.0)\r\n",
      "Requirement already satisfied: kiwisolver>=1.0.1 in /Users/GovindShukla/miniforge3/envs/GSCS/lib/python3.10/site-packages (from matplotlib->tf-models-official) (1.4.2)\r\n",
      "Requirement already satisfied: fonttools>=4.22.0 in /Users/GovindShukla/miniforge3/envs/GSCS/lib/python3.10/site-packages (from matplotlib->tf-models-official) (4.25.0)\r\n",
      "Collecting text-unidecode>=1.3\r\n",
      "  Using cached text_unidecode-1.3-py2.py3-none-any.whl (78 kB)\r\n",
      "Collecting tabulate>=0.8.9\r\n",
      "  Using cached tabulate-0.9.0-py3-none-any.whl (35 kB)\r\n",
      "Requirement already satisfied: regex in /Users/GovindShukla/miniforge3/envs/GSCS/lib/python3.10/site-packages (from sacrebleu->tf-models-official) (2022.3.15)\r\n",
      "Collecting lxml\r\n",
      "  Using cached lxml-4.9.1.tar.gz (3.4 MB)\r\n",
      "Collecting colorama\r\n",
      "  Using cached colorama-0.4.6-py2.py3-none-any.whl (25 kB)\r\n",
      "Collecting portalocker\r\n",
      "  Using cached portalocker-2.6.0-py2.py3-none-any.whl (15 kB)\r\n",
      "Requirement already satisfied: scikit-learn>=0.21.3 in /Users/GovindShukla/miniforge3/envs/GSCS/lib/python3.10/site-packages (from seqeval->tf-models-official) (1.1.3)\r\n",
      "Requirement already satisfied: threadpoolctl>=2.0.0 in /Users/GovindShukla/miniforge3/envs/GSCS/lib/python3.10/site-packages (from scikit-learn>=0.21.3->seqeval->tf-models-official) (3.1.0)\r\n",
      "Requirement already satisfied: joblib>=1.0.0 in /Users/GovindShukla/miniforge3/envs/GSCS/lib/python3.10/site-packages (from scikit-learn>=0.21.3->seqeval->tf-models-official) (1.1.0)\r\n",
      "Collecting typeguard>=2.7\r\n",
      "  Using cached typeguard-2.13.3-py3-none-any.whl (17 kB)\r\n",
      "Collecting toml\r\n",
      "  Using cached toml-0.10.2-py2.py3-none-any.whl (16 kB)\r\n",
      "Collecting etils[epath]\r\n",
      "  Using cached etils-0.9.0-py3-none-any.whl (140 kB)\r\n",
      "Collecting tensorflow-metadata\r\n",
      "  Using cached tensorflow_metadata-1.11.0-py3-none-any.whl (52 kB)\r\n",
      "Collecting promise\r\n",
      "  Using cached promise-2.3-py3-none-any.whl\r\n",
      "Requirement already satisfied: dill in /Users/GovindShukla/miniforge3/envs/GSCS/lib/python3.10/site-packages (from tensorflow-datasets->tf-models-official) (0.3.6)\r\n",
      "Requirement already satisfied: zipp in /Users/GovindShukla/miniforge3/envs/GSCS/lib/python3.10/site-packages (from etils[epath]->tensorflow-datasets->tf-models-official) (3.8.0)\r\n",
      "Collecting importlib_resources\r\n",
      "  Using cached importlib_resources-5.10.0-py3-none-any.whl (34 kB)\r\n",
      "Collecting protobuf!=3.20.0,!=3.20.1,!=4.21.0,!=4.21.1,!=4.21.2,!=4.21.3,!=4.21.4,!=4.21.5,<5.0.0dev,>=3.19.5\r\n",
      "  Using cached protobuf-3.20.3-py2.py3-none-any.whl (162 kB)\r\n",
      "Building wheels for collected packages: pycocotools, lxml\r\n",
      "  Building wheel for pycocotools (PEP 517) ... \u001B[?25lerror\r\n",
      "\u001B[31m  ERROR: Command errored out with exit status 1:\r\n",
      "   command: /Users/GovindShukla/miniforge3/envs/GSCS/bin/python /Users/GovindShukla/miniforge3/envs/GSCS/lib/python3.10/site-packages/pip/_vendor/pep517/in_process/_in_process.py build_wheel /var/folders/2f/415rt6t93f15z4j0lsvsxzxc0000gn/T/tmp_748wl0m\r\n",
      "       cwd: /private/var/folders/2f/415rt6t93f15z4j0lsvsxzxc0000gn/T/pip-install-endji3og/pycocotools_58f7ab05d7b1471481df09a353a71d2d\r\n",
      "  Complete output (21 lines):\r\n",
      "  running bdist_wheel\r\n",
      "  running build\r\n",
      "  running build_py\r\n",
      "  creating build\r\n",
      "  creating build/lib.macosx-11.0-arm64-cpython-310\r\n",
      "  creating build/lib.macosx-11.0-arm64-cpython-310/pycocotools\r\n",
      "  copying pycocotools/coco.py -> build/lib.macosx-11.0-arm64-cpython-310/pycocotools\r\n",
      "  copying pycocotools/mask.py -> build/lib.macosx-11.0-arm64-cpython-310/pycocotools\r\n",
      "  copying pycocotools/__init__.py -> build/lib.macosx-11.0-arm64-cpython-310/pycocotools\r\n",
      "  copying pycocotools/cocoeval.py -> build/lib.macosx-11.0-arm64-cpython-310/pycocotools\r\n",
      "  running build_ext\r\n",
      "  cythoning pycocotools/_mask.pyx to pycocotools/_mask.c\r\n",
      "  /private/var/folders/2f/415rt6t93f15z4j0lsvsxzxc0000gn/T/pip-build-env-e_1ibuqr/overlay/lib/python3.10/site-packages/Cython/Compiler/Main.py:369: FutureWarning: Cython directive 'language_level' not set, using 2 for now (Py2). This will change in a later release! File: /private/var/folders/2f/415rt6t93f15z4j0lsvsxzxc0000gn/T/pip-install-endji3og/pycocotools_58f7ab05d7b1471481df09a353a71d2d/pycocotools/_mask.pyx\r\n",
      "    tree = Parsing.p_module(s, pxd, full_module_name)\r\n",
      "  building 'pycocotools._mask' extension\r\n",
      "  creating build/temp.macosx-11.0-arm64-cpython-310\r\n",
      "  creating build/temp.macosx-11.0-arm64-cpython-310/common\r\n",
      "  creating build/temp.macosx-11.0-arm64-cpython-310/pycocotools\r\n",
      "  clang -Wno-unused-result -Wsign-compare -Wunreachable-code -DNDEBUG -fwrapv -O2 -Wall -fPIC -O2 -isystem /Users/GovindShukla/miniforge3/envs/GSCS/include -arch arm64 -fPIC -O2 -isystem /Users/GovindShukla/miniforge3/envs/GSCS/include -arch arm64 -I/private/var/folders/2f/415rt6t93f15z4j0lsvsxzxc0000gn/T/pip-build-env-e_1ibuqr/overlay/lib/python3.10/site-packages/numpy/core/include -I./common -I/Users/GovindShukla/miniforge3/envs/GSCS/include/python3.10 -c ./common/maskApi.c -o build/temp.macosx-11.0-arm64-cpython-310/./common/maskApi.o -Wno-cpp -Wno-unused-function -std=c99\r\n",
      "  xcrun: error: invalid active developer path (/Library/Developer/CommandLineTools), missing xcrun at: /Library/Developer/CommandLineTools/usr/bin/xcrun\r\n",
      "  error: command '/usr/bin/clang' failed with exit code 1\r\n",
      "  ----------------------------------------\u001B[0m\r\n",
      "\u001B[31m  ERROR: Failed building wheel for pycocotools\u001B[0m\r\n",
      "\u001B[?25h  Building wheel for lxml (setup.py) ... \u001B[?25lerror\r\n",
      "\u001B[31m  ERROR: Command errored out with exit status 1:\r\n",
      "   command: /Users/GovindShukla/miniforge3/envs/GSCS/bin/python -u -c 'import io, os, sys, setuptools, tokenize; sys.argv[0] = '\"'\"'/private/var/folders/2f/415rt6t93f15z4j0lsvsxzxc0000gn/T/pip-install-endji3og/lxml_b47d64aeda52439f951989a6a277ebc3/setup.py'\"'\"'; __file__='\"'\"'/private/var/folders/2f/415rt6t93f15z4j0lsvsxzxc0000gn/T/pip-install-endji3og/lxml_b47d64aeda52439f951989a6a277ebc3/setup.py'\"'\"';f = getattr(tokenize, '\"'\"'open'\"'\"', open)(__file__) if os.path.exists(__file__) else io.StringIO('\"'\"'from setuptools import setup; setup()'\"'\"');code = f.read().replace('\"'\"'\\r\\n'\"'\"', '\"'\"'\\n'\"'\"');f.close();exec(compile(code, __file__, '\"'\"'exec'\"'\"'))' bdist_wheel -d /private/var/folders/2f/415rt6t93f15z4j0lsvsxzxc0000gn/T/pip-wheel-hp6sit_2\r\n",
      "       cwd: /private/var/folders/2f/415rt6t93f15z4j0lsvsxzxc0000gn/T/pip-install-endji3og/lxml_b47d64aeda52439f951989a6a277ebc3/\r\n",
      "  Complete output (91 lines):\r\n",
      "  Building lxml version 4.9.1.\r\n",
      "  Building without Cython.\r\n",
      "  Building against libxml2 2.9.13 and libxslt 1.1.35\r\n",
      "  running bdist_wheel\r\n",
      "  running build\r\n",
      "  running build_py\r\n",
      "  creating build\r\n",
      "  creating build/lib.macosx-11.0-arm64-3.10\r\n",
      "  creating build/lib.macosx-11.0-arm64-3.10/lxml\r\n",
      "  copying src/lxml/_elementpath.py -> build/lib.macosx-11.0-arm64-3.10/lxml\r\n",
      "  copying src/lxml/sax.py -> build/lib.macosx-11.0-arm64-3.10/lxml\r\n",
      "  copying src/lxml/pyclasslookup.py -> build/lib.macosx-11.0-arm64-3.10/lxml\r\n",
      "  copying src/lxml/__init__.py -> build/lib.macosx-11.0-arm64-3.10/lxml\r\n",
      "  copying src/lxml/builder.py -> build/lib.macosx-11.0-arm64-3.10/lxml\r\n",
      "  copying src/lxml/doctestcompare.py -> build/lib.macosx-11.0-arm64-3.10/lxml\r\n",
      "  copying src/lxml/usedoctest.py -> build/lib.macosx-11.0-arm64-3.10/lxml\r\n",
      "  copying src/lxml/cssselect.py -> build/lib.macosx-11.0-arm64-3.10/lxml\r\n",
      "  copying src/lxml/ElementInclude.py -> build/lib.macosx-11.0-arm64-3.10/lxml\r\n",
      "  creating build/lib.macosx-11.0-arm64-3.10/lxml/includes\r\n",
      "  copying src/lxml/includes/__init__.py -> build/lib.macosx-11.0-arm64-3.10/lxml/includes\r\n",
      "  creating build/lib.macosx-11.0-arm64-3.10/lxml/html\r\n",
      "  copying src/lxml/html/soupparser.py -> build/lib.macosx-11.0-arm64-3.10/lxml/html\r\n",
      "  copying src/lxml/html/defs.py -> build/lib.macosx-11.0-arm64-3.10/lxml/html\r\n",
      "  copying src/lxml/html/_setmixin.py -> build/lib.macosx-11.0-arm64-3.10/lxml/html\r\n",
      "  copying src/lxml/html/clean.py -> build/lib.macosx-11.0-arm64-3.10/lxml/html\r\n",
      "  copying src/lxml/html/_diffcommand.py -> build/lib.macosx-11.0-arm64-3.10/lxml/html\r\n",
      "  copying src/lxml/html/html5parser.py -> build/lib.macosx-11.0-arm64-3.10/lxml/html\r\n",
      "  copying src/lxml/html/__init__.py -> build/lib.macosx-11.0-arm64-3.10/lxml/html\r\n",
      "  copying src/lxml/html/formfill.py -> build/lib.macosx-11.0-arm64-3.10/lxml/html\r\n",
      "  copying src/lxml/html/builder.py -> build/lib.macosx-11.0-arm64-3.10/lxml/html\r\n",
      "  copying src/lxml/html/ElementSoup.py -> build/lib.macosx-11.0-arm64-3.10/lxml/html\r\n",
      "  copying src/lxml/html/_html5builder.py -> build/lib.macosx-11.0-arm64-3.10/lxml/html\r\n",
      "  copying src/lxml/html/usedoctest.py -> build/lib.macosx-11.0-arm64-3.10/lxml/html\r\n",
      "  copying src/lxml/html/diff.py -> build/lib.macosx-11.0-arm64-3.10/lxml/html\r\n",
      "  creating build/lib.macosx-11.0-arm64-3.10/lxml/isoschematron\r\n",
      "  copying src/lxml/isoschematron/__init__.py -> build/lib.macosx-11.0-arm64-3.10/lxml/isoschematron\r\n",
      "  copying src/lxml/etree.h -> build/lib.macosx-11.0-arm64-3.10/lxml\r\n",
      "  copying src/lxml/etree_api.h -> build/lib.macosx-11.0-arm64-3.10/lxml\r\n",
      "  copying src/lxml/lxml.etree.h -> build/lib.macosx-11.0-arm64-3.10/lxml\r\n",
      "  copying src/lxml/lxml.etree_api.h -> build/lib.macosx-11.0-arm64-3.10/lxml\r\n",
      "  copying src/lxml/includes/xmlerror.pxd -> build/lib.macosx-11.0-arm64-3.10/lxml/includes\r\n",
      "  copying src/lxml/includes/c14n.pxd -> build/lib.macosx-11.0-arm64-3.10/lxml/includes\r\n",
      "  copying src/lxml/includes/xmlschema.pxd -> build/lib.macosx-11.0-arm64-3.10/lxml/includes\r\n",
      "  copying src/lxml/includes/__init__.pxd -> build/lib.macosx-11.0-arm64-3.10/lxml/includes\r\n",
      "  copying src/lxml/includes/schematron.pxd -> build/lib.macosx-11.0-arm64-3.10/lxml/includes\r\n",
      "  copying src/lxml/includes/tree.pxd -> build/lib.macosx-11.0-arm64-3.10/lxml/includes\r\n",
      "  copying src/lxml/includes/uri.pxd -> build/lib.macosx-11.0-arm64-3.10/lxml/includes\r\n",
      "  copying src/lxml/includes/etreepublic.pxd -> build/lib.macosx-11.0-arm64-3.10/lxml/includes\r\n",
      "  copying src/lxml/includes/xpath.pxd -> build/lib.macosx-11.0-arm64-3.10/lxml/includes\r\n",
      "  copying src/lxml/includes/htmlparser.pxd -> build/lib.macosx-11.0-arm64-3.10/lxml/includes\r\n",
      "  copying src/lxml/includes/xslt.pxd -> build/lib.macosx-11.0-arm64-3.10/lxml/includes\r\n",
      "  copying src/lxml/includes/config.pxd -> build/lib.macosx-11.0-arm64-3.10/lxml/includes\r\n",
      "  copying src/lxml/includes/xmlparser.pxd -> build/lib.macosx-11.0-arm64-3.10/lxml/includes\r\n",
      "  copying src/lxml/includes/xinclude.pxd -> build/lib.macosx-11.0-arm64-3.10/lxml/includes\r\n",
      "  copying src/lxml/includes/dtdvalid.pxd -> build/lib.macosx-11.0-arm64-3.10/lxml/includes\r\n",
      "  copying src/lxml/includes/relaxng.pxd -> build/lib.macosx-11.0-arm64-3.10/lxml/includes\r\n",
      "  copying src/lxml/includes/lxml-version.h -> build/lib.macosx-11.0-arm64-3.10/lxml/includes\r\n",
      "  copying src/lxml/includes/etree_defs.h -> build/lib.macosx-11.0-arm64-3.10/lxml/includes\r\n",
      "  creating build/lib.macosx-11.0-arm64-3.10/lxml/isoschematron/resources\r\n",
      "  creating build/lib.macosx-11.0-arm64-3.10/lxml/isoschematron/resources/rng\r\n",
      "  copying src/lxml/isoschematron/resources/rng/iso-schematron.rng -> build/lib.macosx-11.0-arm64-3.10/lxml/isoschematron/resources/rng\r\n",
      "  creating build/lib.macosx-11.0-arm64-3.10/lxml/isoschematron/resources/xsl\r\n",
      "  copying src/lxml/isoschematron/resources/xsl/XSD2Schtrn.xsl -> build/lib.macosx-11.0-arm64-3.10/lxml/isoschematron/resources/xsl\r\n",
      "  copying src/lxml/isoschematron/resources/xsl/RNG2Schtrn.xsl -> build/lib.macosx-11.0-arm64-3.10/lxml/isoschematron/resources/xsl\r\n",
      "  creating build/lib.macosx-11.0-arm64-3.10/lxml/isoschematron/resources/xsl/iso-schematron-xslt1\r\n",
      "  copying src/lxml/isoschematron/resources/xsl/iso-schematron-xslt1/iso_abstract_expand.xsl -> build/lib.macosx-11.0-arm64-3.10/lxml/isoschematron/resources/xsl/iso-schematron-xslt1\r\n",
      "  copying src/lxml/isoschematron/resources/xsl/iso-schematron-xslt1/iso_dsdl_include.xsl -> build/lib.macosx-11.0-arm64-3.10/lxml/isoschematron/resources/xsl/iso-schematron-xslt1\r\n",
      "  copying src/lxml/isoschematron/resources/xsl/iso-schematron-xslt1/iso_schematron_skeleton_for_xslt1.xsl -> build/lib.macosx-11.0-arm64-3.10/lxml/isoschematron/resources/xsl/iso-schematron-xslt1\r\n",
      "  copying src/lxml/isoschematron/resources/xsl/iso-schematron-xslt1/iso_svrl_for_xslt1.xsl -> build/lib.macosx-11.0-arm64-3.10/lxml/isoschematron/resources/xsl/iso-schematron-xslt1\r\n",
      "  copying src/lxml/isoschematron/resources/xsl/iso-schematron-xslt1/iso_schematron_message.xsl -> build/lib.macosx-11.0-arm64-3.10/lxml/isoschematron/resources/xsl/iso-schematron-xslt1\r\n",
      "  copying src/lxml/isoschematron/resources/xsl/iso-schematron-xslt1/readme.txt -> build/lib.macosx-11.0-arm64-3.10/lxml/isoschematron/resources/xsl/iso-schematron-xslt1\r\n",
      "  running build_ext\r\n",
      "  building 'lxml.etree' extension\r\n",
      "  creating build/temp.macosx-11.0-arm64-3.10\r\n",
      "  creating build/temp.macosx-11.0-arm64-3.10/src\r\n",
      "  creating build/temp.macosx-11.0-arm64-3.10/src/lxml\r\n",
      "  clang -Wno-unused-result -Wsign-compare -Wunreachable-code -DNDEBUG -fwrapv -O2 -Wall -fPIC -O2 -isystem /Users/GovindShukla/miniforge3/envs/GSCS/include -arch arm64 -fPIC -O2 -isystem /Users/GovindShukla/miniforge3/envs/GSCS/include -arch arm64 -DCYTHON_CLINE_IN_TRACEBACK=0 -I/usr/include -Isrc -Isrc/lxml/includes -I/Users/GovindShukla/miniforge3/envs/GSCS/include/python3.10 -c src/lxml/etree.c -o build/temp.macosx-11.0-arm64-3.10/src/lxml/etree.o -w -flat_namespace\r\n",
      "  xcrun: error: invalid active developer path (/Library/Developer/CommandLineTools), missing xcrun at: /Library/Developer/CommandLineTools/usr/bin/xcrun\r\n",
      "  Compile failed: command '/usr/bin/clang' failed with exit code 1\r\n",
      "  creating var\r\n",
      "  creating var/folders\r\n",
      "  creating var/folders/2f\r\n",
      "  creating var/folders/2f/415rt6t93f15z4j0lsvsxzxc0000gn\r\n",
      "  creating var/folders/2f/415rt6t93f15z4j0lsvsxzxc0000gn/T\r\n",
      "  cc -I/usr/include -I/usr/include/libxml2 -c /var/folders/2f/415rt6t93f15z4j0lsvsxzxc0000gn/T/xmlXPathInitos6njnto.c -o var/folders/2f/415rt6t93f15z4j0lsvsxzxc0000gn/T/xmlXPathInitos6njnto.o\r\n",
      "  xcrun: error: invalid active developer path (/Library/Developer/CommandLineTools), missing xcrun at: /Library/Developer/CommandLineTools/usr/bin/xcrun\r\n",
      "  *********************************************************************************\r\n",
      "  Could not find function xmlCheckVersion in library libxml2. Is libxml2 installed?\r\n",
      "  Perhaps try: xcode-select --install\r\n",
      "  *********************************************************************************\r\n",
      "  error: command '/usr/bin/clang' failed with exit code 1\r\n",
      "  ----------------------------------------\u001B[0m\r\n",
      "\u001B[31m  ERROR: Failed building wheel for lxml\u001B[0m\r\n",
      "\u001B[?25h  Running setup.py clean for lxml\r\n",
      "Failed to build pycocotools lxml\r\n",
      "\u001B[31mERROR: Could not build wheels for pycocotools which use PEP 517 and cannot be installed directly\u001B[0m\r\n"
     ]
    }
   ],
   "source": [
    "!pip install tf-models-official"
   ],
   "metadata": {
    "collapsed": false,
    "pycharm": {
     "name": "#%%\n"
    }
   }
  },
  {
   "cell_type": "code",
   "execution_count": 3,
   "outputs": [
    {
     "name": "stdout",
     "output_type": "stream",
     "text": [
      "Collecting qtconsole\r\n",
      "  Downloading qtconsole-5.4.0-py3-none-any.whl (121 kB)\r\n",
      "\u001B[K     |████████████████████████████████| 121 kB 4.4 MB/s eta 0:00:01\r\n",
      "\u001B[?25hRequirement already satisfied: jupyter-core in /Users/GovindShukla/miniforge3/envs/GSCS/lib/python3.10/site-packages (from qtconsole) (4.11.1)\r\n",
      "Requirement already satisfied: pyzmq>=17.1 in /Users/GovindShukla/miniforge3/envs/GSCS/lib/python3.10/site-packages (from qtconsole) (23.2.0)\r\n",
      "Requirement already satisfied: pygments in /Users/GovindShukla/miniforge3/envs/GSCS/lib/python3.10/site-packages (from qtconsole) (2.11.2)\r\n",
      "Requirement already satisfied: jupyter-client>=4.1 in /Users/GovindShukla/miniforge3/envs/GSCS/lib/python3.10/site-packages (from qtconsole) (7.3.4)\r\n",
      "Requirement already satisfied: ipython-genutils in /Users/GovindShukla/miniforge3/envs/GSCS/lib/python3.10/site-packages (from qtconsole) (0.2.0)\r\n",
      "Requirement already satisfied: ipykernel>=4.1 in /Users/GovindShukla/miniforge3/envs/GSCS/lib/python3.10/site-packages (from qtconsole) (6.15.2)\r\n",
      "Requirement already satisfied: traitlets!=5.2.1,!=5.2.2 in /Users/GovindShukla/miniforge3/envs/GSCS/lib/python3.10/site-packages (from qtconsole) (5.1.1)\r\n",
      "Collecting qtpy>=2.0.1\r\n",
      "  Downloading QtPy-2.3.0-py3-none-any.whl (83 kB)\r\n",
      "\u001B[K     |████████████████████████████████| 83 kB 5.7 MB/s eta 0:00:011\r\n",
      "\u001B[?25hRequirement already satisfied: nest-asyncio in /Users/GovindShukla/miniforge3/envs/GSCS/lib/python3.10/site-packages (from ipykernel>=4.1->qtconsole) (1.5.5)\r\n",
      "Requirement already satisfied: packaging in /Users/GovindShukla/miniforge3/envs/GSCS/lib/python3.10/site-packages (from ipykernel>=4.1->qtconsole) (21.3)\r\n",
      "Requirement already satisfied: matplotlib-inline>=0.1 in /Users/GovindShukla/miniforge3/envs/GSCS/lib/python3.10/site-packages (from ipykernel>=4.1->qtconsole) (0.1.6)\r\n",
      "Requirement already satisfied: appnope in /Users/GovindShukla/miniforge3/envs/GSCS/lib/python3.10/site-packages (from ipykernel>=4.1->qtconsole) (0.1.2)\r\n",
      "Requirement already satisfied: ipython>=7.23.1 in /Users/GovindShukla/miniforge3/envs/GSCS/lib/python3.10/site-packages (from ipykernel>=4.1->qtconsole) (8.4.0)\r\n",
      "Requirement already satisfied: tornado>=6.1 in /Users/GovindShukla/miniforge3/envs/GSCS/lib/python3.10/site-packages (from ipykernel>=4.1->qtconsole) (6.1)\r\n",
      "Requirement already satisfied: psutil in /Users/GovindShukla/miniforge3/envs/GSCS/lib/python3.10/site-packages (from ipykernel>=4.1->qtconsole) (5.9.0)\r\n",
      "Requirement already satisfied: debugpy>=1.0 in /Users/GovindShukla/miniforge3/envs/GSCS/lib/python3.10/site-packages (from ipykernel>=4.1->qtconsole) (1.5.1)\r\n",
      "Requirement already satisfied: decorator in /Users/GovindShukla/miniforge3/envs/GSCS/lib/python3.10/site-packages (from ipython>=7.23.1->ipykernel>=4.1->qtconsole) (5.1.1)\r\n",
      "Requirement already satisfied: backcall in /Users/GovindShukla/miniforge3/envs/GSCS/lib/python3.10/site-packages (from ipython>=7.23.1->ipykernel>=4.1->qtconsole) (0.2.0)\r\n",
      "Requirement already satisfied: jedi>=0.16 in /Users/GovindShukla/miniforge3/envs/GSCS/lib/python3.10/site-packages (from ipython>=7.23.1->ipykernel>=4.1->qtconsole) (0.18.1)\r\n",
      "Requirement already satisfied: setuptools>=18.5 in /Users/GovindShukla/miniforge3/envs/GSCS/lib/python3.10/site-packages (from ipython>=7.23.1->ipykernel>=4.1->qtconsole) (61.2.0)\r\n",
      "Requirement already satisfied: prompt-toolkit!=3.0.0,!=3.0.1,<3.1.0,>=2.0.0 in /Users/GovindShukla/miniforge3/envs/GSCS/lib/python3.10/site-packages (from ipython>=7.23.1->ipykernel>=4.1->qtconsole) (3.0.20)\r\n",
      "Requirement already satisfied: pickleshare in /Users/GovindShukla/miniforge3/envs/GSCS/lib/python3.10/site-packages (from ipython>=7.23.1->ipykernel>=4.1->qtconsole) (0.7.5)\r\n",
      "Requirement already satisfied: stack-data in /Users/GovindShukla/miniforge3/envs/GSCS/lib/python3.10/site-packages (from ipython>=7.23.1->ipykernel>=4.1->qtconsole) (0.2.0)\r\n",
      "Requirement already satisfied: pexpect>4.3 in /Users/GovindShukla/miniforge3/envs/GSCS/lib/python3.10/site-packages (from ipython>=7.23.1->ipykernel>=4.1->qtconsole) (4.8.0)\r\n",
      "Requirement already satisfied: parso<0.9.0,>=0.8.0 in /Users/GovindShukla/miniforge3/envs/GSCS/lib/python3.10/site-packages (from jedi>=0.16->ipython>=7.23.1->ipykernel>=4.1->qtconsole) (0.8.3)\r\n",
      "Requirement already satisfied: python-dateutil>=2.8.2 in /Users/GovindShukla/miniforge3/envs/GSCS/lib/python3.10/site-packages (from jupyter-client>=4.1->qtconsole) (2.8.2)\r\n",
      "Requirement already satisfied: entrypoints in /Users/GovindShukla/miniforge3/envs/GSCS/lib/python3.10/site-packages (from jupyter-client>=4.1->qtconsole) (0.4)\r\n",
      "Requirement already satisfied: ptyprocess>=0.5 in /Users/GovindShukla/miniforge3/envs/GSCS/lib/python3.10/site-packages (from pexpect>4.3->ipython>=7.23.1->ipykernel>=4.1->qtconsole) (0.7.0)\r\n",
      "Requirement already satisfied: wcwidth in /Users/GovindShukla/miniforge3/envs/GSCS/lib/python3.10/site-packages (from prompt-toolkit!=3.0.0,!=3.0.1,<3.1.0,>=2.0.0->ipython>=7.23.1->ipykernel>=4.1->qtconsole) (0.2.5)\r\n",
      "Requirement already satisfied: six>=1.5 in /Users/GovindShukla/miniforge3/envs/GSCS/lib/python3.10/site-packages (from python-dateutil>=2.8.2->jupyter-client>=4.1->qtconsole) (1.16.0)\r\n",
      "Requirement already satisfied: pyparsing!=3.0.5,>=2.0.2 in /Users/GovindShukla/miniforge3/envs/GSCS/lib/python3.10/site-packages (from packaging->ipykernel>=4.1->qtconsole) (3.0.4)\r\n",
      "Requirement already satisfied: executing in /Users/GovindShukla/miniforge3/envs/GSCS/lib/python3.10/site-packages (from stack-data->ipython>=7.23.1->ipykernel>=4.1->qtconsole) (0.8.3)\r\n",
      "Requirement already satisfied: asttokens in /Users/GovindShukla/miniforge3/envs/GSCS/lib/python3.10/site-packages (from stack-data->ipython>=7.23.1->ipykernel>=4.1->qtconsole) (2.0.5)\r\n",
      "Requirement already satisfied: pure-eval in /Users/GovindShukla/miniforge3/envs/GSCS/lib/python3.10/site-packages (from stack-data->ipython>=7.23.1->ipykernel>=4.1->qtconsole) (0.2.2)\r\n",
      "Installing collected packages: qtpy, qtconsole\r\n",
      "Successfully installed qtconsole-5.4.0 qtpy-2.3.0\r\n"
     ]
    }
   ],
   "source": [
    "!pip install qtconsole"
   ],
   "metadata": {
    "collapsed": false,
    "pycharm": {
     "name": "#%%\n"
    }
   }
  },
  {
   "cell_type": "code",
   "execution_count": null,
   "outputs": [],
   "source": [],
   "metadata": {
    "collapsed": false,
    "pycharm": {
     "name": "#%%\n"
    }
   }
  }
 ],
 "metadata": {
  "kernelspec": {
   "display_name": "Python 3 (ipykernel)",
   "language": "python",
   "name": "python3"
  },
  "language_info": {
   "codemirror_mode": {
    "name": "ipython",
    "version": 3
   },
   "file_extension": ".py",
   "mimetype": "text/x-python",
   "name": "python",
   "nbconvert_exporter": "python",
   "pygments_lexer": "ipython3",
   "version": "3.8.11"
  }
 },
 "nbformat": 4,
 "nbformat_minor": 5
}